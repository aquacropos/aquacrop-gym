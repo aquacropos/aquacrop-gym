{
 "cells": [
  {
   "cell_type": "code",
   "execution_count": 1,
   "metadata": {},
   "outputs": [],
   "source": [
    "from aquacrop.classes import *\n",
    "from aquacrop.core import *\n",
    " \n",
    "# import gym\n",
    "# from gym import spaces\n",
    "import numpy as np\n",
    "\n",
    "import pandas as pd\n",
    "import matplotlib.pyplot as plt\n",
    "from aquacrop.lars import *\n",
    "# import math"
   ]
  },
  {
   "cell_type": "code",
   "execution_count": null,
   "metadata": {},
   "outputs": [],
   "source": []
  },
  {
   "cell_type": "code",
   "execution_count": 2,
   "metadata": {},
   "outputs": [],
   "source": [
    "from aquacropgym.utils import calc_eto_faopm\n",
    "from aquacropgym.envs import CropEnv, nebraska_maize_config, cordoba_cotton_config,california_tomato_config\n",
    "from aquacropgym.utils import evaluate_agent,evaluate_agent_single_year\n",
    "from aquacropgym.utils import calc_eto_faopm"
   ]
  },
  {
   "cell_type": "code",
   "execution_count": 3,
   "metadata": {},
   "outputs": [],
   "source": [
    "#CP  Lat.(deg)= 40.40  Long.(deg)=101.73  Elev.(m)=1072.\n",
    "gendf1000=calc_eto_faopm('data/CPWG_1000.dat',1995,40.4,1072,True,[\"simyear\",\"jday\",\"minTemp\",\"maxTemp\",\"precip\",\"rad\"])\n",
    "gendf=calc_eto_faopm('data/CPWG.dat',1995,40.4,1072,True,[\"simyear\",\"jday\",\"minTemp\",\"maxTemp\",\"precip\",\"rad\"])\n",
    "# gendf=calc_eto_faopm('data/CDWG.dat',1995,37.31,110,True,[\"simyear\",\"jday\",\"minTemp\",\"maxTemp\",\"precip\",\"rad\"])\n",
    "# gendf= calc_eto_faopm('data/CLWG.dat',1995,37.49,14.0,True,[\"simyear\",\"jday\",\"minTemp\",\"maxTemp\",\"precip\",\"rad\"])\n"
   ]
  },
  {
   "cell_type": "code",
   "execution_count": 4,
   "metadata": {},
   "outputs": [
    {
     "data": {
      "text/html": [
       "<div>\n",
       "<style scoped>\n",
       "    .dataframe tbody tr th:only-of-type {\n",
       "        vertical-align: middle;\n",
       "    }\n",
       "\n",
       "    .dataframe tbody tr th {\n",
       "        vertical-align: top;\n",
       "    }\n",
       "\n",
       "    .dataframe thead th {\n",
       "        text-align: right;\n",
       "    }\n",
       "</style>\n",
       "<table border=\"1\" class=\"dataframe\">\n",
       "  <thead>\n",
       "    <tr style=\"text-align: right;\">\n",
       "      <th></th>\n",
       "      <th>simyear</th>\n",
       "      <th>MinTemp</th>\n",
       "      <th>MaxTemp</th>\n",
       "      <th>Precipitation</th>\n",
       "      <th>ReferenceET</th>\n",
       "      <th>Date</th>\n",
       "    </tr>\n",
       "  </thead>\n",
       "  <tbody>\n",
       "    <tr>\n",
       "      <th>0</th>\n",
       "      <td>1</td>\n",
       "      <td>-2.1</td>\n",
       "      <td>-1.2</td>\n",
       "      <td>0.0</td>\n",
       "      <td>0.840868</td>\n",
       "      <td>1995-01-01</td>\n",
       "    </tr>\n",
       "    <tr>\n",
       "      <th>1</th>\n",
       "      <td>1</td>\n",
       "      <td>-11.0</td>\n",
       "      <td>18.9</td>\n",
       "      <td>0.0</td>\n",
       "      <td>3.425219</td>\n",
       "      <td>1995-01-02</td>\n",
       "    </tr>\n",
       "    <tr>\n",
       "      <th>2</th>\n",
       "      <td>1</td>\n",
       "      <td>-9.0</td>\n",
       "      <td>8.2</td>\n",
       "      <td>0.0</td>\n",
       "      <td>1.950843</td>\n",
       "      <td>1995-01-03</td>\n",
       "    </tr>\n",
       "    <tr>\n",
       "      <th>3</th>\n",
       "      <td>1</td>\n",
       "      <td>-5.8</td>\n",
       "      <td>16.5</td>\n",
       "      <td>0.0</td>\n",
       "      <td>2.889402</td>\n",
       "      <td>1995-01-04</td>\n",
       "    </tr>\n",
       "    <tr>\n",
       "      <th>4</th>\n",
       "      <td>1</td>\n",
       "      <td>-8.4</td>\n",
       "      <td>-0.8</td>\n",
       "      <td>0.0</td>\n",
       "      <td>1.078832</td>\n",
       "      <td>1995-01-05</td>\n",
       "    </tr>\n",
       "  </tbody>\n",
       "</table>\n",
       "</div>"
      ],
      "text/plain": [
       "   simyear  MinTemp  MaxTemp  Precipitation  ReferenceET       Date\n",
       "0        1     -2.1     -1.2            0.0     0.840868 1995-01-01\n",
       "1        1    -11.0     18.9            0.0     3.425219 1995-01-02\n",
       "2        1     -9.0      8.2            0.0     1.950843 1995-01-03\n",
       "3        1     -5.8     16.5            0.0     2.889402 1995-01-04\n",
       "4        1     -8.4     -0.8            0.0     1.078832 1995-01-05"
      ]
     },
     "execution_count": 4,
     "metadata": {},
     "output_type": "execute_result"
    }
   ],
   "source": [
    "gendf.head()"
   ]
  },
  {
   "cell_type": "code",
   "execution_count": null,
   "metadata": {},
   "outputs": [],
   "source": []
  },
  {
   "cell_type": "code",
   "execution_count": 44,
   "metadata": {},
   "outputs": [],
   "source": [
    "envconfig=nebraska_maize_config.copy()\n",
    "envconfig['gendf']=gendf1000\n",
    "envconfig['year2']=1000\n",
    "envconfig['action_set']='smt4'\n",
    "envconfig['normalize_obs']=True\n",
    "envconfig['include_rain']=True\n",
    "envconfig['observation_set']='default'\n",
    "# envconfig['action_set']='depth_discreet'\n",
    "envconfig['days_to_irr']=2\n",
    "\n",
    "# envconfig['crop']=CropClass('Wheat',PlantingDate='05/01',)\n",
    "# envconfig['planting_date']='05/01'\n",
    "# envconfig['fixed_cost']=0\n",
    "# envconfig['crop_price']=312"
   ]
  },
  {
   "cell_type": "code",
   "execution_count": 6,
   "metadata": {},
   "outputs": [],
   "source": [
    "env=CropEnv(envconfig)\n",
    "# env.get_mean_std(1000)"
   ]
  },
  {
   "cell_type": "code",
   "execution_count": 7,
   "metadata": {},
   "outputs": [
    {
     "data": {
      "text/plain": [
       "array([1.5068182e+01, 6.7727275e+00, 4.4094244e-01, 6.8477272e+01,\n",
       "       1.2823775e+02, 6.5737528e-01, 1.2552679e+03, 2.2174017e+00,\n",
       "       5.9947405e+00, 1.6800790e+02, 4.0232184e+02, 2.2348366e+00,\n",
       "       6.0216384e+00, 0.0000000e+00, 0.0000000e+00, 0.0000000e+00,\n",
       "       0.0000000e+00], dtype=float32)"
      ]
     },
     "execution_count": 7,
     "metadata": {},
     "output_type": "execute_result"
    }
   ],
   "source": [
    "env.mean"
   ]
  },
  {
   "cell_type": "code",
   "execution_count": 8,
   "metadata": {},
   "outputs": [
    {
     "data": {
      "text/plain": [
       "array([8.8430672e+00, 1.2588633e+00, 2.1731496e-01, 3.8057072e+01,\n",
       "       8.1543999e+01, 3.7534222e-01, 1.0305146e+03, 2.6845067e+00,\n",
       "       9.4314069e-01, 1.0874526e+02, 2.4056461e+02, 6.7858462e+00,\n",
       "       1.6485872e+00, 1.0000000e+00, 1.0000000e+00, 1.0000000e+00,\n",
       "       1.0000000e+00], dtype=float32)"
      ]
     },
     "execution_count": 8,
     "metadata": {},
     "output_type": "execute_result"
    }
   ],
   "source": [
    "env.std"
   ]
  },
  {
   "cell_type": "code",
   "execution_count": 9,
   "metadata": {},
   "outputs": [],
   "source": [
    "import ray"
   ]
  },
  {
   "cell_type": "code",
   "execution_count": null,
   "metadata": {},
   "outputs": [],
   "source": []
  },
  {
   "cell_type": "code",
   "execution_count": 45,
   "metadata": {},
   "outputs": [],
   "source": [
    "ray.shutdown()"
   ]
  },
  {
   "cell_type": "code",
   "execution_count": 46,
   "metadata": {},
   "outputs": [
    {
     "data": {
      "text/plain": [
       "{'node_ip_address': '192.168.1.23',\n",
       " 'raylet_ip_address': '192.168.1.23',\n",
       " 'redis_address': None,\n",
       " 'object_store_address': '/tmp/ray/session_2022-04-12_14-19-37_166590_4974/sockets/plasma_store',\n",
       " 'raylet_socket_name': '/tmp/ray/session_2022-04-12_14-19-37_166590_4974/sockets/raylet',\n",
       " 'webui_url': None,\n",
       " 'session_dir': '/tmp/ray/session_2022-04-12_14-19-37_166590_4974',\n",
       " 'metrics_export_port': 59123,\n",
       " 'gcs_address': '192.168.1.23:55693',\n",
       " 'address': '192.168.1.23:55693',\n",
       " 'node_id': '81a8108fc3c3f2073c9e930fadca2f17f82fb96dc150ca8d2f04936f'}"
      ]
     },
     "execution_count": 46,
     "metadata": {},
     "output_type": "execute_result"
    }
   ],
   "source": [
    "ray.init(num_cpus=8,num_gpus=1)"
   ]
  },
  {
   "cell_type": "code",
   "execution_count": 47,
   "metadata": {},
   "outputs": [],
   "source": [
    "from ray.rllib.agents.ppo import ppo\n",
    "\n",
    "config = ppo.DEFAULT_CONFIG.copy()\n",
    "\n",
    "config['num_workers'] = 8\n",
    "config['num_gpus'] = 1\n",
    "config['observation_filter'] = 'NoFilter'\n",
    "\n",
    "# config['num_envs_per_worker'] = 8\n",
    "# config['num_sgd_iter'] = 30\n",
    "# config['lr'] = 3e-5\n",
    "# config['sgd_minibatch_size'] = 1028\n",
    "# config['batch_mode'] = 'complete_episodes'\n",
    "config['rollout_fragment_length'] = 160\n",
    "config['train_batch_size'] = 160*8*20\n",
    "config['model']['fcnet_hiddens'] = [256]*4\n",
    "config['num_cpus_per_worker'] = 0  # This avoids running out of resources in the notebook environment when this cell is re-executed\n",
    "config['framework'] = 'torch'\n",
    "config['gamma'] = 1.\n",
    "config['env_config']=envconfig\n",
    "config['model']['use_lstm'] = False\n",
    "# config['model']['lstm_cell_size'] = 64\n",
    "# config['model']['max_seq_len'] = 40\n",
    "config['model']['vf_share_layers'] = False\n"
   ]
  },
  {
   "cell_type": "code",
   "execution_count": null,
   "metadata": {},
   "outputs": [],
   "source": [
    "from ray.rllib.agents.ars import ars\n",
    "\n",
    "config = ars.DEFAULT_CONFIG.copy()\n",
    "\n",
    "config['num_workers'] = 8\n",
    "config['observation_filter'] = 'NoFilter'\n",
    "config['num_rollouts'] = 100\n",
    "config['rollouts_used'] = 100\n",
    "config['evaluation_config'] = {}\n",
    "# config['num_sgd_iter'] = 30\n",
    "# config['lr'] = 3e-5\n",
    "# config['sgd_minibatch_size'] = 1028\n",
    "# config['batch_mode'] = 'complete_episodes'\n",
    "# config['rollout_fragment_length'] = 150\n",
    "# config['train_batch_size'] = 150*16\n",
    "config['model']['fcnet_hiddens'] = []\n",
    "config['num_cpus_per_worker'] = 0  # This avoids running out of resources in the notebook environment when this cell is re-executed\n",
    "config['framework'] = 'torch'\n",
    "config['gamma'] = 0.99999999\n",
    "config['env_config']=envconfig\n",
    "# config['model']['use_lstm'] = True\n",
    "# config['model']['lstm_cell_size'] = 64\n",
    "# config['model']['max_seq_len'] = 40"
   ]
  },
  {
   "cell_type": "code",
   "execution_count": 34,
   "metadata": {},
   "outputs": [],
   "source": [
    "from ray.rllib.agents.dqn.apex import ApexTrainer,APEX_DEFAULT_CONFIG\n",
    "\n",
    "config=APEX_DEFAULT_CONFIG.copy()\n",
    "config['gamma'] = 1.\n",
    "config['framework'] = 'torch'\n",
    "config['num_workers'] = 8\n",
    "config['num_gpus'] = 0\n",
    "config['hiddens'] = [256]*2\n",
    "config['buffer_size'] = 400_000\n",
    "config['num_cpus_per_worker'] = 0  # This avoids running out of resources in the notebook environment when this cell is re-executed\n",
    "config['env_config']=envconfig\n"
   ]
  },
  {
   "cell_type": "code",
   "execution_count": null,
   "metadata": {},
   "outputs": [],
   "source": [
    "from ray.rllib.agents.impala import impala\n",
    "\n",
    "config = impala.DEFAULT_CONFIG.copy()\n",
    "config['observation_filter'] = 'NoFilter'\n",
    "\n",
    "config['num_workers'] = 8\n",
    "config['num_gpus'] = 0\n",
    "# config['num_envs_per_worker'] = 8\n",
    "# config['num_sgd_iter'] = 30\n",
    "# config['lr'] = 3e-5\n",
    "# config['sgd_minibatch_size'] = 1028\n",
    "# config['batch_mode'] = 'complete_episodes'\n",
    "config['rollout_fragment_length'] = 200\n",
    "config['train_batch_size'] = 200*8\n",
    "config['model']['fcnet_hiddens'] = [256]*2\n",
    "config['num_cpus_per_worker'] = 0  # This avoids running out of resources in the notebook environment when this cell is re-executed\n",
    "config['framework'] = 'torch'\n",
    "config['gamma'] = 0.9999999999\n",
    "config['env_config']=envconfig\n",
    "config['model']['use_lstm'] = False\n",
    "# config['model']['lstm_cell_size'] = 64\n",
    "config['model']['max_seq_len'] = 40\n",
    "# config['model']['seq_len'] = 40\n"
   ]
  },
  {
   "cell_type": "code",
   "execution_count": 25,
   "metadata": {},
   "outputs": [],
   "source": [
    "from ray.rllib.agents.sac import sac\n",
    "\n",
    "config = sac.DEFAULT_CONFIG.copy()\n",
    "config['observation_filter'] = 'NoFilter'\n",
    "\n",
    "config['num_workers'] = 8\n",
    "config['num_gpus'] = 0\n",
    "# config['num_envs_per_worker'] = 8\n",
    "# config['num_sgd_iter'] = 30\n",
    "config['horizon'] = 1000\n",
    "config['target_network_update_freq'] = 1\n",
    "# config['batch_mode'] = 'complete_episodes'\n",
    "config['timesteps_per_iteration'] = 1000\n",
    "config['rollout_fragment_length'] = 1\n",
    "# config['model']['fcnet_hiddens'] = [256]*2\n",
    "config['num_cpus_per_worker'] = 1  # This avoids running out of resources in the notebook environment when this cell is re-executed\n",
    "config['framework'] = 'torch'\n",
    "config['gamma'] = 0.9999999999\n",
    "config['env_config']=envconfig\n",
    "# config['model']['use_lstm'] = False\n",
    "config['prioritized_replay'] = True\n",
    "# config['model']['max_seq_len'] = 40\n",
    "# config['model']['seq_len'] = 40\n",
    "# config['model']['initial_alpha'] = 0.\n",
    "\n"
   ]
  },
  {
   "cell_type": "code",
   "execution_count": null,
   "metadata": {},
   "outputs": [],
   "source": [
    "from ray.rllib.agents.es import ESTrainer,es\n",
    "\n",
    "config = es.DEFAULT_CONFIG.copy()\n",
    "\n",
    "config['env'] = CropEnv\n",
    "config['num_workers'] = 16\n",
    "config['num_gpus'] = 0\n",
    "# config['num_envs_per_worker'] = 8\n",
    "config['observation_filter'] = \"NoFilter\"\n",
    "# config['lr'] = 3e-5\n",
    "# config['sgd_minibatch_size'] = 1028\n",
    "# config['batch_mode'] = 'complete_episodes'\n",
    "# config['rollout_fragment_length'] = 150*16\n",
    "# config['train_batch_size'] = 150*16*8\n",
    "config['model']['fcnet_hiddens'] = [256]*2\n",
    "config['num_cpus_per_worker'] = 0  # This avoids running out of resources in the notebook environment when this cell is re-executed\n",
    "config['framework'] = 'torch'\n",
    "config['gamma'] = 0.99999999\n",
    "config['env_config']=envconfig\n",
    "# config['model']['use_lstm'] = True\n",
    "# config['model']['lstm_cell_size'] = 64\n",
    "# config['model']['max_seq_len'] = 40\n",
    "config['model']['vf_share_layers'] = False\n",
    "\n",
    "# agent = ESTrainer(config)\n",
    "# agent.policy.set_weights(es_weights)\n",
    "# # agent.set_weights(bcweights,)\n",
    "# checkpoint_path = agent.save()\n",
    "# print(checkpoint_path)"
   ]
  },
  {
   "cell_type": "code",
   "execution_count": 48,
   "metadata": {},
   "outputs": [
    {
     "name": "stderr",
     "output_type": "stream",
     "text": [
      "2022-04-12 14:19:55,269\tWARNING util.py:55 -- Install gputil for GPU system monitoring.\n"
     ]
    }
   ],
   "source": [
    "agent = ppo.PPOTrainer(config, CropEnv)\n",
    "# agent = impala.ImpalaTrainer(config, CropEnv)\n",
    "# agent = ApexTrainer(config, CropEnv)\n",
    "\n",
    "# agent = sac.SACTrainer(config, CropEnv)\n",
    "# agent = ESTrainer(config)\n"
   ]
  },
  {
   "cell_type": "code",
   "execution_count": 49,
   "metadata": {},
   "outputs": [],
   "source": [
    "from aquacropgym.utils import evaluate_agent\n",
    "import copy"
   ]
  },
  {
   "cell_type": "code",
   "execution_count": null,
   "metadata": {},
   "outputs": [],
   "source": [
    "# test_env_config=copy.deepcopy(envconfig)\n",
    "# test_env_config['evaluation_run']=True\n",
    "# config['env_config']['days_to_irr']=1\n",
    "\n",
    "# train_rew, test_rew = evaluate_agent(agent,CropEnv,test_env_config)\n",
    "\n",
    "# print(f'Train:{round(train_rew,3)}')\n",
    "# print(f'Test:{round(test_rew,3)}')"
   ]
  },
  {
   "cell_type": "code",
   "execution_count": 50,
   "metadata": {},
   "outputs": [
    {
     "name": "stderr",
     "output_type": "stream",
     "text": [
      "2022-04-12 14:19:55,985\tINFO trainable.py:495 -- Restored on 192.168.1.23 from checkpoint: /home/mbyx3tk2/ray_results/PPOTrainer_CropEnv_2022-04-12_14-08-21cnrvuxc4/checkpoint_000095/checkpoint-95\n",
      "2022-04-12 14:19:55,985\tINFO trainable.py:503 -- Current state after restoring: {'_iteration': 95, '_timesteps_total': 1472000, '_time_total': 3509.791106939316, '_episodes_total': 79760}\n"
     ]
    }
   ],
   "source": [
    "# testconfig=copy.deepcopy(config)\n",
    "# # testconfig['env_config']['days_to_irr']=3\n",
    "\n",
    "# agent = ppo.PPOTrainer(testconfig, CropEnv)\n",
    "# agent = ppo.PPOTrainer(config, CropEnv)\n",
    "\n",
    "# checkpoint_path=\"/home/mbyx3tk2/ray_results/PPO_CropEnv_2022-02-18_14-57-34s8iz8dhe/checkpoint_000270/checkpoint-270\"\n",
    "\n",
    "# # checkpoint_path\n",
    "agent.restore(checkpoint_path)\n",
    "\n",
    "#/home/mbyx3tk2/ray_results/PPOTrainer_CropEnv_2022-04-12_08-47-29l5b4dt2n/checkpoint_000090/checkpoint-90\n"
   ]
  },
  {
   "cell_type": "code",
   "execution_count": 51,
   "metadata": {},
   "outputs": [
    {
     "name": "stdout",
     "output_type": "stream",
     "text": [
      "eval\n",
      "Train:508.408\n",
      "Test:510.211\n",
      "eval\n",
      "Train:509.174\n",
      "Test:513.865\n",
      "\u001b[2m\u001b[36m(RolloutWorker pid=33328)\u001b[0m 441 100 -861.3365539554151\n",
      "\u001b[2m\u001b[36m(RolloutWorker pid=33332)\u001b[0m 49 100 -855.1094752235631\n",
      "\u001b[2m\u001b[36m(RolloutWorker pid=33335)\u001b[0m 699 100 -854.2452942257377\n",
      "\u001b[2m\u001b[36m(RolloutWorker pid=33329)\u001b[0m 904 100 -851.810062360001\n",
      "\u001b[2m\u001b[36m(RolloutWorker pid=33331)\u001b[0m 772 100 -859.7161697456345\n",
      "\u001b[2m\u001b[36m(RolloutWorker pid=33334)\u001b[0m 855 100 -856.7461348100506\n",
      "\u001b[2m\u001b[36m(RolloutWorker pid=33333)\u001b[0m 236 100 -857.7337393283099\n",
      "\u001b[2m\u001b[36m(RolloutWorker pid=33330)\u001b[0m 580 100 -854.548707743973\n",
      "eval\n",
      "Train:509.288\n",
      "Test:513.007\n",
      "eval\n",
      "Train:511.225\n",
      "Test:516.678\n",
      "\u001b[2m\u001b[36m(RolloutWorker pid=33328)\u001b[0m 830 200 -736.2096784959198\n",
      "\u001b[2m\u001b[36m(RolloutWorker pid=33332)\u001b[0m 506 200 -720.4509235591763\n",
      "\u001b[2m\u001b[36m(RolloutWorker pid=33335)\u001b[0m 584 200 -717.3468149053392\n",
      "\u001b[2m\u001b[36m(RolloutWorker pid=33329)\u001b[0m 289 200 -720.4546528924869\n",
      "\u001b[2m\u001b[36m(RolloutWorker pid=33331)\u001b[0m 99 200 -734.1545627992384\n",
      "\u001b[2m\u001b[36m(RolloutWorker pid=33334)\u001b[0m 983 200 -732.527350351355\n",
      "\u001b[2m\u001b[36m(RolloutWorker pid=33333)\u001b[0m 280 200 -727.8700442952379\n",
      "\u001b[2m\u001b[36m(RolloutWorker pid=33330)\u001b[0m 710 200 -725.8883569182937\n",
      "/home/mbyx3tk2/ray_results/PPOTrainer_CropEnv_2022-04-12_14-19-52rf9m0_sj/checkpoint_000100/checkpoint-100\n"
     ]
    },
    {
     "data": {
      "image/png": "[encoded data removed]",
      "text/plain": [
       "<Figure size 432x288 with 1 Axes>"
      ]
     },
     "metadata": {
      "needs_background": "light"
     },
     "output_type": "display_data"
    },
    {
     "name": "stdout",
     "output_type": "stream",
     "text": [
      "eval\n",
      "Train:508.608\n",
      "Test:511.8\n",
      "eval\n",
      "Train:510.602\n",
      "Test:513.176\n",
      "\u001b[2m\u001b[36m(RolloutWorker pid=33332)\u001b[0m 657 300 -600.8825228740184\n",
      "\u001b[2m\u001b[36m(RolloutWorker pid=33335)\u001b[0m 760 300 -603.999208689977\n",
      "\u001b[2m\u001b[36m(RolloutWorker pid=33329)\u001b[0m 436 300 -601.9442519202054\n",
      "\u001b[2m\u001b[36m(RolloutWorker pid=33334)\u001b[0m 277 300 -609.4123539125361\n",
      "\u001b[2m\u001b[36m(RolloutWorker pid=33333)\u001b[0m 875 300 -607.0260711860659\n",
      "\u001b[2m\u001b[36m(RolloutWorker pid=33330)\u001b[0m 710 300 -606.9993478491137\n",
      "\u001b[2m\u001b[36m(RolloutWorker pid=33328)\u001b[0m 495 300 -621.7809641908208\n",
      "\u001b[2m\u001b[36m(RolloutWorker pid=33331)\u001b[0m 977 300 -616.4110781416089\n",
      "eval\n",
      "Train:511.233\n",
      "Test:513.006\n",
      "eval\n",
      "Train:509.92\n",
      "Test:510.99\n",
      "\u001b[2m\u001b[36m(RolloutWorker pid=33328)\u001b[0m 482 400 -523.2381658864273\n",
      "\u001b[2m\u001b[36m(RolloutWorker pid=33332)\u001b[0m 646 400 -487.81141436345445\n",
      "\u001b[2m\u001b[36m(RolloutWorker pid=33335)\u001b[0m 870 400 -493.56781484650344\n",
      "\u001b[2m\u001b[36m(RolloutWorker pid=33329)\u001b[0m 610 400 -493.68514858922356\n",
      "\u001b[2m\u001b[36m(RolloutWorker pid=33331)\u001b[0m 534 400 -501.7891977342487\n",
      "\u001b[2m\u001b[36m(RolloutWorker pid=33334)\u001b[0m 812 400 -494.38856988555006\n",
      "\u001b[2m\u001b[36m(RolloutWorker pid=33333)\u001b[0m 279 400 -498.5823482754225\n",
      "\u001b[2m\u001b[36m(RolloutWorker pid=33330)\u001b[0m 568 400 -503.3748700834903\n",
      "eval\n",
      "Train:513.091\n",
      "Test:512.606\n",
      "/home/mbyx3tk2/ray_results/PPOTrainer_CropEnv_2022-04-12_14-19-52rf9m0_sj/checkpoint_000105/checkpoint-105\n"
     ]
    },
    {
     "data": {
      "image/png": "[encoded data removed]",
      "text/plain": [
       "<Figure size 432x288 with 1 Axes>"
      ]
     },
     "metadata": {
      "needs_background": "light"
     },
     "output_type": "display_data"
    },
    {
     "name": "stdout",
     "output_type": "stream",
     "text": [
      "eval\n",
      "Train:507.835\n",
      "Test:516.385\n",
      "\u001b[2m\u001b[36m(RolloutWorker pid=33328)\u001b[0m 234 500 -436.59241820386893\n",
      "\u001b[2m\u001b[36m(RolloutWorker pid=33332)\u001b[0m 654 500 -390.8526938621884\n",
      "\u001b[2m\u001b[36m(RolloutWorker pid=33335)\u001b[0m 172 500 -395.5150465622849\n",
      "\u001b[2m\u001b[36m(RolloutWorker pid=33329)\u001b[0m 328 500 -394.0001295965048\n",
      "\u001b[2m\u001b[36m(RolloutWorker pid=33331)\u001b[0m 410 500 -403.43916906199354\n",
      "\u001b[2m\u001b[36m(RolloutWorker pid=33334)\u001b[0m 939 500 -403.45261092019547\n",
      "\u001b[2m\u001b[36m(RolloutWorker pid=33333)\u001b[0m 913 500 -402.39877398632336\n",
      "\u001b[2m\u001b[36m(RolloutWorker pid=33330)\u001b[0m 505 500 -397.10628134474473\n",
      "eval\n",
      "Train:508.575\n",
      "Test:519.962\n",
      "eval\n",
      "Train:511.135\n",
      "Test:514.343\n",
      "\u001b[2m\u001b[36m(RolloutWorker pid=33328)\u001b[0m 240 600 -343.20350989951\n",
      "\u001b[2m\u001b[36m(RolloutWorker pid=33329)\u001b[0m 761 600 -303.12918745799095\n",
      "\u001b[2m\u001b[36m(RolloutWorker pid=33331)\u001b[0m 995 600 -309.7181649261692\n",
      "\u001b[2m\u001b[36m(RolloutWorker pid=33334)\u001b[0m 692 600 -315.0187271651472\n",
      "\u001b[2m\u001b[36m(RolloutWorker pid=33333)\u001b[0m 407 600 -307.1197046968868\n",
      "\u001b[2m\u001b[36m(RolloutWorker pid=33330)\u001b[0m 207 600 -315.5500161186792\n",
      "\u001b[2m\u001b[36m(RolloutWorker pid=33332)\u001b[0m 305 600 -308.5065517306048\n",
      "\u001b[2m\u001b[36m(RolloutWorker pid=33335)\u001b[0m 648 600 -316.9562927774491\n",
      "eval\n",
      "Train:508.911\n",
      "Test:510.311\n",
      "eval\n",
      "Train:508.628\n",
      "Test:515.583\n",
      "\u001b[2m\u001b[36m(RolloutWorker pid=33332)\u001b[0m 217 700 -229.1388087783163\n",
      "\u001b[2m\u001b[36m(RolloutWorker pid=33335)\u001b[0m 365 700 -246.42881666045741\n",
      "\u001b[2m\u001b[36m(RolloutWorker pid=33334)\u001b[0m 231 700 -238.11551997735828\n",
      "\u001b[2m\u001b[36m(RolloutWorker pid=33330)\u001b[0m 216 700 -240.40892284914509\n",
      "\u001b[2m\u001b[36m(RolloutWorker pid=33328)\u001b[0m 647 700 -264.0971592892543\n",
      "\u001b[2m\u001b[36m(RolloutWorker pid=33329)\u001b[0m 246 700 -238.30457495219855\n",
      "\u001b[2m\u001b[36m(RolloutWorker pid=33331)\u001b[0m 233 700 -233.11393632496655\n",
      "\u001b[2m\u001b[36m(RolloutWorker pid=33333)\u001b[0m 364 700 -215.56404729975432\n",
      "/home/mbyx3tk2/ray_results/PPOTrainer_CropEnv_2022-04-12_14-19-52rf9m0_sj/checkpoint_000110/checkpoint-110\n"
     ]
    },
    {
     "data": {
      "image/png": "[encoded data removed]",
      "text/plain": [
       "<Figure size 432x288 with 1 Axes>"
      ]
     },
     "metadata": {
      "needs_background": "light"
     },
     "output_type": "display_data"
    },
    {
     "name": "stdout",
     "output_type": "stream",
     "text": [
      "eval\n",
      "Train:511.854\n",
      "Test:513.836\n",
      "eval\n",
      "Train:509.077\n",
      "Test:512.006\n",
      "\u001b[2m\u001b[36m(RolloutWorker pid=33328)\u001b[0m 30 800 -185.2120850783093\n",
      "\u001b[2m\u001b[36m(RolloutWorker pid=33332)\u001b[0m 489 800 -168.9432081257755\n",
      "\u001b[2m\u001b[36m(RolloutWorker pid=33335)\u001b[0m 743 800 -177.13346670387537\n",
      "\u001b[2m\u001b[36m(RolloutWorker pid=33329)\u001b[0m 101 800 -171.02063119937714\n",
      "\u001b[2m\u001b[36m(RolloutWorker pid=33331)\u001b[0m 71 800 -150.16082745225307\n",
      "\u001b[2m\u001b[36m(RolloutWorker pid=33334)\u001b[0m 733 800 -164.4562423210219\n",
      "\u001b[2m\u001b[36m(RolloutWorker pid=33333)\u001b[0m 899 800 -145.87821634218741\n",
      "\u001b[2m\u001b[36m(RolloutWorker pid=33330)\u001b[0m 694 800 -177.6253836575825\n"
     ]
    },
    {
     "ename": "KeyboardInterrupt",
     "evalue": "",
     "output_type": "error",
     "traceback": [
      "\u001b[0;31m---------------------------------------------------------------------------\u001b[0m",
      "\u001b[0;31mKeyboardInterrupt\u001b[0m                         Traceback (most recent call last)",
      "\u001b[0;32m<ipython-input-51-3d9028f789b4>\u001b[0m in \u001b[0;36m<module>\u001b[0;34m\u001b[0m\n\u001b[1;32m      4\u001b[0m \u001b[0;34m\u001b[0m\u001b[0m\n\u001b[1;32m      5\u001b[0m \u001b[0;32mfor\u001b[0m \u001b[0mi\u001b[0m \u001b[0;32min\u001b[0m \u001b[0mrange\u001b[0m\u001b[0;34m(\u001b[0m\u001b[0;36m1\u001b[0m\u001b[0;34m,\u001b[0m\u001b[0;36m500001\u001b[0m\u001b[0;34m)\u001b[0m\u001b[0;34m:\u001b[0m\u001b[0;34m\u001b[0m\u001b[0;34m\u001b[0m\u001b[0m\n\u001b[0;32m----> 6\u001b[0;31m     \u001b[0mresult\u001b[0m \u001b[0;34m=\u001b[0m \u001b[0magent\u001b[0m\u001b[0;34m.\u001b[0m\u001b[0mtrain\u001b[0m\u001b[0;34m(\u001b[0m\u001b[0;34m)\u001b[0m\u001b[0;34m\u001b[0m\u001b[0;34m\u001b[0m\u001b[0m\n\u001b[0m\u001b[1;32m      7\u001b[0m \u001b[0;34m\u001b[0m\u001b[0m\n\u001b[1;32m      8\u001b[0m     \u001b[0mts\u001b[0m \u001b[0;34m=\u001b[0m \u001b[0mresult\u001b[0m\u001b[0;34m[\u001b[0m\u001b[0;34m'timesteps_total'\u001b[0m\u001b[0;34m]\u001b[0m\u001b[0;34m\u001b[0m\u001b[0;34m\u001b[0m\u001b[0m\n",
      "\u001b[0;32m~/anaconda3/envs/rllib/lib/python3.8/site-packages/ray/tune/trainable.py\u001b[0m in \u001b[0;36mtrain\u001b[0;34m(self)\u001b[0m\n\u001b[1;32m    317\u001b[0m         \"\"\"\n\u001b[1;32m    318\u001b[0m         \u001b[0mstart\u001b[0m \u001b[0;34m=\u001b[0m \u001b[0mtime\u001b[0m\u001b[0;34m.\u001b[0m\u001b[0mtime\u001b[0m\u001b[0;34m(\u001b[0m\u001b[0;34m)\u001b[0m\u001b[0;34m\u001b[0m\u001b[0;34m\u001b[0m\u001b[0m\n\u001b[0;32m--> 319\u001b[0;31m         \u001b[0mresult\u001b[0m \u001b[0;34m=\u001b[0m \u001b[0mself\u001b[0m\u001b[0;34m.\u001b[0m\u001b[0mstep\u001b[0m\u001b[0;34m(\u001b[0m\u001b[0;34m)\u001b[0m\u001b[0;34m\u001b[0m\u001b[0;34m\u001b[0m\u001b[0m\n\u001b[0m\u001b[1;32m    320\u001b[0m         \u001b[0;32massert\u001b[0m \u001b[0misinstance\u001b[0m\u001b[0;34m(\u001b[0m\u001b[0mresult\u001b[0m\u001b[0;34m,\u001b[0m \u001b[0mdict\u001b[0m\u001b[0;34m)\u001b[0m\u001b[0;34m,\u001b[0m \u001b[0;34m\"step() needs to return a dict.\"\u001b[0m\u001b[0;34m\u001b[0m\u001b[0;34m\u001b[0m\u001b[0m\n\u001b[1;32m    321\u001b[0m \u001b[0;34m\u001b[0m\u001b[0m\n",
      "\u001b[0;32m~/anaconda3/envs/rllib/lib/python3.8/site-packages/ray/rllib/agents/trainer.py\u001b[0m in \u001b[0;36mstep\u001b[0;34m(self)\u001b[0m\n\u001b[1;32m    963\u001b[0m                 \u001b[0;31m# Try to train one step.\u001b[0m\u001b[0;34m\u001b[0m\u001b[0;34m\u001b[0m\u001b[0;34m\u001b[0m\u001b[0m\n\u001b[1;32m    964\u001b[0m                 \u001b[0;32mtry\u001b[0m\u001b[0;34m:\u001b[0m\u001b[0;34m\u001b[0m\u001b[0;34m\u001b[0m\u001b[0m\n\u001b[0;32m--> 965\u001b[0;31m                     \u001b[0mstep_attempt_results\u001b[0m \u001b[0;34m=\u001b[0m \u001b[0mself\u001b[0m\u001b[0;34m.\u001b[0m\u001b[0mstep_attempt\u001b[0m\u001b[0;34m(\u001b[0m\u001b[0;34m)\u001b[0m\u001b[0;34m\u001b[0m\u001b[0;34m\u001b[0m\u001b[0m\n\u001b[0m\u001b[1;32m    966\u001b[0m                 \u001b[0;31m# @ray.remote RolloutWorker failure.\u001b[0m\u001b[0;34m\u001b[0m\u001b[0;34m\u001b[0m\u001b[0;34m\u001b[0m\u001b[0m\n\u001b[1;32m    967\u001b[0m                 \u001b[0;32mexcept\u001b[0m \u001b[0mRayError\u001b[0m \u001b[0;32mas\u001b[0m \u001b[0me\u001b[0m\u001b[0;34m:\u001b[0m\u001b[0;34m\u001b[0m\u001b[0;34m\u001b[0m\u001b[0m\n",
      "\u001b[0;32m~/anaconda3/envs/rllib/lib/python3.8/site-packages/ray/rllib/agents/trainer.py\u001b[0m in \u001b[0;36mstep_attempt\u001b[0;34m(self)\u001b[0m\n\u001b[1;32m   1042\u001b[0m         \u001b[0;31m# No evaluation necessary, just run the next training iteration.\u001b[0m\u001b[0;34m\u001b[0m\u001b[0;34m\u001b[0m\u001b[0;34m\u001b[0m\u001b[0m\n\u001b[1;32m   1043\u001b[0m         \u001b[0;32mif\u001b[0m \u001b[0;32mnot\u001b[0m \u001b[0mevaluate_this_iter\u001b[0m\u001b[0;34m:\u001b[0m\u001b[0;34m\u001b[0m\u001b[0;34m\u001b[0m\u001b[0m\n\u001b[0;32m-> 1044\u001b[0;31m             \u001b[0mstep_results\u001b[0m \u001b[0;34m=\u001b[0m \u001b[0mself\u001b[0m\u001b[0;34m.\u001b[0m\u001b[0m_exec_plan_or_training_iteration_fn\u001b[0m\u001b[0;34m(\u001b[0m\u001b[0;34m)\u001b[0m\u001b[0;34m\u001b[0m\u001b[0;34m\u001b[0m\u001b[0m\n\u001b[0m\u001b[1;32m   1045\u001b[0m         \u001b[0;31m# We have to evaluate in this training iteration.\u001b[0m\u001b[0;34m\u001b[0m\u001b[0;34m\u001b[0m\u001b[0;34m\u001b[0m\u001b[0m\n\u001b[1;32m   1046\u001b[0m         \u001b[0;32melse\u001b[0m\u001b[0;34m:\u001b[0m\u001b[0;34m\u001b[0m\u001b[0;34m\u001b[0m\u001b[0m\n",
      "\u001b[0;32m~/anaconda3/envs/rllib/lib/python3.8/site-packages/ray/rllib/agents/trainer.py\u001b[0m in \u001b[0;36m_exec_plan_or_training_iteration_fn\u001b[0;34m(self)\u001b[0m\n\u001b[1;32m   2030\u001b[0m             \u001b[0mresults\u001b[0m \u001b[0;34m=\u001b[0m \u001b[0mself\u001b[0m\u001b[0;34m.\u001b[0m\u001b[0mtraining_iteration\u001b[0m\u001b[0;34m(\u001b[0m\u001b[0;34m)\u001b[0m\u001b[0;34m\u001b[0m\u001b[0;34m\u001b[0m\u001b[0m\n\u001b[1;32m   2031\u001b[0m         \u001b[0;32melse\u001b[0m\u001b[0;34m:\u001b[0m\u001b[0;34m\u001b[0m\u001b[0;34m\u001b[0m\u001b[0m\n\u001b[0;32m-> 2032\u001b[0;31m             \u001b[0mresults\u001b[0m \u001b[0;34m=\u001b[0m \u001b[0mnext\u001b[0m\u001b[0;34m(\u001b[0m\u001b[0mself\u001b[0m\u001b[0;34m.\u001b[0m\u001b[0mtrain_exec_impl\u001b[0m\u001b[0;34m)\u001b[0m\u001b[0;34m\u001b[0m\u001b[0;34m\u001b[0m\u001b[0m\n\u001b[0m\u001b[1;32m   2033\u001b[0m         \u001b[0;32mreturn\u001b[0m \u001b[0mresults\u001b[0m\u001b[0;34m\u001b[0m\u001b[0;34m\u001b[0m\u001b[0m\n\u001b[1;32m   2034\u001b[0m \u001b[0;34m\u001b[0m\u001b[0m\n",
      "\u001b[0;32m~/anaconda3/envs/rllib/lib/python3.8/site-packages/ray/util/iter.py\u001b[0m in \u001b[0;36m__next__\u001b[0;34m(self)\u001b[0m\n\u001b[1;32m    754\u001b[0m     \u001b[0;32mdef\u001b[0m \u001b[0m__next__\u001b[0m\u001b[0;34m(\u001b[0m\u001b[0mself\u001b[0m\u001b[0;34m)\u001b[0m\u001b[0;34m:\u001b[0m\u001b[0;34m\u001b[0m\u001b[0;34m\u001b[0m\u001b[0m\n\u001b[1;32m    755\u001b[0m         \u001b[0mself\u001b[0m\u001b[0;34m.\u001b[0m\u001b[0m_build_once\u001b[0m\u001b[0;34m(\u001b[0m\u001b[0;34m)\u001b[0m\u001b[0;34m\u001b[0m\u001b[0;34m\u001b[0m\u001b[0m\n\u001b[0;32m--> 756\u001b[0;31m         \u001b[0;32mreturn\u001b[0m \u001b[0mnext\u001b[0m\u001b[0;34m(\u001b[0m\u001b[0mself\u001b[0m\u001b[0;34m.\u001b[0m\u001b[0mbuilt_iterator\u001b[0m\u001b[0;34m)\u001b[0m\u001b[0;34m\u001b[0m\u001b[0;34m\u001b[0m\u001b[0m\n\u001b[0m\u001b[1;32m    757\u001b[0m \u001b[0;34m\u001b[0m\u001b[0m\n\u001b[1;32m    758\u001b[0m     \u001b[0;32mdef\u001b[0m \u001b[0m__str__\u001b[0m\u001b[0;34m(\u001b[0m\u001b[0mself\u001b[0m\u001b[0;34m)\u001b[0m\u001b[0;34m:\u001b[0m\u001b[0;34m\u001b[0m\u001b[0;34m\u001b[0m\u001b[0m\n",
      "\u001b[0;32m~/anaconda3/envs/rllib/lib/python3.8/site-packages/ray/util/iter.py\u001b[0m in \u001b[0;36mapply_foreach\u001b[0;34m(it)\u001b[0m\n\u001b[1;32m    781\u001b[0m \u001b[0;34m\u001b[0m\u001b[0m\n\u001b[1;32m    782\u001b[0m             \u001b[0;32mdef\u001b[0m \u001b[0mapply_foreach\u001b[0m\u001b[0;34m(\u001b[0m\u001b[0mit\u001b[0m\u001b[0;34m)\u001b[0m\u001b[0;34m:\u001b[0m\u001b[0;34m\u001b[0m\u001b[0;34m\u001b[0m\u001b[0m\n\u001b[0;32m--> 783\u001b[0;31m                 \u001b[0;32mfor\u001b[0m \u001b[0mitem\u001b[0m \u001b[0;32min\u001b[0m \u001b[0mit\u001b[0m\u001b[0;34m:\u001b[0m\u001b[0;34m\u001b[0m\u001b[0;34m\u001b[0m\u001b[0m\n\u001b[0m\u001b[1;32m    784\u001b[0m                     \u001b[0;32mif\u001b[0m \u001b[0misinstance\u001b[0m\u001b[0;34m(\u001b[0m\u001b[0mitem\u001b[0m\u001b[0;34m,\u001b[0m \u001b[0m_NextValueNotReady\u001b[0m\u001b[0;34m)\u001b[0m\u001b[0;34m:\u001b[0m\u001b[0;34m\u001b[0m\u001b[0;34m\u001b[0m\u001b[0m\n\u001b[1;32m    785\u001b[0m                         \u001b[0;32myield\u001b[0m \u001b[0mitem\u001b[0m\u001b[0;34m\u001b[0m\u001b[0;34m\u001b[0m\u001b[0m\n",
      "\u001b[0;32m~/anaconda3/envs/rllib/lib/python3.8/site-packages/ray/util/iter.py\u001b[0m in \u001b[0;36mapply_foreach\u001b[0;34m(it)\u001b[0m\n\u001b[1;32m    781\u001b[0m \u001b[0;34m\u001b[0m\u001b[0m\n\u001b[1;32m    782\u001b[0m             \u001b[0;32mdef\u001b[0m \u001b[0mapply_foreach\u001b[0m\u001b[0;34m(\u001b[0m\u001b[0mit\u001b[0m\u001b[0;34m)\u001b[0m\u001b[0;34m:\u001b[0m\u001b[0;34m\u001b[0m\u001b[0;34m\u001b[0m\u001b[0m\n\u001b[0;32m--> 783\u001b[0;31m                 \u001b[0;32mfor\u001b[0m \u001b[0mitem\u001b[0m \u001b[0;32min\u001b[0m \u001b[0mit\u001b[0m\u001b[0;34m:\u001b[0m\u001b[0;34m\u001b[0m\u001b[0;34m\u001b[0m\u001b[0m\n\u001b[0m\u001b[1;32m    784\u001b[0m                     \u001b[0;32mif\u001b[0m \u001b[0misinstance\u001b[0m\u001b[0;34m(\u001b[0m\u001b[0mitem\u001b[0m\u001b[0;34m,\u001b[0m \u001b[0m_NextValueNotReady\u001b[0m\u001b[0;34m)\u001b[0m\u001b[0;34m:\u001b[0m\u001b[0;34m\u001b[0m\u001b[0;34m\u001b[0m\u001b[0m\n\u001b[1;32m    785\u001b[0m                         \u001b[0;32myield\u001b[0m \u001b[0mitem\u001b[0m\u001b[0;34m\u001b[0m\u001b[0;34m\u001b[0m\u001b[0m\n",
      "\u001b[0;32m~/anaconda3/envs/rllib/lib/python3.8/site-packages/ray/util/iter.py\u001b[0m in \u001b[0;36mapply_filter\u001b[0;34m(it)\u001b[0m\n\u001b[1;32m    841\u001b[0m     \u001b[0;32mdef\u001b[0m \u001b[0mfilter\u001b[0m\u001b[0;34m(\u001b[0m\u001b[0mself\u001b[0m\u001b[0;34m,\u001b[0m \u001b[0mfn\u001b[0m\u001b[0;34m:\u001b[0m \u001b[0mCallable\u001b[0m\u001b[0;34m[\u001b[0m\u001b[0;34m[\u001b[0m\u001b[0mT\u001b[0m\u001b[0;34m]\u001b[0m\u001b[0;34m,\u001b[0m \u001b[0mbool\u001b[0m\u001b[0;34m]\u001b[0m\u001b[0;34m)\u001b[0m \u001b[0;34m->\u001b[0m \u001b[0;34m\"LocalIterator[T]\"\u001b[0m\u001b[0;34m:\u001b[0m\u001b[0;34m\u001b[0m\u001b[0;34m\u001b[0m\u001b[0m\n\u001b[1;32m    842\u001b[0m         \u001b[0;32mdef\u001b[0m \u001b[0mapply_filter\u001b[0m\u001b[0;34m(\u001b[0m\u001b[0mit\u001b[0m\u001b[0;34m)\u001b[0m\u001b[0;34m:\u001b[0m\u001b[0;34m\u001b[0m\u001b[0;34m\u001b[0m\u001b[0m\n\u001b[0;32m--> 843\u001b[0;31m             \u001b[0;32mfor\u001b[0m \u001b[0mitem\u001b[0m \u001b[0;32min\u001b[0m \u001b[0mit\u001b[0m\u001b[0;34m:\u001b[0m\u001b[0;34m\u001b[0m\u001b[0;34m\u001b[0m\u001b[0m\n\u001b[0m\u001b[1;32m    844\u001b[0m                 \u001b[0;32mwith\u001b[0m \u001b[0mself\u001b[0m\u001b[0;34m.\u001b[0m\u001b[0m_metrics_context\u001b[0m\u001b[0;34m(\u001b[0m\u001b[0;34m)\u001b[0m\u001b[0;34m:\u001b[0m\u001b[0;34m\u001b[0m\u001b[0;34m\u001b[0m\u001b[0m\n\u001b[1;32m    845\u001b[0m                     \u001b[0;32mif\u001b[0m \u001b[0misinstance\u001b[0m\u001b[0;34m(\u001b[0m\u001b[0mitem\u001b[0m\u001b[0;34m,\u001b[0m \u001b[0m_NextValueNotReady\u001b[0m\u001b[0;34m)\u001b[0m \u001b[0;32mor\u001b[0m \u001b[0mfn\u001b[0m\u001b[0;34m(\u001b[0m\u001b[0mitem\u001b[0m\u001b[0;34m)\u001b[0m\u001b[0;34m:\u001b[0m\u001b[0;34m\u001b[0m\u001b[0;34m\u001b[0m\u001b[0m\n",
      "\u001b[0;32m~/anaconda3/envs/rllib/lib/python3.8/site-packages/ray/util/iter.py\u001b[0m in \u001b[0;36mapply_filter\u001b[0;34m(it)\u001b[0m\n\u001b[1;32m    841\u001b[0m     \u001b[0;32mdef\u001b[0m \u001b[0mfilter\u001b[0m\u001b[0;34m(\u001b[0m\u001b[0mself\u001b[0m\u001b[0;34m,\u001b[0m \u001b[0mfn\u001b[0m\u001b[0;34m:\u001b[0m \u001b[0mCallable\u001b[0m\u001b[0;34m[\u001b[0m\u001b[0;34m[\u001b[0m\u001b[0mT\u001b[0m\u001b[0;34m]\u001b[0m\u001b[0;34m,\u001b[0m \u001b[0mbool\u001b[0m\u001b[0;34m]\u001b[0m\u001b[0;34m)\u001b[0m \u001b[0;34m->\u001b[0m \u001b[0;34m\"LocalIterator[T]\"\u001b[0m\u001b[0;34m:\u001b[0m\u001b[0;34m\u001b[0m\u001b[0;34m\u001b[0m\u001b[0m\n\u001b[1;32m    842\u001b[0m         \u001b[0;32mdef\u001b[0m \u001b[0mapply_filter\u001b[0m\u001b[0;34m(\u001b[0m\u001b[0mit\u001b[0m\u001b[0;34m)\u001b[0m\u001b[0;34m:\u001b[0m\u001b[0;34m\u001b[0m\u001b[0;34m\u001b[0m\u001b[0m\n\u001b[0;32m--> 843\u001b[0;31m             \u001b[0;32mfor\u001b[0m \u001b[0mitem\u001b[0m \u001b[0;32min\u001b[0m \u001b[0mit\u001b[0m\u001b[0;34m:\u001b[0m\u001b[0;34m\u001b[0m\u001b[0;34m\u001b[0m\u001b[0m\n\u001b[0m\u001b[1;32m    844\u001b[0m                 \u001b[0;32mwith\u001b[0m \u001b[0mself\u001b[0m\u001b[0;34m.\u001b[0m\u001b[0m_metrics_context\u001b[0m\u001b[0;34m(\u001b[0m\u001b[0;34m)\u001b[0m\u001b[0;34m:\u001b[0m\u001b[0;34m\u001b[0m\u001b[0;34m\u001b[0m\u001b[0m\n\u001b[1;32m    845\u001b[0m                     \u001b[0;32mif\u001b[0m \u001b[0misinstance\u001b[0m\u001b[0;34m(\u001b[0m\u001b[0mitem\u001b[0m\u001b[0;34m,\u001b[0m \u001b[0m_NextValueNotReady\u001b[0m\u001b[0;34m)\u001b[0m \u001b[0;32mor\u001b[0m \u001b[0mfn\u001b[0m\u001b[0;34m(\u001b[0m\u001b[0mitem\u001b[0m\u001b[0;34m)\u001b[0m\u001b[0;34m:\u001b[0m\u001b[0;34m\u001b[0m\u001b[0;34m\u001b[0m\u001b[0m\n",
      "\u001b[0;32m~/anaconda3/envs/rllib/lib/python3.8/site-packages/ray/util/iter.py\u001b[0m in \u001b[0;36mapply_foreach\u001b[0;34m(it)\u001b[0m\n\u001b[1;32m    781\u001b[0m \u001b[0;34m\u001b[0m\u001b[0m\n\u001b[1;32m    782\u001b[0m             \u001b[0;32mdef\u001b[0m \u001b[0mapply_foreach\u001b[0m\u001b[0;34m(\u001b[0m\u001b[0mit\u001b[0m\u001b[0;34m)\u001b[0m\u001b[0;34m:\u001b[0m\u001b[0;34m\u001b[0m\u001b[0;34m\u001b[0m\u001b[0m\n\u001b[0;32m--> 783\u001b[0;31m                 \u001b[0;32mfor\u001b[0m \u001b[0mitem\u001b[0m \u001b[0;32min\u001b[0m \u001b[0mit\u001b[0m\u001b[0;34m:\u001b[0m\u001b[0;34m\u001b[0m\u001b[0;34m\u001b[0m\u001b[0m\n\u001b[0m\u001b[1;32m    784\u001b[0m                     \u001b[0;32mif\u001b[0m \u001b[0misinstance\u001b[0m\u001b[0;34m(\u001b[0m\u001b[0mitem\u001b[0m\u001b[0;34m,\u001b[0m \u001b[0m_NextValueNotReady\u001b[0m\u001b[0;34m)\u001b[0m\u001b[0;34m:\u001b[0m\u001b[0;34m\u001b[0m\u001b[0;34m\u001b[0m\u001b[0m\n\u001b[1;32m    785\u001b[0m                         \u001b[0;32myield\u001b[0m \u001b[0mitem\u001b[0m\u001b[0;34m\u001b[0m\u001b[0;34m\u001b[0m\u001b[0m\n",
      "\u001b[0;32m~/anaconda3/envs/rllib/lib/python3.8/site-packages/ray/util/iter.py\u001b[0m in \u001b[0;36mapply_foreach\u001b[0;34m(it)\u001b[0m\n\u001b[1;32m    781\u001b[0m \u001b[0;34m\u001b[0m\u001b[0m\n\u001b[1;32m    782\u001b[0m             \u001b[0;32mdef\u001b[0m \u001b[0mapply_foreach\u001b[0m\u001b[0;34m(\u001b[0m\u001b[0mit\u001b[0m\u001b[0;34m)\u001b[0m\u001b[0;34m:\u001b[0m\u001b[0;34m\u001b[0m\u001b[0;34m\u001b[0m\u001b[0m\n\u001b[0;32m--> 783\u001b[0;31m                 \u001b[0;32mfor\u001b[0m \u001b[0mitem\u001b[0m \u001b[0;32min\u001b[0m \u001b[0mit\u001b[0m\u001b[0;34m:\u001b[0m\u001b[0;34m\u001b[0m\u001b[0;34m\u001b[0m\u001b[0m\n\u001b[0m\u001b[1;32m    784\u001b[0m                     \u001b[0;32mif\u001b[0m \u001b[0misinstance\u001b[0m\u001b[0;34m(\u001b[0m\u001b[0mitem\u001b[0m\u001b[0;34m,\u001b[0m \u001b[0m_NextValueNotReady\u001b[0m\u001b[0;34m)\u001b[0m\u001b[0;34m:\u001b[0m\u001b[0;34m\u001b[0m\u001b[0;34m\u001b[0m\u001b[0m\n\u001b[1;32m    785\u001b[0m                         \u001b[0;32myield\u001b[0m \u001b[0mitem\u001b[0m\u001b[0;34m\u001b[0m\u001b[0;34m\u001b[0m\u001b[0m\n",
      "\u001b[0;32m~/anaconda3/envs/rllib/lib/python3.8/site-packages/ray/util/iter.py\u001b[0m in \u001b[0;36mapply_foreach\u001b[0;34m(it)\u001b[0m\n\u001b[1;32m    789\u001b[0m                         \u001b[0;32mwhile\u001b[0m \u001b[0;32mTrue\u001b[0m\u001b[0;34m:\u001b[0m\u001b[0;34m\u001b[0m\u001b[0;34m\u001b[0m\u001b[0m\n\u001b[1;32m    790\u001b[0m                             \u001b[0;32mwith\u001b[0m \u001b[0mself\u001b[0m\u001b[0;34m.\u001b[0m\u001b[0m_metrics_context\u001b[0m\u001b[0;34m(\u001b[0m\u001b[0;34m)\u001b[0m\u001b[0;34m:\u001b[0m\u001b[0;34m\u001b[0m\u001b[0;34m\u001b[0m\u001b[0m\n\u001b[0;32m--> 791\u001b[0;31m                                 \u001b[0mresult\u001b[0m \u001b[0;34m=\u001b[0m \u001b[0mfn\u001b[0m\u001b[0;34m(\u001b[0m\u001b[0mitem\u001b[0m\u001b[0;34m)\u001b[0m\u001b[0;34m\u001b[0m\u001b[0;34m\u001b[0m\u001b[0m\n\u001b[0m\u001b[1;32m    792\u001b[0m                             \u001b[0;32myield\u001b[0m \u001b[0mresult\u001b[0m\u001b[0;34m\u001b[0m\u001b[0;34m\u001b[0m\u001b[0m\n\u001b[1;32m    793\u001b[0m                             \u001b[0;32mif\u001b[0m \u001b[0;32mnot\u001b[0m \u001b[0misinstance\u001b[0m\u001b[0;34m(\u001b[0m\u001b[0mresult\u001b[0m\u001b[0;34m,\u001b[0m \u001b[0m_NextValueNotReady\u001b[0m\u001b[0;34m)\u001b[0m\u001b[0;34m:\u001b[0m\u001b[0;34m\u001b[0m\u001b[0;34m\u001b[0m\u001b[0m\n",
      "\u001b[0;32m~/anaconda3/envs/rllib/lib/python3.8/site-packages/ray/rllib/execution/train_ops.py\u001b[0m in \u001b[0;36m__call__\u001b[0;34m(self, samples)\u001b[0m\n\u001b[1;32m    327\u001b[0m                         \u001b[0;31m# Note: For minibatch SGD, the data is an offset into\u001b[0m\u001b[0;34m\u001b[0m\u001b[0;34m\u001b[0m\u001b[0;34m\u001b[0m\u001b[0m\n\u001b[1;32m    328\u001b[0m                         \u001b[0;31m# the pre-loaded entire train batch.\u001b[0m\u001b[0;34m\u001b[0m\u001b[0;34m\u001b[0m\u001b[0;34m\u001b[0m\u001b[0m\n\u001b[0;32m--> 329\u001b[0;31m                         results = policy.learn_on_loaded_batch(\n\u001b[0m\u001b[1;32m    330\u001b[0m                             \u001b[0mpermutation\u001b[0m\u001b[0;34m[\u001b[0m\u001b[0mbatch_index\u001b[0m\u001b[0;34m]\u001b[0m \u001b[0;34m*\u001b[0m\u001b[0;34m\u001b[0m\u001b[0;34m\u001b[0m\u001b[0m\n\u001b[1;32m    331\u001b[0m                             \u001b[0mself\u001b[0m\u001b[0;34m.\u001b[0m\u001b[0mper_device_batch_size\u001b[0m\u001b[0;34m,\u001b[0m\u001b[0;34m\u001b[0m\u001b[0;34m\u001b[0m\u001b[0m\n",
      "\u001b[0;32m~/anaconda3/envs/rllib/lib/python3.8/site-packages/ray/rllib/policy/torch_policy.py\u001b[0m in \u001b[0;36mlearn_on_loaded_batch\u001b[0;34m(self, offset, buffer_index)\u001b[0m\n\u001b[1;32m    560\u001b[0m                 all_grads.append(\n\u001b[1;32m    561\u001b[0m                     torch.mean(\n\u001b[0;32m--> 562\u001b[0;31m                         torch.stack(\n\u001b[0m\u001b[1;32m    563\u001b[0m                             [t[0][i].to(self.device) for t in tower_outputs]),\n\u001b[1;32m    564\u001b[0m                         dim=0))\n",
      "\u001b[0;31mKeyboardInterrupt\u001b[0m: "
     ]
    }
   ],
   "source": [
    "# proftrain=[]\n",
    "# proftest=[]\n",
    "# timesteps=[]\n",
    "\n",
    "for i in range(1,500001):\n",
    "    result = agent.train()\n",
    "\n",
    "    ts = result['timesteps_total']\n",
    "\n",
    "    #print(pretty_print(result))\n",
    "\n",
    "    if i%5==0:\n",
    "        checkpoint_path = agent.save()\n",
    "        print(checkpoint_path)\n",
    "        # trained_config = config.copy()\n",
    "        # test_agent =ppo PPOTrainer(trained_config, CropEnv)\n",
    "        # test_agent.restore(checkpoint_path)\n",
    "        result_df = pd.DataFrame([timesteps,proftrain,proftest]).T\n",
    "        result_df.to_csv('learn_outputs/neb_corn_ppo_day10_smt4_default_wg1000.csv')\n",
    "        plt.plot(timesteps,proftrain)\n",
    "        plt.plot(timesteps,proftest)\n",
    "        plt.show()\n",
    "        if timesteps[-1]>=40_000_000:\n",
    "            break\n",
    "\n",
    "    if i%1==0:\n",
    "\n",
    "        print('eval')\n",
    "\n",
    "        test_env_config=copy.deepcopy(envconfig)\n",
    "        test_env_config['evaluation_run']=True\n",
    "        test_env_config['gendf']=gendf\n",
    "        test_env_config['year2']=70\n",
    "        train_rew, test_rew = evaluate_agent(agent,CropEnv,test_env_config)\n",
    "        \n",
    "        proftrain.append(train_rew)\n",
    "        proftest.append(test_rew)\n",
    "        timesteps.append(ts)\n",
    "\n",
    "        print(f'Train:{round(train_rew,3)}')\n",
    "        print(f'Test:{round(test_rew,3)}')\n",
    "\n",
    "    if i==300:\n",
    "        break"
   ]
  },
  {
   "cell_type": "code",
   "execution_count": null,
   "metadata": {},
   "outputs": [],
   "source": [
    "# soy 12*37 = 444\n",
    "# wheat = 312\n",
    "# tomato = 82\n",
    "# corn = 180\n",
    "# soghum = 180"
   ]
  },
  {
   "cell_type": "code",
   "execution_count": null,
   "metadata": {},
   "outputs": [],
   "source": [
    "\n",
    "# import ray\n",
    "# from ray.rllib.agents.ppo import ppo\n",
    "\n",
    "# gendf=calc_eto_faopm('data/CPWG.dat',1995,40.4,1072,True,[\"simyear\",\"jday\",\"minTemp\",\"maxTemp\",\"precip\",\"rad\"])\n",
    "\n",
    "# envconfig=nebraska_maize_config.copy()\n",
    "# envconfig['gendf']=gendf\n",
    "# envconfig['action_set']='smt4'\n",
    "# envconfig['observation_set']='forecast'\n",
    "# envconfig['normalize_obs']=False\n",
    "# envconfig['days_to_irr']=1\n",
    "\n",
    "# envconfig['crop']=CropClass('Maize',PlantingDate='05/01',)\n",
    "# # envconfig['planting_date']='05/01'\n",
    "# # envconfig['fixed_cost']=0\n",
    "# # envconfig['crop_price']=312\n",
    "# ray.shutdown()\n",
    "# ray.init(num_cpus=8,num_gpus=0)\n",
    "\n",
    "# config = ppo.DEFAULT_CONFIG.copy()\n",
    "\n",
    "# config['num_workers'] = 8\n",
    "# config['num_gpus'] = 0\n",
    "# config['observation_filter'] = 'MeanStdFilter'\n",
    "\n",
    "# # config['num_envs_per_worker'] = 8\n",
    "# # config['num_sgd_iter'] = 30\n",
    "# # config['lr'] = 3e-5\n",
    "# # config['sgd_minibatch_size'] = 1028\n",
    "# config['batch_mode'] = 'complete_episodes'\n",
    "# config['rollout_fragment_length'] = 150\n",
    "# config['train_batch_size'] = 150*8\n",
    "# config['model']['fcnet_hiddens'] = [256]*2\n",
    "# config['num_cpus_per_worker'] = 0  # This avoids running out of resources in the notebook environment when this cell is re-executed\n",
    "# config['framework'] = 'torch'\n",
    "# config['gamma'] = 0.99999999\n",
    "# config['env_config']=envconfig\n",
    "# config['model']['use_lstm'] = True\n",
    "# config['model']['lstm_use_prev_action'] =False\n",
    "# # config['model']['max_seq_len'] = 40\n",
    "# config['model']['vf_share_layers'] = False\n",
    "\n",
    "# agent = ppo.PPOTrainer(config, CropEnv)\n",
    "\n",
    "# proftrain=[]\n",
    "# proftest=[]\n",
    "# timesteps=[]\n",
    "\n",
    "for i in range(1,500001):\n",
    "    result = agent.train()\n",
    "\n",
    "    ts = result['timesteps_total']\n",
    "\n",
    "    #print(pretty_print(result))\n",
    "\n",
    "    if i%10==0:\n",
    "        checkpoint_path = agent.save()\n",
    "        print(checkpoint_path)\n",
    "        # trained_config = config.copy()\n",
    "        # test_agent =ppo PPOTrainer(trained_config, CropEnv)\n",
    "        # test_agent.restore(checkpoint_path)\n",
    "        result_df = pd.DataFrame([timesteps,proftrain,proftest]).T\n",
    "        result_df.to_csv('neb_corn_ppo_day3_smt4_forecast.csv')\n",
    "        plt.plot(timesteps,proftrain)\n",
    "        plt.plot(timesteps,proftest)\n",
    "        plt.show()\n",
    "        if timesteps[-1]>=40_000_000:\n",
    "            break\n",
    "\n",
    "    if i%3==0:\n",
    "\n",
    "        test_env_config=copy.deepcopy(envconfig)\n",
    "        test_env_config['evaluation_run']=True\n",
    "        train_rew, test_rew = evaluate_agent(agent,CropEnv,test_env_config)\n",
    "        \n",
    "        proftrain.append(train_rew)\n",
    "        proftest.append(test_rew)\n",
    "        timesteps.append(ts)\n",
    "\n",
    "        print(f'Train:{round(train_rew,3)}')\n",
    "        print(f'Test:{round(test_rew,3)}')\n",
    "\n",
    "    if i==600:\n",
    "        break\n"
   ]
  },
  {
   "cell_type": "code",
   "execution_count": null,
   "metadata": {},
   "outputs": [],
   "source": [
    "gendf=calc_eto_faopm('data/CPWG.dat',1995,40.4,1072,True,[\"simyear\",\"jday\",\"minTemp\",\"maxTemp\",\"precip\",\"rad\"])\n",
    "\n",
    "envconfig=nebraska_maize_config.copy()\n",
    "envconfig['gendf']=gendf\n",
    "envconfig['action_set']='smt4'\n",
    "# envconfig['observation_set']='forecast'\n",
    "envconfig['include_rain']=False\n",
    "envconfig['days_to_irr']=3\n",
    "\n",
    "envconfig['crop']=CropClass('Maize',PlantingDate='05/01',)\n",
    "# envconfig['planting_date']='05/01'\n",
    "# envconfig['fixed_cost']=0\n",
    "# envconfig['crop_price']=312\n",
    "ray.shutdown()\n",
    "ray.init(num_cpus=8,num_gpus=0)\n",
    "\n",
    "\n",
    "from ray.rllib.agents.ppo import ppo\n",
    "\n",
    "config = ppo.DEFAULT_CONFIG.copy()\n",
    "\n",
    "config['num_workers'] = 8\n",
    "config['num_gpus'] = 0\n",
    "config['observation_filter'] = 'MeanStdFilter'\n",
    "\n",
    "# config['num_envs_per_worker'] = 8\n",
    "# config['num_sgd_iter'] = 30\n",
    "# config['lr'] = 3e-5\n",
    "# config['sgd_minibatch_size'] = 1028\n",
    "config['batch_mode'] = 'complete_episodes'\n",
    "config['rollout_fragment_length'] = 150\n",
    "config['train_batch_size'] = 150*8\n",
    "config['model']['fcnet_hiddens'] = [256]*2\n",
    "config['num_cpus_per_worker'] = 0  # This avoids running out of resources in the notebook environment when this cell is re-executed\n",
    "config['framework'] = 'torch'\n",
    "config['gamma'] = 0.99999999\n",
    "config['env_config']=envconfig\n",
    "# config['model']['use_lstm'] = True\n",
    "# config['model']['lstm_cell_size'] = 64\n",
    "# config['model']['max_seq_len'] = 40\n",
    "config['model']['vf_share_layers'] = False\n",
    "\n",
    "agent = ppo.PPOTrainer(config, CropEnv)\n",
    "\n",
    "proftrain=[]\n",
    "proftest=[]\n",
    "timesteps=[]\n",
    "\n",
    "for i in range(1,500001):\n",
    "    result = agent.train()\n",
    "\n",
    "    ts = result['timesteps_total']\n",
    "\n",
    "    #print(pretty_print(result))\n",
    "\n",
    "    if i%10==0:\n",
    "        checkpoint_path = agent.save()\n",
    "        print(checkpoint_path)\n",
    "        # trained_config = config.copy()\n",
    "        # test_agent =ppo PPOTrainer(trained_config, CropEnv)\n",
    "        # test_agent.restore(checkpoint_path)\n",
    "        result_df = pd.DataFrame([timesteps,proftrain,proftest]).T\n",
    "        result_df.to_csv('neb_corn_ppo_day3_smt4_norain.csv')\n",
    "        plt.plot(timesteps,proftrain)\n",
    "        plt.plot(timesteps,proftest)\n",
    "        plt.show()\n",
    "        if timesteps[-1]>=40_000_000:\n",
    "            break\n",
    "\n",
    "    if i%3==0:\n",
    "\n",
    "        test_env_config=copy.deepcopy(envconfig)\n",
    "        test_env_config['evaluation_run']=True\n",
    "        train_rew, test_rew = evaluate_agent(agent,CropEnv,test_env_config)\n",
    "        \n",
    "        proftrain.append(train_rew)\n",
    "        proftest.append(test_rew)\n",
    "        timesteps.append(ts)\n",
    "\n",
    "        print(f'Train:{round(train_rew,3)}')\n",
    "        print(f'Test:{round(test_rew,3)}')\n",
    "\n",
    "    if i==600:\n",
    "        break\n"
   ]
  },
  {
   "cell_type": "code",
   "execution_count": null,
   "metadata": {},
   "outputs": [],
   "source": []
  },
  {
   "cell_type": "code",
   "execution_count": null,
   "metadata": {},
   "outputs": [],
   "source": [
    "# from ray.rllib.agents.impala import ImpalaTrainer, DEFAULT_CONFIG\n",
    "# from ray.rllib.agents.sac import SACTrainer, DEFAULT_CONFIG\n",
    "# from ray.rllib.agents.ppo import PPOTrainer, DEFAULT_CONFIG\n",
    "# from ray.rllib.agents.dqn.apex import ApexTrainer, APEX_DEFAULT_CONFIG\n"
   ]
  },
  {
   "cell_type": "code",
   "execution_count": null,
   "metadata": {},
   "outputs": [],
   "source": []
  },
  {
   "cell_type": "code",
   "execution_count": null,
   "metadata": {},
   "outputs": [],
   "source": [
    "# config=DEFAULT_CONFIG.copy()\n",
    "# config['gamma'] = 0.99999\n",
    "# config['framework'] = 'torch'\n",
    "# config['num_workers'] = 8\n",
    "# config['num_gpus'] = 0\n",
    "# config['model']['fcnet_hiddens'] = [128]*4\n",
    "# config['rollout_fragment_length'] = 160\n",
    "# config['train_batch_size'] = 4000\n",
    "# config['num_cpus_per_worker'] = 0  # This avoids running out of resources in the notebook environment when this cell is re-executed\n",
    "\n"
   ]
  },
  {
   "cell_type": "code",
   "execution_count": null,
   "metadata": {},
   "outputs": [],
   "source": [
    "\n"
   ]
  },
  {
   "cell_type": "code",
   "execution_count": null,
   "metadata": {},
   "outputs": [],
   "source": [
    "# config = DEFAULT_CONFIG.copy()\n",
    "# config['num_workers'] = 16\n",
    "# config['num_gpus'] = 1\n",
    "# # config['num_envs_per_worker'] = 8\n",
    "# # config['num_sgd_iter'] = 30\n",
    "# # config['lr'] = 3e-5\n",
    "# # config['sgd_minibatch_size'] = 1028\n",
    "# # config['train_batch_size'] = 1028\n",
    "# # config['timesteps_per_iteration'] = 4000\n",
    "# # config['Q_model']['fcnet_hiddens'] = [128]*4\n",
    "# # config['policy_model']['fcnet_hiddens'] = [128]*4\n",
    "# config['num_cpus_per_worker'] = 0  # This avoids running out of resources in the notebook environment when this cell is re-executed\n",
    "# config['framework'] = 'torch'\n",
    "# config['gamma'] = 0.99999\n",
    "# # config['initial_alpha'] = 0.2\n",
    "# config['optimization']['actor_learning_rate'] = 1e-2\n",
    "# config['optimization']['critic_learning_rate'] = 1e-2\n",
    "# config['optimization']['entropy_learning_rate'] = 1e-2\n",
    "\n",
    "# # config['model']['use_lstm'] = True\n",
    "# # config['model']['lstm_cell_size'] = 64\n",
    "# # config['model']['max_seq_len'] = 40"
   ]
  },
  {
   "cell_type": "code",
   "execution_count": null,
   "metadata": {},
   "outputs": [],
   "source": [
    "# config = DEFAULT_CONFIG.copy()\n",
    "# config['num_workers'] = 8\n",
    "# config['num_gpus'] = 0\n",
    "# # config['num_envs_per_worker'] = 8\n",
    "# # config['num_sgd_iter'] = 30\n",
    "# # config['lr'] = 3e-5\n",
    "# # config['sgd_minibatch_size'] = 1028\n",
    "# config['train_batch_size'] = 4000\n",
    "# config['model']['fcnet_hiddens'] = [128]*4\n",
    "# config['num_cpus_per_worker'] = 0  # This avoids running out of resources in the notebook environment when this cell is re-executed\n",
    "# config['framework'] = 'torch'\n",
    "# config['gamma'] = 0.99999\n",
    "# config['env_config']={\"evaluation_run\":False}\n",
    "# config['model']['use_lstm'] = True\n",
    "# config['model']['lstm_cell_size'] = 64\n",
    "# config['model']['max_seq_len'] = 40"
   ]
  },
  {
   "cell_type": "code",
   "execution_count": null,
   "metadata": {},
   "outputs": [],
   "source": [
    "# config = DEFAULT_CONFIG.copy()\n",
    "# config['num_workers'] = 8\n",
    "# # config['num_envs_per_worker'] = 8\n",
    "# # config['num_sgd_iter'] = 30\n",
    "# config['lr'] = 3e-5\n",
    "# # config['sgd_minibatch_size'] = 1028\n",
    "# config['train_batch_size'] = 1028\n",
    "# config['Q_model']['fcnet_hiddens'] = [128]*4\n",
    "# config['policy_model']['fcnet_hiddens'] = [128]*4\n",
    "# config['num_cpus_per_worker'] = 0  # This avoids running out of resources in the notebook environment when this cell is re-executed\n",
    "# config['framework'] = 'torch'\n",
    "# config['gamma'] = 0.99999\n",
    "# config['target_network_update_freq'] = 1\n",
    "\n",
    "# # config['model']['use_lstm'] = True\n",
    "# # config['model']['lstm_cell_size'] = 64\n",
    "# # config['model']['max_seq_len'] = 17"
   ]
  },
  {
   "cell_type": "code",
   "execution_count": null,
   "metadata": {},
   "outputs": [],
   "source": []
  },
  {
   "cell_type": "code",
   "execution_count": null,
   "metadata": {},
   "outputs": [],
   "source": [
    "\n"
   ]
  },
  {
   "cell_type": "code",
   "execution_count": null,
   "metadata": {},
   "outputs": [],
   "source": []
  },
  {
   "cell_type": "code",
   "execution_count": null,
   "metadata": {},
   "outputs": [],
   "source": [
    "# agent = PPOTrainer(config, CropEnv)\n",
    "# agent = SACTrainer(config, CropEnv)\n",
    "# agent = ImpalaTrainer(config, CropEnv)\n",
    "# agent = ApexTrainer(config, CropEnv)\n",
    "\n",
    "\n",
    "# checkpoint_path\n",
    "# agent.restore(checkpoint_path)"
   ]
  },
  {
   "cell_type": "code",
   "execution_count": null,
   "metadata": {},
   "outputs": [],
   "source": []
  },
  {
   "cell_type": "code",
   "execution_count": null,
   "metadata": {},
   "outputs": [],
   "source": []
  },
  {
   "cell_type": "code",
   "execution_count": null,
   "metadata": {},
   "outputs": [],
   "source": []
  }
 ],
 "metadata": {
  "interpreter": {
   "hash": "e3e3ddf753151e8447fc28cb1f16d0a9022e11a16370ccf5e7398f6ab2bb1919"
  },
  "kernelspec": {
   "display_name": "Python 3.8.12 64-bit ('rllib': conda)",
   "name": "python3"
  },
  "language_info": {
   "codemirror_mode": {
    "name": "ipython",
    "version": 3
   },
   "file_extension": ".py",
   "mimetype": "text/x-python",
   "name": "python",
   "nbconvert_exporter": "python",
   "pygments_lexer": "ipython3",
   "version": "3.8.12"
  }
 },
 "nbformat": 4,
 "nbformat_minor": 5
}