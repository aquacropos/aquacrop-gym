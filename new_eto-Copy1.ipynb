{
 "cells": [
  {
   "cell_type": "code",
   "execution_count": null,
   "metadata": {},
   "outputs": [],
   "source": [
    "from aquacrop.classes import *\n",
    "from aquacrop.core import *\n",
    " \n",
    "# import gym\n",
    "# from gym import spaces\n",
    "import numpy as np\n",
    "\n",
    "import pandas as pd\n",
    "import matplotlib.pyplot as plt\n",
    "from aquacrop.lars import *\n",
    "# import math"
   ]
  },
  {
   "cell_type": "code",
   "execution_count": null,
   "metadata": {},
   "outputs": [],
   "source": []
  },
  {
   "cell_type": "code",
   "execution_count": null,
   "metadata": {},
   "outputs": [],
   "source": [
    "from aquacropgym.utils import calc_eto_faopm"
   ]
  },
  {
   "cell_type": "code",
   "execution_count": null,
   "metadata": {},
   "outputs": [],
   "source": [
    "#CP  Lat.(deg)= 40.40  Long.(deg)=101.73  Elev.(m)=1072.\n",
    "gendf=calc_eto_faopm('data/CPWG.dat',2018,40.4,1072,True,[\"simyear\",\"jday\",\"minTemp\",\"maxTemp\",\"precip\",\"rad\"])"
   ]
  },
  {
   "cell_type": "code",
   "execution_count": null,
   "metadata": {},
   "outputs": [],
   "source": [
    "gendf.head()"
   ]
  },
  {
   "cell_type": "code",
   "execution_count": null,
   "metadata": {},
   "outputs": [],
   "source": [
    "from aquacropgym.envs import CropEnv, nebraska_maize_config"
   ]
  },
  {
   "cell_type": "code",
   "execution_count": null,
   "metadata": {},
   "outputs": [],
   "source": [
    "envconfig=nebraska_maize_config.copy()\n",
    "envconfig['gendf']=gendf\n",
    "envconfig['action_set']='binary'\n",
    "# envconfig['observation_set']='forecast'\n",
    "envconfig['days_to_irr']=1\n",
    "\n"
   ]
  },
  {
   "cell_type": "code",
   "execution_count": null,
   "metadata": {},
   "outputs": [],
   "source": [
    "env=CropEnv(envconfig)\n",
    "# env.get_mean_std(1000)"
   ]
  },
  {
   "cell_type": "code",
   "execution_count": null,
   "metadata": {},
   "outputs": [],
   "source": [
    "env.mean"
   ]
  },
  {
   "cell_type": "code",
   "execution_count": null,
   "metadata": {},
   "outputs": [],
   "source": [
    "env.std"
   ]
  },
  {
   "cell_type": "code",
   "execution_count": null,
   "metadata": {},
   "outputs": [],
   "source": [
    "import ray"
   ]
  },
  {
   "cell_type": "code",
   "execution_count": null,
   "metadata": {},
   "outputs": [],
   "source": [
    "ray.shutdown()"
   ]
  },
  {
   "cell_type": "code",
   "execution_count": null,
   "metadata": {},
   "outputs": [],
   "source": [
    "ray.init(num_cpus=8,num_gpus=1)"
   ]
  },
  {
   "cell_type": "code",
   "execution_count": null,
   "metadata": {},
   "outputs": [],
   "source": [
    "# from ray.rllib.agents.ppo import ppo\n",
    "\n",
    "# config = ppo.DEFAULT_CONFIG.copy()\n",
    "\n",
    "# config['num_workers'] = 8\n",
    "# config['num_gpus'] = 0\n",
    "# # config['num_envs_per_worker'] = 8\n",
    "# # config['num_sgd_iter'] = 30\n",
    "# # config['lr'] = 3e-5\n",
    "# # config['sgd_minibatch_size'] = 1028\n",
    "# config['batch_mode'] = 'complete_episodes'\n",
    "# config['rollout_fragment_length'] = 500\n",
    "# config['train_batch_size'] = 4_000\n",
    "# config['model']['fcnet_hiddens'] = [256]*2\n",
    "# config['num_cpus_per_worker'] = 0  # This avoids running out of resources in the notebook environment when this cell is re-executed\n",
    "# config['framework'] = 'torch'\n",
    "# config['gamma'] = 0.99999\n",
    "# config['env_config']=envconfig\n",
    "# # config['model']['use_lstm'] = True\n",
    "# # config['model']['lstm_cell_size'] = 64\n",
    "# # config['model']['max_seq_len'] = 40"
   ]
  },
  {
   "cell_type": "code",
   "execution_count": null,
   "metadata": {},
   "outputs": [],
   "source": [
    "# from ray.rllib.agents.dqn.apex import ApexTrainer,APEX_DEFAULT_CONFIG\n",
    "\n",
    "# config=APEX_DEFAULT_CONFIG.copy()\n",
    "# config['gamma'] = 0.99999\n",
    "# config['framework'] = 'torch'\n",
    "# config['num_workers'] = 8\n",
    "# config['num_gpus'] = 0\n",
    "# config['hiddens'] = [256]*2\n",
    "# config['buffer_size'] = 400_000\n",
    "# config['num_cpus_per_worker'] = 0  # This avoids running out of resources in the notebook environment when this cell is re-executed\n",
    "# config['env_config']=envconfig\n"
   ]
  },
  {
   "cell_type": "code",
   "execution_count": null,
   "metadata": {},
   "outputs": [],
   "source": [
    "from ray.rllib.agents.impala import impala\n",
    "\n",
    "config = impala.DEFAULT_CONFIG.copy()\n",
    "\n",
    "config['num_workers'] = 8\n",
    "config['num_gpus'] = 0\n",
    "# config['num_envs_per_worker'] = 8\n",
    "# config['num_sgd_iter'] = 30\n",
    "# config['lr'] = 3e-5\n",
    "# config['sgd_minibatch_size'] = 1028\n",
    "# config['batch_mode'] = 'complete_episodes'\n",
    "config['rollout_fragment_length'] = 500\n",
    "config['train_batch_size'] = 4_000\n",
    "config['model']['fcnet_hiddens'] = [256]*2\n",
    "config['num_cpus_per_worker'] = 0  # This avoids running out of resources in the notebook environment when this cell is re-executed\n",
    "config['framework'] = 'torch'\n",
    "config['gamma'] = 0.99999\n",
    "config['env_config']=envconfig\n",
    "# config['model']['use_lstm'] = True\n",
    "# config['model']['lstm_cell_size'] = 64\n",
    "# config['model']['max_seq_len'] = 40"
   ]
  },
  {
   "cell_type": "code",
   "execution_count": null,
   "metadata": {},
   "outputs": [],
   "source": [
    "# agent = ppo.PPOTrainer(config, CropEnv)\n",
    "agent = impala.ImpalaTrainer(config, CropEnv)\n",
    "# agent = ApexTrainer(config, CropEnv)"
   ]
  },
  {
   "cell_type": "code",
   "execution_count": null,
   "metadata": {},
   "outputs": [],
   "source": [
    "from aquacropgym.utils import evaluate_agent\n",
    "import copy"
   ]
  },
  {
   "cell_type": "code",
   "execution_count": null,
   "metadata": {},
   "outputs": [],
   "source": [
    "# test_env_config=copy.deepcopy(envconfig)\n",
    "# test_env_config['evaluation_run']=True\n",
    "# config['env_config']['days_to_irr']=1\n",
    "\n",
    "# train_rew, test_rew = evaluate_agent(agent,CropEnv,test_env_config)\n",
    "\n",
    "# print(f'Train:{round(train_rew,3)}')\n",
    "# print(f'Test:{round(test_rew,3)}')"
   ]
  },
  {
   "cell_type": "code",
   "execution_count": null,
   "metadata": {},
   "outputs": [],
   "source": [
    "# testconfig=copy.deepcopy(config)\n",
    "# # testconfig['env_config']['days_to_irr']=3\n",
    "\n",
    "# agent = ppo.PPOTrainer(testconfig, CropEnv)\n",
    "# agent = ppo.PPOTrainer(config, CropEnv)\n",
    "\n",
    "# checkpoint_path=\"/home/mbyx3tk2/ray_results/PPO_CropEnv_2022-02-18_14-57-34s8iz8dhe/checkpoint_000270/checkpoint-270\"\n",
    "\n",
    "# # checkpoint_path\n",
    "# agent.restore(checkpoint_path)\n",
    "\n",
    "\n"
   ]
  },
  {
   "cell_type": "code",
   "execution_count": null,
   "metadata": {},
   "outputs": [],
   "source": [
    "proftrain=[]\n",
    "proftest=[]\n",
    "timesteps=[]\n",
    "\n",
    "for i in range(1,500001):\n",
    "    result = agent.train()\n",
    "\n",
    "    ts = result['timesteps_total']\n",
    "\n",
    "    #print(pretty_print(result))\n",
    "\n",
    "    if i%10==0:\n",
    "        checkpoint_path = agent.save()\n",
    "        print(checkpoint_path)\n",
    "        # trained_config = config.copy()\n",
    "        # test_agent =ppo PPOTrainer(trained_config, CropEnv)\n",
    "        # test_agent.restore(checkpoint_path)\n",
    "        result_df = pd.DataFrame([timesteps,proftrain,proftest]).T\n",
    "        result_df.to_csv('ppo70_day7_smt4_dayshift_noforecast_neweto_endreward.csv')\n",
    "        plt.plot(timesteps,proftrain)\n",
    "        plt.plot(timesteps,proftest)\n",
    "        plt.show()\n",
    "        if timesteps[-1]>=40_000_000:\n",
    "            break\n",
    "\n",
    "    if i%3==0:\n",
    "\n",
    "        test_env_config=copy.deepcopy(envconfig)\n",
    "        test_env_config['evaluation_run']=True\n",
    "        train_rew, test_rew = evaluate_agent(agent,CropEnv,test_env_config)\n",
    "        \n",
    "        proftrain.append(train_rew)\n",
    "        proftest.append(test_rew)\n",
    "        timesteps.append(ts)\n",
    "\n",
    "        print(f'Train:{round(train_rew,3)}')\n",
    "        print(f'Test:{round(test_rew,3)}')\n"
   ]
  },
  {
   "cell_type": "code",
   "execution_count": null,
   "metadata": {},
   "outputs": [],
   "source": []
  },
  {
   "cell_type": "code",
   "execution_count": null,
   "metadata": {},
   "outputs": [],
   "source": []
  },
  {
   "cell_type": "code",
   "execution_count": null,
   "metadata": {},
   "outputs": [],
   "source": []
  },
  {
   "cell_type": "code",
   "execution_count": null,
   "metadata": {},
   "outputs": [],
   "source": []
  },
  {
   "cell_type": "code",
   "execution_count": null,
   "metadata": {},
   "outputs": [],
   "source": [
    "# from ray.rllib.agents.impala import ImpalaTrainer, DEFAULT_CONFIG\n",
    "# from ray.rllib.agents.sac import SACTrainer, DEFAULT_CONFIG\n",
    "# from ray.rllib.agents.ppo import PPOTrainer, DEFAULT_CONFIG\n",
    "# from ray.rllib.agents.dqn.apex import ApexTrainer, APEX_DEFAULT_CONFIG\n"
   ]
  },
  {
   "cell_type": "code",
   "execution_count": null,
   "metadata": {},
   "outputs": [],
   "source": []
  },
  {
   "cell_type": "code",
   "execution_count": null,
   "metadata": {},
   "outputs": [],
   "source": [
    "# config=DEFAULT_CONFIG.copy()\n",
    "# config['gamma'] = 0.99999\n",
    "# config['framework'] = 'torch'\n",
    "# config['num_workers'] = 8\n",
    "# config['num_gpus'] = 0\n",
    "# config['model']['fcnet_hiddens'] = [128]*4\n",
    "# config['rollout_fragment_length'] = 160\n",
    "# config['train_batch_size'] = 4000\n",
    "# config['num_cpus_per_worker'] = 0  # This avoids running out of resources in the notebook environment when this cell is re-executed\n",
    "\n"
   ]
  },
  {
   "cell_type": "code",
   "execution_count": null,
   "metadata": {},
   "outputs": [],
   "source": [
    "\n"
   ]
  },
  {
   "cell_type": "code",
   "execution_count": null,
   "metadata": {},
   "outputs": [],
   "source": [
    "# config = DEFAULT_CONFIG.copy()\n",
    "# config['num_workers'] = 16\n",
    "# config['num_gpus'] = 1\n",
    "# # config['num_envs_per_worker'] = 8\n",
    "# # config['num_sgd_iter'] = 30\n",
    "# # config['lr'] = 3e-5\n",
    "# # config['sgd_minibatch_size'] = 1028\n",
    "# # config['train_batch_size'] = 1028\n",
    "# # config['timesteps_per_iteration'] = 4000\n",
    "# # config['Q_model']['fcnet_hiddens'] = [128]*4\n",
    "# # config['policy_model']['fcnet_hiddens'] = [128]*4\n",
    "# config['num_cpus_per_worker'] = 0  # This avoids running out of resources in the notebook environment when this cell is re-executed\n",
    "# config['framework'] = 'torch'\n",
    "# config['gamma'] = 0.99999\n",
    "# # config['initial_alpha'] = 0.2\n",
    "# config['optimization']['actor_learning_rate'] = 1e-2\n",
    "# config['optimization']['critic_learning_rate'] = 1e-2\n",
    "# config['optimization']['entropy_learning_rate'] = 1e-2\n",
    "\n",
    "# # config['model']['use_lstm'] = True\n",
    "# # config['model']['lstm_cell_size'] = 64\n",
    "# # config['model']['max_seq_len'] = 40"
   ]
  },
  {
   "cell_type": "code",
   "execution_count": null,
   "metadata": {},
   "outputs": [],
   "source": [
    "# config = DEFAULT_CONFIG.copy()\n",
    "# config['num_workers'] = 8\n",
    "# config['num_gpus'] = 0\n",
    "# # config['num_envs_per_worker'] = 8\n",
    "# # config['num_sgd_iter'] = 30\n",
    "# # config['lr'] = 3e-5\n",
    "# # config['sgd_minibatch_size'] = 1028\n",
    "# config['train_batch_size'] = 4000\n",
    "# config['model']['fcnet_hiddens'] = [128]*4\n",
    "# config['num_cpus_per_worker'] = 0  # This avoids running out of resources in the notebook environment when this cell is re-executed\n",
    "# config['framework'] = 'torch'\n",
    "# config['gamma'] = 0.99999\n",
    "# config['env_config']={\"evaluation_run\":False}\n",
    "# config['model']['use_lstm'] = True\n",
    "# config['model']['lstm_cell_size'] = 64\n",
    "# config['model']['max_seq_len'] = 40"
   ]
  },
  {
   "cell_type": "code",
   "execution_count": null,
   "metadata": {},
   "outputs": [],
   "source": [
    "# config = DEFAULT_CONFIG.copy()\n",
    "# config['num_workers'] = 8\n",
    "# # config['num_envs_per_worker'] = 8\n",
    "# # config['num_sgd_iter'] = 30\n",
    "# config['lr'] = 3e-5\n",
    "# # config['sgd_minibatch_size'] = 1028\n",
    "# config['train_batch_size'] = 1028\n",
    "# config['Q_model']['fcnet_hiddens'] = [128]*4\n",
    "# config['policy_model']['fcnet_hiddens'] = [128]*4\n",
    "# config['num_cpus_per_worker'] = 0  # This avoids running out of resources in the notebook environment when this cell is re-executed\n",
    "# config['framework'] = 'torch'\n",
    "# config['gamma'] = 0.99999\n",
    "# config['target_network_update_freq'] = 1\n",
    "\n",
    "# # config['model']['use_lstm'] = True\n",
    "# # config['model']['lstm_cell_size'] = 64\n",
    "# # config['model']['max_seq_len'] = 17"
   ]
  },
  {
   "cell_type": "code",
   "execution_count": null,
   "metadata": {},
   "outputs": [],
   "source": []
  },
  {
   "cell_type": "code",
   "execution_count": null,
   "metadata": {},
   "outputs": [],
   "source": [
    "\n"
   ]
  },
  {
   "cell_type": "code",
   "execution_count": null,
   "metadata": {},
   "outputs": [],
   "source": []
  },
  {
   "cell_type": "code",
   "execution_count": null,
   "metadata": {},
   "outputs": [],
   "source": [
    "# agent = PPOTrainer(config, CropEnv)\n",
    "# agent = SACTrainer(config, CropEnv)\n",
    "# agent = ImpalaTrainer(config, CropEnv)\n",
    "# agent = ApexTrainer(config, CropEnv)\n",
    "\n",
    "\n",
    "# checkpoint_path\n",
    "# agent.restore(checkpoint_path)"
   ]
  },
  {
   "cell_type": "code",
   "execution_count": null,
   "metadata": {},
   "outputs": [],
   "source": []
  },
  {
   "cell_type": "code",
   "execution_count": null,
   "metadata": {},
   "outputs": [],
   "source": []
  },
  {
   "cell_type": "code",
   "execution_count": null,
   "metadata": {},
   "outputs": [],
   "source": []
  }
 ],
 "metadata": {
  "interpreter": {
   "hash": "e3e3ddf753151e8447fc28cb1f16d0a9022e11a16370ccf5e7398f6ab2bb1919"
  },
  "kernelspec": {
   "display_name": "Python 3.8.12 64-bit",
   "name": "python3"
  },
  "language_info": {
   "name": "python",
   "version": ""
  }
 },
 "nbformat": 4,
 "nbformat_minor": 5
}