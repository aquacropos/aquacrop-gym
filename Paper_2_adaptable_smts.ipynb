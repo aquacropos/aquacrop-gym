{
 "cells": [
  {
   "cell_type": "markdown",
   "metadata": {
    "id": "o51TohvwrsMa"
   },
   "source": [
    "# Adaptable irrigation strategies \n",
    "## soil moisture targets\n",
    "\n",
    "Previous work has examined the benifits of choosing the optimal irrigation stratgy for farm profits and water use efficiency.\n",
    "\n",
    "Though as the season unfolds, farmers may want to adjust their irrigation strategy based on the climate conditions so far and their expectation of the weather for the rest of the season.\n"
   ]
  },
  {
   "cell_type": "code",
   "execution_count": 1,
   "metadata": {
    "colab": {
     "base_uri": "https://localhost:8080/"
    },
    "id": "K4jRhbXPd_ob",
    "outputId": "327575d3-2be7-41de-fce0-ade1993df590"
   },
   "outputs": [],
   "source": [
    "# !pip install aquacrop"
   ]
  },
  {
   "cell_type": "code",
   "execution_count": 1,
   "metadata": {
    "id": "GlzEnDpxeCNa"
   },
   "outputs": [],
   "source": [
    "from aquacrop.classes import *\n",
    "from aquacrop.core import *\n",
    "from aquacrop.lars import *\n",
    "\n",
    "from scipy.optimize import differential_evolution\n",
    "import numpy as np\n",
    "from functools import partial\n",
    "import pandas as pd\n",
    "import matplotlib.pyplot as plt"
   ]
  },
  {
   "cell_type": "code",
   "execution_count": 2,
   "metadata": {},
   "outputs": [],
   "source": [
    "from aquacropgym.utils import calc_eto_faopm\n",
    "\n",
    "#CP  Lat.(deg)= 40.40  Long.(deg)=101.73  Elev.(m)=1072.\n",
    "gendf=calc_eto_faopm('data/CPWG.dat',2018,40.4,1072,True,[\"simyear\",\"jday\",\"minTemp\",\"maxTemp\",\"precip\",\"rad\"])\n"
   ]
  },
  {
   "cell_type": "code",
   "execution_count": 4,
   "metadata": {},
   "outputs": [],
   "source": [
    "class FixedThresholdAgent():\n",
    "    def __init__(self,smts):\n",
    "        self.smts=smts # gievn as fraction\n",
    "\n",
    "    \n",
    "    def compute_action(self,obs):\n",
    "        \"default observation set\"\n",
    "\n",
    "        return (self.smts*2)-1\n",
    "\n",
    "        gs = int(obs[7])-1\n",
    "        dep = obs[2]\n",
    "\n",
    "        if gs<0 or gs>3:\n",
    "            action=0\n",
    "        else:\n",
    "            if 1-dep< (self.smts[gs]):\n",
    "                action = 1\n",
    "            else:\n",
    "                action=0\n",
    "\n",
    "        return action\n"
   ]
  },
  {
   "cell_type": "code",
   "execution_count": 5,
   "metadata": {},
   "outputs": [],
   "source": [
    "from aquacropgym.envs import CropEnv, nebraska_maize_config\n",
    "from aquacropgym.utils import evaluate_agent\n"
   ]
  },
  {
   "cell_type": "code",
   "execution_count": 13,
   "metadata": {},
   "outputs": [],
   "source": []
  },
  {
   "cell_type": "code",
   "execution_count": 14,
   "metadata": {},
   "outputs": [],
   "source": [
    "# proftrain=[]\n",
    "# proftest=[]\n",
    "# timesteps=[]\n",
    "# global_best=np.ones(1000)*-1000\n",
    "\n",
    "\n",
    "\n",
    "#     global_best[i]=max(global_best[i],cumulative_reward)\n",
    "\n",
    "#     print(f'Train:{round(train_reward/70,3)}')\n",
    "#     print(f'Test:{round(test_reward/30,3)}')\n",
    "#     print(f'Global_Train:{round(global_best[:70].mean(),3)}')\n",
    "#     print(f'Global_Test:{round(global_best[70:100].mean(),3)}')\n",
    "    \n",
    "#     proftrain.append(train_reward/70)\n",
    "#     proftest.append(test_reward/30)\n",
    "#     timesteps.append(ts)\n",
    "        \n"
   ]
  },
  {
   "cell_type": "code",
   "execution_count": 6,
   "metadata": {},
   "outputs": [],
   "source": [
    "test_env_config=nebraska_maize_config.copy()\n",
    "\n",
    "test_env_config['gendf']=gendf\n",
    "test_env_config['evaluation_run']=True\n",
    "test_env_config['normalize_obs']=False\n",
    "test_env_config['action_set']='smt4'\n",
    "test_env_config['observation_set']='default'"
   ]
  },
  {
   "cell_type": "code",
   "execution_count": 7,
   "metadata": {},
   "outputs": [
    {
     "data": {
      "text/plain": [
       "(554.6136831075852, 556.6010960450984)"
      ]
     },
     "execution_count": 7,
     "metadata": {},
     "output_type": "execute_result"
    }
   ],
   "source": [
    "evaluate_agent(FixedThresholdAgent(np.array([0.58709859, 0.66129679, 0.34608978, 0.10645481])),CropEnv,test_env_config)"
   ]
  },
  {
   "cell_type": "code",
   "execution_count": null,
   "metadata": {},
   "outputs": [],
   "source": []
  },
  {
   "cell_type": "code",
   "execution_count": null,
   "metadata": {
    "colab": {
     "base_uri": "https://localhost:8080/",
     "height": 287
    },
    "id": "K1Wg3fqjbytQ",
    "outputId": "32b53b95-6fb8-414d-9f9d-723f19a9baad"
   },
   "outputs": [],
   "source": []
  },
  {
   "cell_type": "code",
   "execution_count": 23,
   "metadata": {
    "id": "BV_aBe_Yk2Aw"
   },
   "outputs": [],
   "source": [
    "def evaluate(smt,year1,year2,simyear,eval=False,):\n",
    "    \n",
    "    wdf = gendf[gendf.simyear==simyear].drop('simyear',axis=1)\n",
    "\n",
    "\n",
    "    smt=smt.flatten()\n",
    "\n",
    "    model = AquaCropModel(f'{year1}/05/01',f'{year2}/12/31',wdf,\n",
    "            Soil=SoilClass('SiltClayLoam'),Crop=CropClass('Maize',PlantingDate='05/01'),\n",
    "            InitWC=InitWCClass(wc_type='Pct',value=[70]),IrrMngt=IrrMngtClass(5))\n",
    "\n",
    "    model.initialize()\n",
    "#     model.weather[:,2]=0\n",
    "    # model.weather[:,3]=3.5\n",
    "\n",
    "    while not model.ClockStruct.ModelTermination:\n",
    "        if model.InitCond.TAW>0:\n",
    "            dep = model.InitCond.Depletion/model.InitCond.TAW\n",
    "        else:\n",
    "            dep=0\n",
    "\n",
    "        gs = int(model.InitCond.GrowthStage)-1\n",
    "        # gs = int(model.InitCond.DAP/8)\n",
    "        if gs<0 or gs>3:\n",
    "            depth=0\n",
    "        else:\n",
    "            if 1-dep< smt[gs]:\n",
    "                depth = min(dep*model.InitCond.TAW,model.IrrMngt.MaxIrr)\n",
    "            else:\n",
    "                depth=0\n",
    "\n",
    "        model.ParamStruct.IrrMngt.depth = depth\n",
    "        model.step()\n",
    "\n",
    "\n",
    "        if model.ClockStruct.ModelTermination:\n",
    "            break\n",
    "\n",
    "    fin = model.Outputs.Final\n",
    "    if eval:\n",
    "        return model.Outputs\n",
    "    else:\n",
    "        prof = (fin['Yield (tonne/ha)'].mean()*180 - fin['Seasonal irrigation (mm)'].mean()*1 -1728)\n",
    "        # if t%50==0:\n",
    "        #     train_prof.append(prof)\n",
    "        #print(t,prof)\n",
    "        return -prof"
   ]
  },
  {
   "cell_type": "code",
   "execution_count": 24,
   "metadata": {},
   "outputs": [],
   "source": [
    "def eval_all(smt,year1,year2,eval=False,num=70,start=0):\n",
    "    p=0\n",
    "    for y in range(start+1,start+num+1):\n",
    "        p += evaluate(smt,year1,year2,y,eval=False,)\n",
    "    \n",
    "    \n",
    "    return p/num"
   ]
  },
  {
   "cell_type": "code",
   "execution_count": 25,
   "metadata": {},
   "outputs": [
    {
     "data": {
      "text/plain": [
       "-136.71258654564437"
      ]
     },
     "execution_count": 25,
     "metadata": {},
     "output_type": "execute_result"
    }
   ],
   "source": [
    "eval_all(np.ones(4)*0.9,2018,2018,)"
   ]
  },
  {
   "cell_type": "code",
   "execution_count": 22,
   "metadata": {},
   "outputs": [],
   "source": [
    "# potential=[]\n",
    "# for i in range(30):\n",
    "#     func =partial(evaluate,year1=2018,year2=2018,simyear=i+71,eval=False)\n",
    "#     max_bound = np.ones(4)\n",
    "#     min_bound = np.zeros(4)\n",
    "#     bounds = [(min_bound[i], max_bound[i]) for i in range(4)]\n",
    "\n",
    "#     res = differential_evolution(func,bounds=bounds,disp=True,workers=8,seed=42)\n",
    "#     potential.append(res)"
   ]
  },
  {
   "cell_type": "code",
   "execution_count": 10,
   "metadata": {},
   "outputs": [
    {
     "data": {
      "text/plain": [
       "-599.1008650497271"
      ]
     },
     "execution_count": 10,
     "metadata": {},
     "output_type": "execute_result"
    }
   ],
   "source": [
    "np.mean([p.fun for p in potential])"
   ]
  },
  {
   "cell_type": "code",
   "execution_count": null,
   "metadata": {},
   "outputs": [],
   "source": []
  },
  {
   "cell_type": "code",
   "execution_count": 28,
   "metadata": {
    "colab": {
     "base_uri": "https://localhost:8080/"
    },
    "id": "0zVQkfD6uQa1",
    "outputId": "69dbebcd-1868-4c82-eaa3-4b5b24b974e2"
   },
   "outputs": [],
   "source": [
    "# evaluate(np.ones(4)*0.9,1982,2018)"
   ]
  },
  {
   "cell_type": "code",
   "execution_count": 27,
   "metadata": {
    "colab": {
     "base_uri": "https://localhost:8080/"
    },
    "id": "vIXAoeoSA49-",
    "outputId": "e61ea5d1-1ab7-4501-dcae-12c482bfd105"
   },
   "outputs": [],
   "source": [
    "# for y in range(1979,2002):\n",
    "#     print(evaluate(res.x,y,y))"
   ]
  },
  {
   "cell_type": "markdown",
   "metadata": {
    "id": "GiqxTmWyuiLp"
   },
   "source": [
    "Get soil moisture target that maxises profit over 30 years"
   ]
  },
  {
   "cell_type": "code",
   "execution_count": 26,
   "metadata": {
    "colab": {
     "base_uri": "https://localhost:8080/"
    },
    "id": "rctlhZpXR5Pu",
    "outputId": "93e115ca-316e-476f-f7ad-acc5abe08522"
   },
   "outputs": [
    {
     "name": "stderr",
     "output_type": "stream",
     "text": [
      "/home/mbyx3tk2/anaconda3/envs/paper2ray/lib/python3.7/site-packages/scipy/optimize/_differentialevolution.py:497: UserWarning: differential_evolution: the 'workers' keyword has overridden updating='immediate' to updating='deferred'\n",
      "  \" updating='deferred'\", UserWarning)\n"
     ]
    },
    {
     "name": "stdout",
     "output_type": "stream",
     "text": [
      "differential_evolution step 1: f(x)= -497.295\n",
      "differential_evolution step 2: f(x)= -522.238\n",
      "differential_evolution step 3: f(x)= -538.767\n",
      "differential_evolution step 4: f(x)= -539.629\n",
      "differential_evolution step 5: f(x)= -539.629\n",
      "differential_evolution step 6: f(x)= -551.711\n",
      "differential_evolution step 7: f(x)= -551.711\n",
      "differential_evolution step 8: f(x)= -554.602\n",
      "differential_evolution step 9: f(x)= -554.602\n",
      "differential_evolution step 10: f(x)= -554.602\n",
      "differential_evolution step 11: f(x)= -554.602\n",
      "differential_evolution step 12: f(x)= -554.614\n",
      "differential_evolution step 13: f(x)= -554.614\n"
     ]
    }
   ],
   "source": [
    "func =partial(eval_all,year1=2018,year2=2018)\n",
    "\n",
    "max_bound = np.ones(4)\n",
    "min_bound = np.zeros(4)\n",
    "bounds = [(min_bound[i], max_bound[i]) for i in range(4)]\n",
    "\n",
    "res = differential_evolution(func,bounds=bounds,disp=True,workers=8,seed=42)"
   ]
  },
  {
   "cell_type": "code",
   "execution_count": 27,
   "metadata": {
    "colab": {
     "base_uri": "https://localhost:8080/"
    },
    "id": "8rHrxBHo8v2b",
    "outputId": "e7ac5c49-1eb4-4525-d3e7-597e2758e4bf"
   },
   "outputs": [
    {
     "data": {
      "text/plain": [
       "     fun: -554.6139134781413\n",
       " message: 'Optimization terminated successfully.'\n",
       "    nfev: 845\n",
       "     nit: 13\n",
       " success: True\n",
       "       x: array([0.58709859, 0.66129679, 0.34608978, 0.10645481])"
      ]
     },
     "execution_count": 27,
     "metadata": {},
     "output_type": "execute_result"
    }
   ],
   "source": [
    "res"
   ]
  },
  {
   "cell_type": "code",
   "execution_count": null,
   "metadata": {
    "id": "UgJoIE3Pu7lc"
   },
   "outputs": [],
   "source": [
    "av_smt = np.array([ 7.11371398, 46.83206155, 58.97026889, 31.75414135])/100"
   ]
  },
  {
   "cell_type": "code",
   "execution_count": 28,
   "metadata": {
    "colab": {
     "base_uri": "https://localhost:8080/"
    },
    "id": "cwvAX4q5vFBP",
    "outputId": "3fd4a3a6-47c6-4c92-d804-89c2fb56f5a5"
   },
   "outputs": [
    {
     "data": {
      "text/plain": [
       "-556.6010271619306"
      ]
     },
     "execution_count": 28,
     "metadata": {},
     "output_type": "execute_result"
    }
   ],
   "source": [
    "eval_all( res.x,2018,2018,num=30,start=70)"
   ]
  },
  {
   "cell_type": "code",
   "execution_count": 11,
   "metadata": {},
   "outputs": [
    {
     "name": "stdout",
     "output_type": "stream",
     "text": [
      "-459.2759210158474\n",
      "-401.99739373625107\n",
      "-558.759183084162\n",
      "-605.5850589896859\n",
      "-577.2292200749644\n",
      "-510.34682700585245\n",
      "-542.2888396823973\n",
      "-505.02041843602274\n",
      "-456.77792685616487\n",
      "-577.1707363433175\n",
      "-636.1506409852109\n",
      "-602.7711795058754\n",
      "-777.8043103476066\n",
      "-593.4408042660802\n",
      "-512.108795784508\n",
      "-696.1894640513378\n",
      "-693.3016136600722\n",
      "-651.1922618199392\n",
      "-589.9675228336187\n",
      "-344.5932488765634\n",
      "-565.0140272786962\n",
      "-683.1480084673408\n",
      "-629.5545331776584\n",
      "-584.482236306314\n",
      "-737.3763554467323\n",
      "-432.50206221854796\n",
      "-571.9076991529073\n",
      "-606.4074698240274\n",
      "-515.2351520925422\n",
      "-464.21103831607843\n"
     ]
    }
   ],
   "source": [
    "res_list_wg=[]\n",
    "for i in range(70,100):\n",
    "    r = eval_all(res.x,2018,2018,num=1,start=i)\n",
    "    print(r)\n",
    "    res_list_wg.append(r)\n",
    "    "
   ]
  },
  {
   "cell_type": "code",
   "execution_count": null,
   "metadata": {},
   "outputs": [],
   "source": []
  },
  {
   "cell_type": "code",
   "execution_count": 12,
   "metadata": {},
   "outputs": [
    {
     "data": {
      "text/plain": [
       "-569.3936649878775"
      ]
     },
     "execution_count": 12,
     "metadata": {},
     "output_type": "execute_result"
    }
   ],
   "source": [
    "np.mean(res_list_wg)"
   ]
  },
  {
   "cell_type": "code",
   "execution_count": 14,
   "metadata": {},
   "outputs": [],
   "source": [
    "pd.DataFrame(res_list_wg).to_csv('adapt_wg/smt_fixed_results.csv',index=None)"
   ]
  },
  {
   "cell_type": "code",
   "execution_count": null,
   "metadata": {
    "id": "mDIlo5iSuyuc"
   },
   "outputs": [],
   "source": []
  },
  {
   "cell_type": "code",
   "execution_count": null,
   "metadata": {
    "colab": {
     "base_uri": "https://localhost:8080/"
    },
    "id": "2gDEXSN2M4_6",
    "outputId": "8e993d38-b709-49d6-b2b7-336f55e21082"
   },
   "outputs": [
    {
     "name": "stderr",
     "output_type": "stream",
     "text": [
      "/usr/local/lib/python3.7/dist-packages/scipy/optimize/_differentialevolution.py:494: UserWarning: differential_evolution: the 'workers' keyword has overridden updating='immediate' to updating='deferred'\n",
      "  \" updating='deferred'\", UserWarning)\n"
     ]
    },
    {
     "name": "stdout",
     "output_type": "stream",
     "text": [
      "differential_evolution step 1: f(x)= -248.331\n",
      "differential_evolution step 2: f(x)= -248.653\n",
      "differential_evolution step 3: f(x)= -250.679\n",
      "differential_evolution step 4: f(x)= -250.679\n",
      "differential_evolution step 5: f(x)= -250.679\n",
      "differential_evolution step 6: f(x)= -251.66\n",
      "differential_evolution step 7: f(x)= -251.691\n",
      "differential_evolution step 8: f(x)= -254.366\n",
      "differential_evolution step 9: f(x)= -256.087\n",
      "differential_evolution step 10: f(x)= -256.087\n",
      "differential_evolution step 11: f(x)= -256.087\n",
      "differential_evolution step 12: f(x)= -259.104\n",
      "differential_evolution step 13: f(x)= -259.104\n",
      "differential_evolution step 14: f(x)= -259.104\n",
      "differential_evolution step 15: f(x)= -259.104\n"
     ]
    }
   ],
   "source": [
    "func =partial(evaluate,year1=2012,year2=2018)\n",
    "\n",
    "max_bound = np.ones(3)\n",
    "min_bound = np.zeros(3)\n",
    "bounds = [(min_bound[i], max_bound[i]) for i in range(3)]\n",
    "\n",
    "res1 = differential_evolution(func,bounds=bounds,disp=True,workers=2,seed=74)"
   ]
  },
  {
   "cell_type": "code",
   "execution_count": null,
   "metadata": {
    "id": "pXHpleBLR9D8"
   },
   "outputs": [],
   "source": []
  },
  {
   "cell_type": "code",
   "execution_count": null,
   "metadata": {
    "id": "vV2eBIVTWm7g"
   },
   "outputs": [],
   "source": [
    "import pandas as pd\n",
    "df=pd.DataFrame([smt_results,prof_results]).T\n",
    "df.to_csv('smt_overfit_result.csv')"
   ]
  },
  {
   "cell_type": "code",
   "execution_count": null,
   "metadata": {
    "colab": {
     "base_uri": "https://localhost:8080/"
    },
    "id": "qEMqnBFCXbj5",
    "outputId": "34e9164f-97a5-4a1c-8baa-f9d2b8a8423d"
   },
   "outputs": [
    {
     "data": {
      "text/plain": [
       "183.65716435997643"
      ]
     },
     "execution_count": 27,
     "metadata": {
      "tags": []
     },
     "output_type": "execute_result"
    }
   ],
   "source": [
    "df[1].mean()"
   ]
  },
  {
   "cell_type": "code",
   "execution_count": null,
   "metadata": {
    "colab": {
     "base_uri": "https://localhost:8080/"
    },
    "id": "0RYCUephXja8",
    "outputId": "1d0e7b7b-24cf-435d-d4de-7bf53d3e6b44"
   },
   "outputs": [
    {
     "data": {
      "text/plain": [
       "array([array([ 8.07309422, 56.03787163, 32.83445678,  8.48438302]),\n",
       "       array([37.34019905, 65.27735051, 35.28847455, 15.38780506]),\n",
       "       array([51.7317701 , 46.89369783, 35.92089835, 10.02645922]),\n",
       "       array([59.39765424, 64.35201032, 35.78182169,  9.69235052]),\n",
       "       array([25.40832237, 60.29783402, 29.23744136, 19.09748257]),\n",
       "       array([31.48267343, 34.84145718, 32.10836344,  1.51209764]),\n",
       "       array([30.84500151, 60.22684658, 34.2876768 , 10.44790696]),\n",
       "       array([49.44797449, 46.13155435, 32.79968056,  7.876749  ]),\n",
       "       array([39.22932252, 47.23288211, 37.30616176,  0.76461161]),\n",
       "       array([ 4.47272216, 78.25687989, 32.0500628 ,  3.2691595 ]),\n",
       "       array([44.69912905, 52.92413149,  5.90331117,  7.02456429]),\n",
       "       array([45.97089299,  0.47097631, 32.95224154,  7.93646756]),\n",
       "       array([55.85861262, 45.99901067, 37.43145377, 10.67505017]),\n",
       "       array([42.53750533, 50.9547912 , 31.99803026,  1.15970064]),\n",
       "       array([44.34282466, 25.42241742, 22.75187254, 17.36554361]),\n",
       "       array([51.56512652, 58.12657248, 36.00635839,  0.79955729]),\n",
       "       array([49.64363721, 43.17983737, 36.20825978, 13.71464067]),\n",
       "       array([45.28692213, 57.88129748, 30.18778764, 23.40644854]),\n",
       "       array([31.64358353, 48.40361288, 34.97622918,  5.54750924]),\n",
       "       array([53.63182731, 72.02425555, 34.94303273,  6.60022324]),\n",
       "       array([33.79196845, 77.62821593, 36.5149695 ,  2.71772485]),\n",
       "       array([47.64634753, 56.95583387, 32.32071314, 13.77334914]),\n",
       "       array([61.66468637, 10.87846395, 35.50554968, 22.45576644]),\n",
       "       array([35.73163719, 66.13180454, 39.70700027, 12.72141559]),\n",
       "       array([47.50934016, 54.6484794 , 30.43983618, 18.40804293]),\n",
       "       array([46.72146799, 55.7964359 , 34.26814563,  9.79188257]),\n",
       "       array([38.61852019, 70.69336136, 30.47127451, 13.72841027]),\n",
       "       array([41.14319558, 61.14908704, 33.51973965,  4.46175619]),\n",
       "       array([40.37714235, 43.48411359, 32.75048812, 15.50527304]),\n",
       "       array([14.52843414, 46.51538259, 39.11402977, 23.68868545])],\n",
       "      dtype=object)"
      ]
     },
     "execution_count": 29,
     "metadata": {
      "tags": []
     },
     "output_type": "execute_result"
    }
   ],
   "source": [
    "df[0].values"
   ]
  },
  {
   "cell_type": "code",
   "execution_count": null,
   "metadata": {
    "colab": {
     "base_uri": "https://localhost:8080/"
    },
    "id": "XmxIY4_4XjiT",
    "outputId": "603b8eeb-5485-4f9f-afbf-a493fbb7ee35"
   },
   "outputs": [
    {
     "data": {
      "text/plain": [
       "56.03787163"
      ]
     },
     "execution_count": 39,
     "metadata": {
      "tags": []
     },
     "output_type": "execute_result"
    }
   ],
   "source": []
  },
  {
   "cell_type": "markdown",
   "metadata": {
    "id": "3dG-EuT7rqj2"
   },
   "source": []
  },
  {
   "cell_type": "code",
   "execution_count": null,
   "metadata": {
    "colab": {
     "base_uri": "https://localhost:8080/"
    },
    "id": "ujfWvDln_SAA",
    "outputId": "af77035d-685e-4690-cb21-398f6a90a309"
   },
   "outputs": [
    {
     "data": {
      "text/plain": [
       "-322.51599464072933"
      ]
     },
     "execution_count": 19,
     "metadata": {
      "tags": []
     },
     "output_type": "execute_result"
    }
   ],
   "source": [
    "res.fun"
   ]
  },
  {
   "cell_type": "code",
   "execution_count": null,
   "metadata": {
    "colab": {
     "base_uri": "https://localhost:8080/"
    },
    "id": "8rd7aWiFcVZU",
    "outputId": "df707bda-dd9e-47b3-c037-e76200a5a0a4"
   },
   "outputs": [
    {
     "data": {
      "text/plain": [
       "     fun: -147.35177146032174\n",
       " message: 'Optimization terminated successfully.'\n",
       "    nfev: 2165\n",
       "     nit: 35\n",
       " success: True\n",
       "       x: array([0.07113714, 0.46832062, 0.58970269, 0.31754141])"
      ]
     },
     "execution_count": 10,
     "metadata": {
      "tags": []
     },
     "output_type": "execute_result"
    }
   ],
   "source": [
    "res"
   ]
  },
  {
   "cell_type": "code",
   "execution_count": null,
   "metadata": {
    "id": "8sC9LP8KTh0D"
   },
   "outputs": [],
   "source": [
    "df = pd.DataFrame(np.array([ 7.11371398, 46.83206155, 58.97026889, 31.75414135]))\n",
    "df.to_csv('mean_best_smt.csv')"
   ]
  },
  {
   "cell_type": "code",
   "execution_count": null,
   "metadata": {
    "id": "eCA2rPibOlBW"
   },
   "outputs": [],
   "source": [
    "tra = evaluate(res.x,1982,2011,True)\n",
    "\n",
    "mean_train_prof=(tra.Final['Yield (tonne/ha)']*180 - tra.Final['Seasonal irrigation (mm)']*1  -1728).values"
   ]
  },
  {
   "cell_type": "code",
   "execution_count": null,
   "metadata": {
    "id": "fxD0PCUHw0ua"
   },
   "outputs": [],
   "source": [
    "mean_train_df = pd.DataFrame(mean_train_prof,columns=['mean_profit'])\n",
    "mean_train_df['year']= np.arange(1982,2012)\n",
    "mean_train_df['train_test'] = 'train'"
   ]
  },
  {
   "cell_type": "code",
   "execution_count": null,
   "metadata": {
    "colab": {
     "base_uri": "https://localhost:8080/"
    },
    "id": "8ERx7BMtdZZE",
    "outputId": "3640b8e8-a1d7-49ff-eb98-e74c068e3a7a"
   },
   "outputs": [
    {
     "data": {
      "text/plain": [
       "<aquacrop.classes.OutputClass at 0x7f1853540e10>"
      ]
     },
     "execution_count": 13,
     "metadata": {
      "tags": []
     },
     "output_type": "execute_result"
    }
   ],
   "source": [
    "t = evaluate(res.x,2012,2018,True);t"
   ]
  },
  {
   "cell_type": "code",
   "execution_count": null,
   "metadata": {
    "id": "jpF-P1UjdGHc"
   },
   "outputs": [],
   "source": [
    "mean_test_prof = (t.Final['Yield (tonne/ha)']*180 - t.Final['Seasonal irrigation (mm)']*1  -1728).values\n",
    "mean_test_df = pd.DataFrame(mean_test_prof,columns=['mean_profit'])\n",
    "mean_test_df['year']= np.arange(2012,2019)\n",
    "mean_test_df['train_test'] = 'test'"
   ]
  },
  {
   "cell_type": "code",
   "execution_count": null,
   "metadata": {
    "id": "U2SoXjWXxioW"
   },
   "outputs": [],
   "source": [
    "mean_df = pd.concat([mean_train_df,mean_test_df])"
   ]
  },
  {
   "cell_type": "code",
   "execution_count": null,
   "metadata": {
    "id": "b_OeKabBx2WB"
   },
   "outputs": [],
   "source": [
    "mean_df['smt1'] = res.x[0]*100\n",
    "mean_df['smt2'] = res.x[1]*100\n",
    "mean_df['smt3'] = res.x[2]*100"
   ]
  },
  {
   "cell_type": "code",
   "execution_count": null,
   "metadata": {
    "colab": {
     "base_uri": "https://localhost:8080/",
     "height": 204
    },
    "id": "PpRZjPnpyAi7",
    "outputId": "4e6d9d8e-be34-4885-ffae-b5c8fca9de0a"
   },
   "outputs": [
    {
     "data": {
      "text/html": [
       "<div>\n",
       "<style scoped>\n",
       "    .dataframe tbody tr th:only-of-type {\n",
       "        vertical-align: middle;\n",
       "    }\n",
       "\n",
       "    .dataframe tbody tr th {\n",
       "        vertical-align: top;\n",
       "    }\n",
       "\n",
       "    .dataframe thead th {\n",
       "        text-align: right;\n",
       "    }\n",
       "</style>\n",
       "<table border=\"1\" class=\"dataframe\">\n",
       "  <thead>\n",
       "    <tr style=\"text-align: right;\">\n",
       "      <th></th>\n",
       "      <th>mean_profit</th>\n",
       "      <th>year</th>\n",
       "      <th>train_test</th>\n",
       "      <th>smt1</th>\n",
       "      <th>smt2</th>\n",
       "      <th>smt3</th>\n",
       "    </tr>\n",
       "  </thead>\n",
       "  <tbody>\n",
       "    <tr>\n",
       "      <th>0</th>\n",
       "      <td>529.639603</td>\n",
       "      <td>1982</td>\n",
       "      <td>train</td>\n",
       "      <td>47.595163</td>\n",
       "      <td>61.197686</td>\n",
       "      <td>36.150318</td>\n",
       "    </tr>\n",
       "    <tr>\n",
       "      <th>1</th>\n",
       "      <td>167.107559</td>\n",
       "      <td>1983</td>\n",
       "      <td>train</td>\n",
       "      <td>47.595163</td>\n",
       "      <td>61.197686</td>\n",
       "      <td>36.150318</td>\n",
       "    </tr>\n",
       "    <tr>\n",
       "      <th>2</th>\n",
       "      <td>181.258515</td>\n",
       "      <td>1984</td>\n",
       "      <td>train</td>\n",
       "      <td>47.595163</td>\n",
       "      <td>61.197686</td>\n",
       "      <td>36.150318</td>\n",
       "    </tr>\n",
       "    <tr>\n",
       "      <th>3</th>\n",
       "      <td>283.784067</td>\n",
       "      <td>1985</td>\n",
       "      <td>train</td>\n",
       "      <td>47.595163</td>\n",
       "      <td>61.197686</td>\n",
       "      <td>36.150318</td>\n",
       "    </tr>\n",
       "    <tr>\n",
       "      <th>4</th>\n",
       "      <td>425.477395</td>\n",
       "      <td>1986</td>\n",
       "      <td>train</td>\n",
       "      <td>47.595163</td>\n",
       "      <td>61.197686</td>\n",
       "      <td>36.150318</td>\n",
       "    </tr>\n",
       "  </tbody>\n",
       "</table>\n",
       "</div>"
      ],
      "text/plain": [
       "   mean_profit  year train_test       smt1       smt2       smt3\n",
       "0   529.639603  1982      train  47.595163  61.197686  36.150318\n",
       "1   167.107559  1983      train  47.595163  61.197686  36.150318\n",
       "2   181.258515  1984      train  47.595163  61.197686  36.150318\n",
       "3   283.784067  1985      train  47.595163  61.197686  36.150318\n",
       "4   425.477395  1986      train  47.595163  61.197686  36.150318"
      ]
     },
     "execution_count": 33,
     "metadata": {
      "tags": []
     },
     "output_type": "execute_result"
    }
   ],
   "source": [
    "mean_df.head()"
   ]
  },
  {
   "cell_type": "code",
   "execution_count": null,
   "metadata": {
    "colab": {
     "base_uri": "https://localhost:8080/",
     "height": 459
    },
    "id": "_i-iD7vZyHqG",
    "outputId": "7d8eef6c-83a0-40db-be68-24074f29eb97"
   },
   "outputs": [
    {
     "data": {
      "text/plain": [
       "<matplotlib.axes._subplots.AxesSubplot at 0x7f1846e8c390>"
      ]
     },
     "execution_count": 37,
     "metadata": {
      "tags": []
     },
     "output_type": "execute_result"
    },
    {
     "data": {
      "image/png": "[encoded data removed]",
      "text/plain": [
       "<Figure size 720x504 with 1 Axes>"
      ]
     },
     "metadata": {
      "tags": []
     },
     "output_type": "display_data"
    }
   ],
   "source": [
    "import seaborn as sns\n",
    "fig,ax = plt.subplots(1,1,figsize=(10,7))\n",
    "sns.barplot(data=mean_df,x='year',y='mean_profit',ax=ax,hue='train_test')"
   ]
  },
  {
   "cell_type": "code",
   "execution_count": null,
   "metadata": {
    "colab": {
     "base_uri": "https://localhost:8080/",
     "height": 282
    },
    "id": "aowD-TJQvOYn",
    "outputId": "9c2f8c72-7a72-4c77-b715-b07a8cd68bc9"
   },
   "outputs": [
    {
     "data": {
      "text/plain": [
       "[<matplotlib.lines.Line2D at 0x7f1853dd7910>]"
      ]
     },
     "execution_count": 20,
     "metadata": {
      "tags": []
     },
     "output_type": "execute_result"
    },
    {
     "data": {
      "image/png": "[encoded data removed]",
      "text/plain": [
       "<Figure size 432x288 with 1 Axes>"
      ]
     },
     "metadata": {
      "tags": []
     },
     "output_type": "display_data"
    }
   ],
   "source": [
    "plt.plot(mean_test_prof)"
   ]
  },
  {
   "cell_type": "code",
   "execution_count": null,
   "metadata": {
    "id": "sTKHdKTCvOez"
   },
   "outputs": [],
   "source": []
  },
  {
   "cell_type": "code",
   "execution_count": null,
   "metadata": {
    "colab": {
     "base_uri": "https://localhost:8080/"
    },
    "id": "Nk1rlO68vOkm",
    "outputId": "f4ed9941-05bc-448a-974d-e0289c70002e"
   },
   "outputs": [
    {
     "name": "stderr",
     "output_type": "stream",
     "text": [
      "/usr/local/lib/python3.7/dist-packages/scipy/optimize/_differentialevolution.py:494: UserWarning: differential_evolution: the 'workers' keyword has overridden updating='immediate' to updating='deferred'\n",
      "  \" updating='deferred'\", UserWarning)\n"
     ]
    },
    {
     "name": "stdout",
     "output_type": "stream",
     "text": [
      "differential_evolution step 1: f(x)= -128.385\n",
      "differential_evolution step 2: f(x)= -128.385\n",
      "differential_evolution step 3: f(x)= -129.4\n",
      "differential_evolution step 4: f(x)= -129.4\n",
      "differential_evolution step 5: f(x)= -129.4\n",
      "differential_evolution step 6: f(x)= -129.4\n",
      "differential_evolution step 7: f(x)= -134.567\n",
      "differential_evolution step 8: f(x)= -134.694\n",
      "differential_evolution step 9: f(x)= -137.769\n",
      "differential_evolution step 10: f(x)= -142.198\n",
      "differential_evolution step 11: f(x)= -142.198\n",
      "differential_evolution step 12: f(x)= -147.569\n",
      "differential_evolution step 13: f(x)= -147.569\n",
      "differential_evolution step 14: f(x)= -147.569\n",
      "differential_evolution step 15: f(x)= -147.569\n",
      "differential_evolution step 16: f(x)= -147.569\n",
      "differential_evolution step 17: f(x)= -147.569\n",
      "differential_evolution step 18: f(x)= -148.093\n",
      "differential_evolution step 19: f(x)= -148.093\n",
      "differential_evolution step 20: f(x)= -148.093\n",
      "differential_evolution step 21: f(x)= -148.093\n",
      "differential_evolution step 22: f(x)= -148.394\n",
      "differential_evolution step 23: f(x)= -148.394\n",
      "differential_evolution step 24: f(x)= -148.394\n",
      "differential_evolution step 25: f(x)= -148.394\n",
      "differential_evolution step 26: f(x)= -148.394\n",
      "differential_evolution step 27: f(x)= -149.559\n",
      "differential_evolution step 28: f(x)= -149.559\n",
      "differential_evolution step 29: f(x)= -149.702\n",
      "differential_evolution step 30: f(x)= -149.959\n",
      "differential_evolution step 31: f(x)= -149.959\n",
      "differential_evolution step 32: f(x)= -149.959\n",
      "differential_evolution step 33: f(x)= -149.959\n",
      "differential_evolution step 34: f(x)= -149.959\n",
      "differential_evolution step 35: f(x)= -149.959\n",
      "differential_evolution step 36: f(x)= -149.959\n"
     ]
    },
    {
     "name": "stderr",
     "output_type": "stream",
     "text": [
      "/usr/local/lib/python3.7/dist-packages/scipy/optimize/_differentialevolution.py:494: UserWarning: differential_evolution: the 'workers' keyword has overridden updating='immediate' to updating='deferred'\n",
      "  \" updating='deferred'\", UserWarning)\n"
     ]
    },
    {
     "name": "stdout",
     "output_type": "stream",
     "text": [
      "differential_evolution step 1: f(x)= -384.492\n",
      "differential_evolution step 2: f(x)= -384.492\n",
      "differential_evolution step 3: f(x)= -384.492\n",
      "differential_evolution step 4: f(x)= -384.492\n",
      "differential_evolution step 5: f(x)= -395.061\n",
      "differential_evolution step 6: f(x)= -398.395\n",
      "differential_evolution step 7: f(x)= -403.965\n",
      "differential_evolution step 8: f(x)= -403.965\n",
      "differential_evolution step 9: f(x)= -409.206\n",
      "differential_evolution step 10: f(x)= -409.206\n",
      "differential_evolution step 11: f(x)= -409.206\n",
      "differential_evolution step 12: f(x)= -409.206\n",
      "differential_evolution step 13: f(x)= -409.206\n",
      "differential_evolution step 14: f(x)= -409.206\n",
      "differential_evolution step 15: f(x)= -409.206\n",
      "differential_evolution step 16: f(x)= -409.206\n",
      "differential_evolution step 17: f(x)= -409.206\n",
      "differential_evolution step 18: f(x)= -409.206\n",
      "differential_evolution step 19: f(x)= -409.206\n",
      "differential_evolution step 20: f(x)= -409.206\n",
      "differential_evolution step 21: f(x)= -409.206\n",
      "differential_evolution step 22: f(x)= -409.206\n",
      "differential_evolution step 23: f(x)= -409.206\n",
      "differential_evolution step 24: f(x)= -409.206\n",
      "differential_evolution step 25: f(x)= -409.206\n",
      "differential_evolution step 26: f(x)= -409.206\n",
      "differential_evolution step 27: f(x)= -409.206\n",
      "differential_evolution step 28: f(x)= -409.206\n",
      "differential_evolution step 29: f(x)= -409.206\n",
      "differential_evolution step 30: f(x)= -409.206\n",
      "differential_evolution step 31: f(x)= -409.206\n",
      "differential_evolution step 32: f(x)= -409.206\n",
      "differential_evolution step 33: f(x)= -409.206\n",
      "differential_evolution step 34: f(x)= -409.206\n",
      "differential_evolution step 35: f(x)= -409.206\n",
      "differential_evolution step 36: f(x)= -409.206\n",
      "differential_evolution step 37: f(x)= -409.206\n",
      "differential_evolution step 38: f(x)= -409.206\n",
      "differential_evolution step 39: f(x)= -409.206\n"
     ]
    },
    {
     "name": "stderr",
     "output_type": "stream",
     "text": [
      "/usr/local/lib/python3.7/dist-packages/scipy/optimize/_differentialevolution.py:494: UserWarning: differential_evolution: the 'workers' keyword has overridden updating='immediate' to updating='deferred'\n",
      "  \" updating='deferred'\", UserWarning)\n"
     ]
    },
    {
     "name": "stdout",
     "output_type": "stream",
     "text": [
      "differential_evolution step 1: f(x)= -628.741\n",
      "differential_evolution step 2: f(x)= -628.741\n",
      "differential_evolution step 3: f(x)= -647.689\n",
      "differential_evolution step 4: f(x)= -651.311\n",
      "differential_evolution step 5: f(x)= -655.207\n",
      "differential_evolution step 6: f(x)= -658.997\n",
      "differential_evolution step 7: f(x)= -662.435\n",
      "differential_evolution step 8: f(x)= -662.435\n",
      "differential_evolution step 9: f(x)= -662.435\n",
      "differential_evolution step 10: f(x)= -662.435\n",
      "differential_evolution step 11: f(x)= -662.435\n",
      "differential_evolution step 12: f(x)= -668.368\n",
      "differential_evolution step 13: f(x)= -668.368\n",
      "differential_evolution step 14: f(x)= -668.368\n",
      "differential_evolution step 15: f(x)= -668.368\n",
      "differential_evolution step 16: f(x)= -668.368\n",
      "differential_evolution step 17: f(x)= -668.368\n",
      "differential_evolution step 18: f(x)= -668.368\n",
      "differential_evolution step 19: f(x)= -668.368\n"
     ]
    },
    {
     "name": "stderr",
     "output_type": "stream",
     "text": [
      "/usr/local/lib/python3.7/dist-packages/scipy/optimize/_differentialevolution.py:494: UserWarning: differential_evolution: the 'workers' keyword has overridden updating='immediate' to updating='deferred'\n",
      "  \" updating='deferred'\", UserWarning)\n"
     ]
    },
    {
     "name": "stdout",
     "output_type": "stream",
     "text": [
      "differential_evolution step 1: f(x)= -556.553\n",
      "differential_evolution step 2: f(x)= -556.553\n",
      "differential_evolution step 3: f(x)= -557.832\n",
      "differential_evolution step 4: f(x)= -564.321\n",
      "differential_evolution step 5: f(x)= -564.321\n",
      "differential_evolution step 6: f(x)= -564.321\n",
      "differential_evolution step 7: f(x)= -565.212\n",
      "differential_evolution step 8: f(x)= -566.292\n",
      "differential_evolution step 9: f(x)= -569.12\n",
      "differential_evolution step 10: f(x)= -569.632\n",
      "differential_evolution step 11: f(x)= -569.632\n",
      "differential_evolution step 12: f(x)= -569.632\n",
      "differential_evolution step 13: f(x)= -569.632\n",
      "differential_evolution step 14: f(x)= -569.632\n",
      "differential_evolution step 15: f(x)= -569.632\n",
      "differential_evolution step 16: f(x)= -569.632\n",
      "differential_evolution step 17: f(x)= -569.632\n"
     ]
    },
    {
     "name": "stderr",
     "output_type": "stream",
     "text": [
      "/usr/local/lib/python3.7/dist-packages/scipy/optimize/_differentialevolution.py:494: UserWarning: differential_evolution: the 'workers' keyword has overridden updating='immediate' to updating='deferred'\n",
      "  \" updating='deferred'\", UserWarning)\n"
     ]
    },
    {
     "name": "stdout",
     "output_type": "stream",
     "text": [
      "differential_evolution step 1: f(x)= -469.125\n",
      "differential_evolution step 2: f(x)= -469.125\n",
      "differential_evolution step 3: f(x)= -478.759\n",
      "differential_evolution step 4: f(x)= -481.207\n",
      "differential_evolution step 5: f(x)= -481.207\n",
      "differential_evolution step 6: f(x)= -488.254\n",
      "differential_evolution step 7: f(x)= -489.421\n",
      "differential_evolution step 8: f(x)= -489.421\n",
      "differential_evolution step 9: f(x)= -489.421\n",
      "differential_evolution step 10: f(x)= -491.152\n",
      "differential_evolution step 11: f(x)= -491.152\n",
      "differential_evolution step 12: f(x)= -491.152\n",
      "differential_evolution step 13: f(x)= -491.152\n",
      "differential_evolution step 14: f(x)= -491.979\n",
      "differential_evolution step 15: f(x)= -491.979\n",
      "differential_evolution step 16: f(x)= -498.196\n",
      "differential_evolution step 17: f(x)= -498.196\n",
      "differential_evolution step 18: f(x)= -498.196\n",
      "differential_evolution step 19: f(x)= -498.196\n",
      "differential_evolution step 20: f(x)= -502.858\n",
      "differential_evolution step 21: f(x)= -502.858\n",
      "differential_evolution step 22: f(x)= -502.858\n",
      "differential_evolution step 23: f(x)= -502.858\n",
      "differential_evolution step 24: f(x)= -503.241\n",
      "differential_evolution step 25: f(x)= -503.241\n",
      "differential_evolution step 26: f(x)= -503.241\n",
      "differential_evolution step 27: f(x)= -503.241\n",
      "differential_evolution step 28: f(x)= -503.286\n",
      "differential_evolution step 29: f(x)= -503.286\n",
      "differential_evolution step 30: f(x)= -503.286\n",
      "differential_evolution step 31: f(x)= -503.286\n",
      "differential_evolution step 32: f(x)= -503.286\n",
      "differential_evolution step 33: f(x)= -503.286\n",
      "differential_evolution step 34: f(x)= -503.286\n",
      "differential_evolution step 35: f(x)= -503.286\n",
      "differential_evolution step 36: f(x)= -505.622\n",
      "differential_evolution step 37: f(x)= -505.622\n",
      "differential_evolution step 38: f(x)= -505.78\n",
      "differential_evolution step 39: f(x)= -505.871\n",
      "differential_evolution step 40: f(x)= -505.871\n",
      "differential_evolution step 41: f(x)= -505.871\n",
      "differential_evolution step 42: f(x)= -505.871\n",
      "differential_evolution step 43: f(x)= -507.257\n",
      "differential_evolution step 44: f(x)= -507.257\n",
      "differential_evolution step 45: f(x)= -507.257\n",
      "differential_evolution step 46: f(x)= -507.257\n",
      "differential_evolution step 47: f(x)= -507.257\n",
      "differential_evolution step 48: f(x)= -507.257\n",
      "differential_evolution step 49: f(x)= -507.257\n"
     ]
    },
    {
     "name": "stderr",
     "output_type": "stream",
     "text": [
      "/usr/local/lib/python3.7/dist-packages/scipy/optimize/_differentialevolution.py:494: UserWarning: differential_evolution: the 'workers' keyword has overridden updating='immediate' to updating='deferred'\n",
      "  \" updating='deferred'\", UserWarning)\n"
     ]
    },
    {
     "name": "stdout",
     "output_type": "stream",
     "text": [
      "differential_evolution step 1: f(x)= -472.241\n",
      "differential_evolution step 2: f(x)= -472.673\n",
      "differential_evolution step 3: f(x)= -472.673\n",
      "differential_evolution step 4: f(x)= -474.851\n",
      "differential_evolution step 5: f(x)= -477.492\n",
      "differential_evolution step 6: f(x)= -482.04\n",
      "differential_evolution step 7: f(x)= -482.04\n",
      "differential_evolution step 8: f(x)= -482.04\n",
      "differential_evolution step 9: f(x)= -482.733\n",
      "differential_evolution step 10: f(x)= -492.858\n",
      "differential_evolution step 11: f(x)= -492.858\n",
      "differential_evolution step 12: f(x)= -498.419\n",
      "differential_evolution step 13: f(x)= -498.419\n",
      "differential_evolution step 14: f(x)= -498.419\n",
      "differential_evolution step 15: f(x)= -498.462\n",
      "differential_evolution step 16: f(x)= -498.462\n",
      "differential_evolution step 17: f(x)= -498.462\n",
      "differential_evolution step 18: f(x)= -498.462\n",
      "differential_evolution step 19: f(x)= -498.462\n",
      "differential_evolution step 20: f(x)= -498.462\n",
      "differential_evolution step 21: f(x)= -498.462\n",
      "differential_evolution step 22: f(x)= -498.462\n",
      "differential_evolution step 23: f(x)= -498.462\n",
      "differential_evolution step 24: f(x)= -498.462\n",
      "differential_evolution step 25: f(x)= -498.462\n",
      "differential_evolution step 26: f(x)= -498.462\n",
      "differential_evolution step 27: f(x)= -498.462\n",
      "differential_evolution step 28: f(x)= -498.462\n",
      "differential_evolution step 29: f(x)= -498.462\n",
      "differential_evolution step 30: f(x)= -498.462\n"
     ]
    },
    {
     "name": "stderr",
     "output_type": "stream",
     "text": [
      "/usr/local/lib/python3.7/dist-packages/scipy/optimize/_differentialevolution.py:494: UserWarning: differential_evolution: the 'workers' keyword has overridden updating='immediate' to updating='deferred'\n",
      "  \" updating='deferred'\", UserWarning)\n"
     ]
    },
    {
     "name": "stdout",
     "output_type": "stream",
     "text": [
      "differential_evolution step 1: f(x)= -606.437\n",
      "differential_evolution step 2: f(x)= -606.437\n",
      "differential_evolution step 3: f(x)= -606.437\n",
      "differential_evolution step 4: f(x)= -606.544\n",
      "differential_evolution step 5: f(x)= -606.544\n",
      "differential_evolution step 6: f(x)= -606.544\n",
      "differential_evolution step 7: f(x)= -606.718\n",
      "differential_evolution step 8: f(x)= -606.718\n",
      "differential_evolution step 9: f(x)= -606.718\n",
      "differential_evolution step 10: f(x)= -606.718\n",
      "differential_evolution step 11: f(x)= -606.718\n",
      "differential_evolution step 12: f(x)= -606.718\n",
      "differential_evolution step 13: f(x)= -606.718\n"
     ]
    }
   ],
   "source": [
    "smt_results=[]\n",
    "prof_results=[]\n",
    "\n",
    "for year in range(2012,2019):\n",
    "    func =partial(evaluate,year1=year,year2=year)\n",
    "\n",
    "    max_bound = np.ones(4)\n",
    "    min_bound = np.zeros(4)\n",
    "    bounds = [(min_bound[i], max_bound[i]) for i in range(4)]\n",
    "\n",
    "    res = differential_evolution(func,bounds=bounds,disp=True,workers=2,seed=43)\n",
    "    smt_results.append(res.x*100)\n",
    "    prof_results.append(res.fun*-1)"
   ]
  },
  {
   "cell_type": "code",
   "execution_count": null,
   "metadata": {
    "id": "3E4LeGVKHNWU"
   },
   "outputs": [],
   "source": []
  },
  {
   "cell_type": "code",
   "execution_count": null,
   "metadata": {
    "id": "Q-mObH000PtV"
   },
   "outputs": [],
   "source": [
    "over_prof = np.array(prof_results)\n",
    "over_df = pd.DataFrame(over_prof,columns=['mean_profit'])\n",
    "over_df['year']= np.arange(1982,2019)\n",
    "over_df['train_test'] = 'over'"
   ]
  },
  {
   "cell_type": "code",
   "execution_count": null,
   "metadata": {
    "colab": {
     "base_uri": "https://localhost:8080/"
    },
    "id": "B4CILXBcHtAs",
    "outputId": "de97e659-6251-4e0b-eec1-822219639188"
   },
   "outputs": [
    {
     "data": {
      "text/plain": [
       "array([[37.35675152, 82.88553767, 32.52538225],\n",
       "       [37.18192217, 69.94614147, 34.71149299],\n",
       "       [50.25091294, 65.59120488, 39.01266175],\n",
       "       [59.55524108, 65.10039033, 33.3610664 ],\n",
       "       [25.9004121 , 61.07515693, 32.63634212],\n",
       "       [15.48873416, 46.58882356, 39.51241203],\n",
       "       [21.09061389, 70.73531824, 39.13174538],\n",
       "       [58.81783934, 67.79572613, 34.38490148],\n",
       "       [70.15777082, 68.79940762, 40.75593239],\n",
       "       [16.25735656, 72.71399319, 33.80252906],\n",
       "       [57.37232998, 16.49217922, 45.04726498],\n",
       "       [47.79382143,  8.49095325, 42.50260176],\n",
       "       [55.68535507, 62.71059372, 37.11775382],\n",
       "       [37.93772216, 64.30785904, 35.35075431],\n",
       "       [31.97681325, 24.28899821, 29.38607065],\n",
       "       [21.37781295, 55.33771293, 34.11194175],\n",
       "       [54.28739695, 63.74489431, 46.84520779],\n",
       "       [46.38596122, 58.89682992, 30.38748273],\n",
       "       [37.12467656, 74.60409337, 41.30314374],\n",
       "       [58.80320024, 73.43344853, 34.71785885],\n",
       "       [70.08135357, 73.70561403, 35.48557291],\n",
       "       [35.09687395, 87.01485726, 33.51392537],\n",
       "       [62.63410488, 56.42798327, 34.80542825],\n",
       "       [34.72292484, 71.16719035, 51.63943903],\n",
       "       [61.65514995, 59.13281607, 34.27598741],\n",
       "       [54.73800929, 56.67700044, 38.77121625],\n",
       "       [39.43890999, 72.51494179, 33.92901939],\n",
       "       [38.22964826, 58.164786  , 38.93364392],\n",
       "       [56.93583962, 51.7991735 , 36.07540067],\n",
       "       [ 5.00008461, 63.43345823, 36.95242529],\n",
       "       [26.14160425, 79.92024767, 39.78085624],\n",
       "       [46.68465562, 62.5731844 , 34.89496832],\n",
       "       [29.48062852, 66.2960764 , 30.76327663],\n",
       "       [13.46738829, 57.71554931, 42.21268529],\n",
       "       [26.24376408, 75.14314295, 30.79802576],\n",
       "       [28.19564807, 67.29336463, 38.69167886],\n",
       "       [17.39814188, 67.6277    , 37.95162335]])"
      ]
     },
     "execution_count": 44,
     "metadata": {
      "tags": []
     },
     "output_type": "execute_result"
    }
   ],
   "source": [
    "np.array(smt_results)"
   ]
  },
  {
   "cell_type": "code",
   "execution_count": null,
   "metadata": {
    "id": "akOg0rAL0P2z"
   },
   "outputs": [],
   "source": [
    "over_df['smt1'] = np.array(smt_results)[:,0]\n",
    "over_df['smt2'] = np.array(smt_results)[:,1]\n",
    "over_df['smt3'] = np.array(smt_results)[:,2]"
   ]
  },
  {
   "cell_type": "code",
   "execution_count": null,
   "metadata": {
    "id": "9Pz6bd3HIBfv"
   },
   "outputs": [],
   "source": [
    "full_df = pd.concat([mean_df,over_df])"
   ]
  },
  {
   "cell_type": "code",
   "execution_count": null,
   "metadata": {
    "colab": {
     "base_uri": "https://localhost:8080/",
     "height": 459
    },
    "id": "wIITsZp-IPvV",
    "outputId": "ed33c248-cc1e-4470-e726-54c3c1947cdc"
   },
   "outputs": [
    {
     "data": {
      "text/plain": [
       "<matplotlib.axes._subplots.AxesSubplot at 0x7f1846eb4810>"
      ]
     },
     "execution_count": 48,
     "metadata": {
      "tags": []
     },
     "output_type": "execute_result"
    },
    {
     "data": {
      "image/png": "[encoded data removed]",
      "text/plain": [
       "<Figure size 720x504 with 1 Axes>"
      ]
     },
     "metadata": {
      "tags": []
     },
     "output_type": "display_data"
    }
   ],
   "source": [
    "fig,ax = plt.subplots(1,1,figsize=(10,7))\n",
    "sns.barplot(data=full_df,x='year',y='mean_profit',ax=ax,hue='train_test')"
   ]
  },
  {
   "cell_type": "code",
   "execution_count": null,
   "metadata": {
    "colab": {
     "base_uri": "https://localhost:8080/",
     "height": 142
    },
    "id": "Gi750cPrITzY",
    "outputId": "f3b30155-c00c-4759-b876-1b73a18937d1"
   },
   "outputs": [
    {
     "data": {
      "text/html": [
       "<div>\n",
       "<style scoped>\n",
       "    .dataframe tbody tr th:only-of-type {\n",
       "        vertical-align: middle;\n",
       "    }\n",
       "\n",
       "    .dataframe tbody tr th {\n",
       "        vertical-align: top;\n",
       "    }\n",
       "\n",
       "    .dataframe thead th {\n",
       "        text-align: right;\n",
       "    }\n",
       "</style>\n",
       "<table border=\"1\" class=\"dataframe\">\n",
       "  <thead>\n",
       "    <tr style=\"text-align: right;\">\n",
       "      <th></th>\n",
       "      <th>mean_profit</th>\n",
       "      <th>year</th>\n",
       "      <th>smt1</th>\n",
       "      <th>smt2</th>\n",
       "      <th>smt3</th>\n",
       "    </tr>\n",
       "    <tr>\n",
       "      <th>train_test</th>\n",
       "      <th></th>\n",
       "      <th></th>\n",
       "      <th></th>\n",
       "      <th></th>\n",
       "      <th></th>\n",
       "    </tr>\n",
       "  </thead>\n",
       "  <tbody>\n",
       "    <tr>\n",
       "      <th>over</th>\n",
       "      <td>449.442166</td>\n",
       "      <td>1996.5</td>\n",
       "      <td>43.311185</td>\n",
       "      <td>60.785903</td>\n",
       "      <td>37.032887</td>\n",
       "    </tr>\n",
       "    <tr>\n",
       "      <th>train</th>\n",
       "      <td>422.139832</td>\n",
       "      <td>1996.5</td>\n",
       "      <td>47.595163</td>\n",
       "      <td>61.197686</td>\n",
       "      <td>36.150318</td>\n",
       "    </tr>\n",
       "  </tbody>\n",
       "</table>\n",
       "</div>"
      ],
      "text/plain": [
       "            mean_profit    year       smt1       smt2       smt3\n",
       "train_test                                                      \n",
       "over         449.442166  1996.5  43.311185  60.785903  37.032887\n",
       "train        422.139832  1996.5  47.595163  61.197686  36.150318"
      ]
     },
     "execution_count": 72,
     "metadata": {
      "tags": []
     },
     "output_type": "execute_result"
    }
   ],
   "source": [
    "full_df[full_df.year<2012].groupby('train_test').mean()"
   ]
  },
  {
   "cell_type": "code",
   "execution_count": null,
   "metadata": {
    "id": "ZCY8EgXMIPy8"
   },
   "outputs": [],
   "source": [
    "full_df.to_csv('smt_paper2.csv',index=None)"
   ]
  },
  {
   "cell_type": "code",
   "execution_count": null,
   "metadata": {
    "id": "ByOyNCYsIP24"
   },
   "outputs": [],
   "source": []
  },
  {
   "cell_type": "code",
   "execution_count": null,
   "metadata": {
    "id": "_SIMiO5JKNeu"
   },
   "outputs": [],
   "source": []
  },
  {
   "cell_type": "code",
   "execution_count": null,
   "metadata": {
    "id": "AknnItDbKNhV"
   },
   "outputs": [],
   "source": [
    "def evaluate_more(smt,year1,year2,eval=False,):\n",
    "\n",
    "    global t,train_prof\n",
    "    smt=smt.flatten()\n",
    "\n",
    "    model = AquaCropModel(f'{year1}/05/01',f'{year2}/12/31',wdf,\n",
    "            Soil=SoilClass('ClayLoam'),Crop=CropClass('Maize',PlantingDate='05/01'),\n",
    "            InitWC=InitWCClass(wc_type='Pct',value=[70]),IrrMngt=IrrMngtClass(5))\n",
    "\n",
    "    model.initialize()\n",
    "    # model.weather[:,2]=0\n",
    "    # model.weather[:,3]=3.5\n",
    "\n",
    "    while not model.ClockStruct.ModelTermination:\n",
    "        if model.InitCond.TAW>0:\n",
    "            dep = model.InitCond.Depletion/model.InitCond.TAW\n",
    "        else:\n",
    "            dep=0\n",
    "\n",
    "        # gs = int(model.InitCond.GrowthStage)-1\n",
    "        gs = int(model.InitCond.DAP/9)\n",
    "        if gs<0:\n",
    "            depth=0\n",
    "        else:\n",
    "            if 1-dep< smt[gs]:\n",
    "                depth = min(dep*model.InitCond.TAW,model.IrrMngt.MaxIrr)\n",
    "            else:\n",
    "                depth=0\n",
    "\n",
    "        model.ParamStruct.IrrMngt.depth = depth\n",
    "        model.step()\n",
    "\n",
    "\n",
    "        if model.ClockStruct.ModelTermination:\n",
    "            break\n",
    "\n",
    "    fin = model.Outputs.Final\n",
    "    if eval:\n",
    "        return model.Outputs\n",
    "    else:\n",
    "        prof = (fin['Yield (tonne/ha)'].mean()*180 - fin['Seasonal irrigation (mm)'].mean()*1  -1728)\n",
    "        # if t%50==0:\n",
    "        #     train_prof.append(prof)\n",
    "        # print(prof)\n",
    "        return -prof"
   ]
  },
  {
   "cell_type": "code",
   "execution_count": null,
   "metadata": {
    "colab": {
     "base_uri": "https://localhost:8080/"
    },
    "id": "bURsyeoaOfFY",
    "outputId": "2f22f4b7-3b96-4273-8b2f-4f894949403b"
   },
   "outputs": [
    {
     "data": {
      "text/plain": [
       "17"
      ]
     },
     "execution_count": 64,
     "metadata": {
      "tags": []
     },
     "output_type": "execute_result"
    }
   ],
   "source": [
    "int(155/9)"
   ]
  },
  {
   "cell_type": "code",
   "execution_count": null,
   "metadata": {
    "colab": {
     "base_uri": "https://localhost:8080/"
    },
    "id": "hLcu-56NOF_Y",
    "outputId": "29841b72-f8f6-4df8-d3d9-5ac02416f251"
   },
   "outputs": [
    {
     "data": {
      "text/plain": [
       "-266.89460781392404"
      ]
     },
     "execution_count": 69,
     "metadata": {
      "tags": []
     },
     "output_type": "execute_result"
    }
   ],
   "source": [
    "evaluate_more(np.ones(20)*0.7,1982,2011)"
   ]
  },
  {
   "cell_type": "code",
   "execution_count": null,
   "metadata": {
    "colab": {
     "base_uri": "https://localhost:8080/"
    },
    "id": "c3nGZEcvKNj-",
    "outputId": "65d4f240-646b-4c68-c62a-04345b616c03"
   },
   "outputs": [
    {
     "name": "stderr",
     "output_type": "stream",
     "text": [
      "/usr/local/lib/python3.7/dist-packages/scipy/optimize/_differentialevolution.py:494: UserWarning: differential_evolution: the 'workers' keyword has overridden updating='immediate' to updating='deferred'\n",
      "  \" updating='deferred'\", UserWarning)\n"
     ]
    },
    {
     "name": "stdout",
     "output_type": "stream",
     "text": [
      "differential_evolution step 1: f(x)= -378.319\n",
      "differential_evolution step 2: f(x)= -381.016\n",
      "differential_evolution step 3: f(x)= -395.76\n",
      "differential_evolution step 4: f(x)= -395.76\n",
      "differential_evolution step 5: f(x)= -395.76\n",
      "differential_evolution step 6: f(x)= -396.27\n",
      "differential_evolution step 7: f(x)= -396.27\n",
      "differential_evolution step 8: f(x)= -401.667\n",
      "differential_evolution step 9: f(x)= -401.667\n",
      "differential_evolution step 10: f(x)= -401.667\n",
      "differential_evolution step 11: f(x)= -401.667\n",
      "differential_evolution step 12: f(x)= -401.667\n",
      "differential_evolution step 13: f(x)= -403.571\n",
      "differential_evolution step 14: f(x)= -403.571\n",
      "differential_evolution step 15: f(x)= -403.571\n",
      "differential_evolution step 16: f(x)= -409.626\n",
      "differential_evolution step 17: f(x)= -409.626\n",
      "differential_evolution step 18: f(x)= -409.626\n",
      "differential_evolution step 19: f(x)= -409.626\n",
      "differential_evolution step 20: f(x)= -409.705\n",
      "differential_evolution step 21: f(x)= -409.705\n",
      "differential_evolution step 22: f(x)= -409.817\n",
      "differential_evolution step 23: f(x)= -409.817\n",
      "differential_evolution step 24: f(x)= -409.817\n",
      "differential_evolution step 25: f(x)= -409.817\n",
      "differential_evolution step 26: f(x)= -409.817\n",
      "differential_evolution step 27: f(x)= -409.817\n",
      "differential_evolution step 28: f(x)= -409.817\n",
      "differential_evolution step 29: f(x)= -409.817\n",
      "differential_evolution step 30: f(x)= -409.817\n",
      "differential_evolution step 31: f(x)= -409.817\n",
      "differential_evolution step 32: f(x)= -411.672\n",
      "differential_evolution step 33: f(x)= -411.672\n",
      "differential_evolution step 34: f(x)= -414.836\n",
      "differential_evolution step 35: f(x)= -414.836\n",
      "differential_evolution step 36: f(x)= -414.836\n",
      "differential_evolution step 37: f(x)= -414.942\n",
      "differential_evolution step 38: f(x)= -414.942\n",
      "differential_evolution step 39: f(x)= -414.942\n",
      "differential_evolution step 40: f(x)= -414.942\n",
      "differential_evolution step 41: f(x)= -414.942\n",
      "differential_evolution step 42: f(x)= -417.144\n",
      "differential_evolution step 43: f(x)= -417.144\n",
      "differential_evolution step 44: f(x)= -417.144\n",
      "differential_evolution step 45: f(x)= -417.144\n",
      "differential_evolution step 46: f(x)= -417.144\n",
      "differential_evolution step 47: f(x)= -417.144\n",
      "differential_evolution step 48: f(x)= -417.144\n",
      "differential_evolution step 49: f(x)= -417.144\n",
      "differential_evolution step 50: f(x)= -417.144\n"
     ]
    }
   ],
   "source": [
    "func =partial(evaluate_more,year1=1982,year2=2011)\n",
    "\n",
    "max_bound = np.ones(20)\n",
    "min_bound = np.zeros(20)\n",
    "bounds = [(min_bound[i], max_bound[i]) for i in range(20)]\n",
    "\n",
    "res_new = differential_evolution(func,bounds=bounds,disp=True,workers=2,seed=43)"
   ]
  },
  {
   "cell_type": "code",
   "execution_count": null,
   "metadata": {
    "id": "52tsj-6TKNnE"
   },
   "outputs": [],
   "source": []
  },
  {
   "cell_type": "code",
   "execution_count": null,
   "metadata": {
    "id": "FMpsqh6vKNpA"
   },
   "outputs": [],
   "source": []
  },
  {
   "cell_type": "code",
   "execution_count": null,
   "metadata": {
    "id": "DMlnD89jKNrl"
   },
   "outputs": [],
   "source": []
  },
  {
   "cell_type": "code",
   "execution_count": null,
   "metadata": {
    "id": "3RIfAiH0KNud"
   },
   "outputs": [],
   "source": []
  },
  {
   "cell_type": "code",
   "execution_count": null,
   "metadata": {
    "colab": {
     "base_uri": "https://localhost:8080/"
    },
    "id": "5PZVIDvBVHuz",
    "outputId": "512deca4-3b8d-4902-afd9-1164f4341868"
   },
   "outputs": [
    {
     "name": "stdout",
     "output_type": "stream",
     "text": [
      "Optimization terminated successfully.\n",
      "         Current function value: 85.985543\n",
      "         Iterations: 24\n",
      "         Function evaluations: 75\n"
     ]
    },
    {
     "data": {
      "text/plain": [
       "-33.40440927095642"
      ]
     },
     "execution_count": 36,
     "metadata": {
      "tags": []
     },
     "output_type": "execute_result"
    }
   ],
   "source": [
    "res = fmin(func,x0=np.ones(4)*0.6,)\n",
    "evaluate(res,1989,2018)"
   ]
  },
  {
   "cell_type": "code",
   "execution_count": null,
   "metadata": {
    "colab": {
     "base_uri": "https://localhost:8080/"
    },
    "id": "mASSgOnbUsck",
    "outputId": "ad357dd6-64fd-4ae8-efa0-1d34e33a6e64"
   },
   "outputs": [
    {
     "name": "stdout",
     "output_type": "stream",
     "text": [
      "Optimization terminated successfully.\n",
      "         Current function value: 6.063852\n",
      "         Iterations: 37\n",
      "         Function evaluations: 94\n"
     ]
    },
    {
     "data": {
      "text/plain": [
       "-86.35122542449426"
      ]
     },
     "execution_count": 37,
     "metadata": {
      "tags": []
     },
     "output_type": "execute_result"
    }
   ],
   "source": [
    "res = fmin(func,x0=np.ones(4)*0.3,)\n",
    "evaluate(res,1989,2018)"
   ]
  },
  {
   "cell_type": "code",
   "execution_count": null,
   "metadata": {
    "colab": {
     "base_uri": "https://localhost:8080/"
    },
    "id": "GWR0BhMOVwvY",
    "outputId": "0050d2c6-c2a3-41c5-ecf8-8a029b5c4d82"
   },
   "outputs": [
    {
     "data": {
      "text/plain": [
       "array([0.70503484, 0.2688516 , 0.87511942, 0.49088893])"
      ]
     },
     "execution_count": 39,
     "metadata": {
      "tags": []
     },
     "output_type": "execute_result"
    }
   ],
   "source": [
    "np.random.uniform(0,1,4)"
   ]
  },
  {
   "cell_type": "code",
   "execution_count": null,
   "metadata": {
    "id": "9Z2peURrYfkJ"
   },
   "outputs": [],
   "source": []
  },
  {
   "cell_type": "code",
   "execution_count": null,
   "metadata": {
    "id": "cIPZDo_oVgi2"
   },
   "outputs": [],
   "source": [
    "# for k in range(20):\n",
    "#     res = fmin(func,x0=np.random.uniform(0,1,4))\n",
    "#     ptest=evaluate(res,1989,2018)\n",
    "#     print('train',func(res),'test',ptest)"
   ]
  },
  {
   "cell_type": "code",
   "execution_count": null,
   "metadata": {
    "colab": {
     "base_uri": "https://localhost:8080/"
    },
    "id": "D_Gy35ibVgmT",
    "outputId": "7b1bd8ab-b529-4821-dab4-6f20ae053040"
   },
   "outputs": [
    {
     "data": {
      "text/plain": [
       "6.063852039380208"
      ]
     },
     "execution_count": 41,
     "metadata": {
      "tags": []
     },
     "output_type": "execute_result"
    }
   ],
   "source": [
    "func(res)"
   ]
  },
  {
   "cell_type": "code",
   "execution_count": null,
   "metadata": {
    "id": "FiDettS0VgrP"
   },
   "outputs": [],
   "source": []
  },
  {
   "cell_type": "code",
   "execution_count": null,
   "metadata": {
    "id": "CY_UiRdGVgwX"
   },
   "outputs": [],
   "source": []
  },
  {
   "cell_type": "code",
   "execution_count": null,
   "metadata": {
    "id": "sIvLmw8Qlznt"
   },
   "outputs": [],
   "source": [
    "\n",
    "# from pyswarms.single import GlobalBestPSO\n",
    "# from functools import partial\n",
    "\n",
    "\n",
    "# # Create bounds\n",
    "# max_bound = np.ones(4)\n",
    "# min_bound = np.zeros(4)\n",
    "# bounds = (min_bound, max_bound)\n",
    "# centre = np.ones(4)*0.5\n",
    "\n",
    "# my_options = {'c1': 1, 'c2': 1, 'w':0.9}\n",
    "\n",
    "# func =partial(evaluate,year1=1982,year2=1988)\n",
    "\n",
    "# optimizer = GlobalBestPSO(n_particles=100, dimensions=4, options=my_options,center=centre) # Reuse our previous options\n",
    "# res=optimizer.optimize(func, iters=10,verbose=0)"
   ]
  },
  {
   "cell_type": "code",
   "execution_count": null,
   "metadata": {
    "id": "MjprMJyJOJ21"
   },
   "outputs": [],
   "source": [
    "# for k in range(20):\n",
    "\n",
    "#     optimizer = GlobalBestPSO(n_particles=100, dimensions=4, options=my_options,center=centre) # Reuse our previous options\n",
    "#     res=optimizer.optimize(func, iters=10,verbose=0)\n",
    "#     print(res)"
   ]
  },
  {
   "cell_type": "code",
   "execution_count": null,
   "metadata": {
    "id": "FELrcy8ZPhGY"
   },
   "outputs": [],
   "source": []
  }
 ],
 "metadata": {
  "colab": {
   "name": "Paper 2 adaptable smts.ipynb",
   "provenance": [],
   "toc_visible": true
  },
  "interpreter": {
   "hash": "e3e3ddf753151e8447fc28cb1f16d0a9022e11a16370ccf5e7398f6ab2bb1919"
  },
  "kernelspec": {
   "display_name": "Python 3.8.12 64-bit ('rllib': conda)",
   "name": "python3"
  },
  "language_info": {
   "codemirror_mode": {
    "name": "ipython",
    "version": 3
   },
   "file_extension": ".py",
   "mimetype": "text/x-python",
   "name": "python",
   "nbconvert_exporter": "python",
   "pygments_lexer": "ipython3",
   "version": "3.8.12"
  }
 },
 "nbformat": 4,
 "nbformat_minor": 4
}