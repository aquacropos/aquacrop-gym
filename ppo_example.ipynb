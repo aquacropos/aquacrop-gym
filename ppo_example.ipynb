{
 "cells": [
  {
   "cell_type": "markdown",
   "id": "1833ae09",
   "metadata": {},
   "source": [
    "# aquacrop-gym: PPO example\n",
    "\n",
    "This notebook will show the processed used to train a PPO agent to learn to make irrigation decisions within AquaCrop-OSPy\n",
    "\n"
   ]
  },
  {
   "cell_type": "markdown",
   "id": "c7a19705",
   "metadata": {},
   "source": [
    "import libraries and functions"
   ]
  },
  {
   "cell_type": "code",
   "execution_count": null,
   "id": "e2f1cffb",
   "metadata": {},
   "outputs": [],
   "source": [
    "from aquacrop.classes import *\n",
    "from aquacrop.core import *\n",
    " \n",
    "\n",
    "import pandas as pd\n",
    "import matplotlib.pyplot as plt\n",
    "import seaborn as sns\n",
    "\n",
    "from aquacropgym.utils import calc_eto_faopm\n",
    "from aquacropgym.envs import CropEnv, nebraska_maize_config\n",
    "from aquacropgym.utils import evaluate_agent\n",
    "from aquacropgym.utils import calc_eto_faopm\n",
    "\n",
    "import copy\n",
    "\n",
    "import ray"
   ]
  },
  {
   "cell_type": "markdown",
   "id": "2ff9cdb1",
   "metadata": {},
   "source": [
    "import LARS-WG generated weather data (100 years split into 70 train and 30 test)\n",
    "\n",
    "calculate ET0 using FAO-PM"
   ]
  },
  {
   "cell_type": "code",
   "execution_count": null,
   "id": "436494f8",
   "metadata": {},
   "outputs": [],
   "source": [
    "#CP  Lat.(deg)= 40.40  Long.(deg)=101.73  Elev.(m)=1072.\n",
    "gendf=calc_eto_faopm('data/CPWG.dat',1995,40.4,1072,True,[\"simyear\",\"jday\",\"minTemp\",\"maxTemp\",\"precip\",\"rad\"])\n",
    "gendf.head()"
   ]
  },
  {
   "cell_type": "markdown",
   "id": "566b5d47",
   "metadata": {},
   "source": [
    "## Define crop simulation config options\n",
    "\n",
    "oAll other env params can be seen in `aquacropgym/envs.py`"
   ]
  },
  {
   "cell_type": "code",
   "execution_count": null,
   "id": "6cd4c954",
   "metadata": {},
   "outputs": [],
   "source": [
    "IRR_CAP=10_000 # max amount of irrigation (mm/ha) that can be applied in a single season\n",
    "ACTION_SET='binary' # action sets, alternatives are: 'depth', 'binary', 'smt4'\n",
    "DAYS_TO_IRR=7 # 'number of days between irrigation decisons (e.g., 1, 3, 5, 7)\n"
   ]
  },
  {
   "cell_type": "code",
   "execution_count": null,
   "id": "686803ff",
   "metadata": {},
   "outputs": [],
   "source": [
    "envconfig=nebraska_maize_config.copy() # get default config dictionary\n",
    "envconfig['gendf']=gendf # set weather data\n",
    "envconfig['year2']=70 # end of the train/test split\n",
    "envconfig['normalize_obs']=True # normalize input observation (with a pre calculated mean and standard deviation)\n",
    "envconfig['include_rain']=True # include rainfall within weather data\n",
    "envconfig['observation_set']='default' # set of variables to pass to agent\n",
    "envconfig['max_irr']=25 # max irrigation that can be applied in a single irrigation event\n",
    "\n",
    "envconfig['action_set']=ACTION_SET # action sets, alternatives are: 'depth', 'binary', 'smt4'\n",
    "envconfig['days_to_irr']=DAYS_TO_IRR # 'number of days between irrigation decisons (e.g., 1, 3, 5, 7)\n",
    "envconfig['max_irr_season']=IRR_CAP # max amount of irrigation (mm/ha) that can be applied in a single season\n"
   ]
  },
  {
   "cell_type": "code",
   "execution_count": null,
   "id": "0e849477",
   "metadata": {},
   "outputs": [],
   "source": [
    "env=CropEnv(envconfig)"
   ]
  },
  {
   "cell_type": "markdown",
   "id": "a5ff4e9c",
   "metadata": {},
   "source": [
    "## initialize ray library"
   ]
  },
  {
   "cell_type": "code",
   "execution_count": null,
   "id": "669e47f8",
   "metadata": {},
   "outputs": [],
   "source": [
    "ray.shutdown()"
   ]
  },
  {
   "cell_type": "code",
   "execution_count": null,
   "id": "ce6f257e",
   "metadata": {},
   "outputs": [],
   "source": [
    "ray.init(num_cpus=1,num_gpus=0) # set number of cpus and gpus available"
   ]
  },
  {
   "cell_type": "markdown",
   "id": "6d382336",
   "metadata": {},
   "source": [
    "## set ppo params"
   ]
  },
  {
   "cell_type": "code",
   "execution_count": null,
   "id": "b0870a2e",
   "metadata": {},
   "outputs": [],
   "source": [
    "from ray.rllib.agents.ppo import ppo\n",
    "\n",
    "config = ppo.DEFAULT_CONFIG.copy()\n",
    "\n",
    "config['num_workers'] = 1\n",
    "config['num_gpus'] = 0\n",
    "config['observation_filter'] = 'MeanStdFilter' # normalize observations\n",
    "config['rollout_fragment_length'] = 160\n",
    "config['train_batch_size'] = 512\n",
    "config['model']['fcnet_hiddens'] = [64]*3\n",
    "config['num_cpus_per_worker'] = 0 \n",
    "config['framework'] = 'torch'\n",
    "config['gamma'] = 1.\n",
    "config['env_config']=envconfig\n",
    "config['model']['vf_share_layers'] = False"
   ]
  },
  {
   "cell_type": "markdown",
   "id": "3656a7d0",
   "metadata": {},
   "source": [
    "## create ppo agent"
   ]
  },
  {
   "cell_type": "code",
   "execution_count": null,
   "id": "98ed0f0e",
   "metadata": {},
   "outputs": [],
   "source": [
    "agent = ppo.PPOTrainer(config, CropEnv)"
   ]
  },
  {
   "cell_type": "markdown",
   "id": "14899575",
   "metadata": {},
   "source": [
    "## train and evaluate agent"
   ]
  },
  {
   "cell_type": "code",
   "execution_count": null,
   "id": "9c7db766",
   "metadata": {},
   "outputs": [],
   "source": [
    "proftrain=[]\n",
    "proftest=[]\n",
    "timesteps=[]\n",
    "caps=[]\n",
    "\n",
    "for i in range(1,500001):\n",
    "    result = agent.train()\n",
    "\n",
    "    ts = result['timesteps_total']\n",
    "\n",
    "    if i%5==0: # evaluate agent on train and test years\n",
    "\n",
    "        print('eval')\n",
    "        for irr_cap in [IRR_CAP]:\n",
    "            test_env_config=copy.deepcopy(envconfig) # make a copy of the training env\n",
    "            test_env_config['evaluation_run']=True # sets env to evaluation mode\n",
    "\n",
    "            train_rew, test_rew = evaluate_agent(agent,CropEnv,test_env_config) # evaluate agent\n",
    "            \n",
    "            proftrain.append(train_rew)\n",
    "            proftest.append(test_rew)\n",
    "            timesteps.append(ts)\n",
    "            caps.append(irr_cap)\n",
    "\n",
    "            print(irr_cap,f'Train:{round(train_rew,3)}')\n",
    "            print(irr_cap,f'Test:{round(test_rew,3)}')\n",
    "\n",
    "\n",
    "    if i%5==0: # save results\n",
    "        checkpoint_path = agent.save()\n",
    "        print(checkpoint_path)\n",
    "\n",
    "        result_df = pd.DataFrame([timesteps,proftrain,proftest,caps]).T\n",
    "        result_df.to_csv(f'outputs/neb_corn_ppo_day_{DAYS_TO_IRR}_act_{ACTION_SET}_cap_{IRR_CAP}.csv')\n",
    "        plt.plot(timesteps,proftrain)\n",
    "        plt.plot(timesteps,proftest)\n",
    "        plt.show()"
   ]
  },
  {
   "cell_type": "code",
   "execution_count": null,
   "id": "a88214a3",
   "metadata": {},
   "outputs": [],
   "source": []
  }
 ],
 "metadata": {
  "interpreter": {
   "hash": "e3e3ddf753151e8447fc28cb1f16d0a9022e11a16370ccf5e7398f6ab2bb1919"
  },
  "kernelspec": {
   "display_name": "gymenv",
   "language": "python",
   "name": "gymenv"
  },
  "language_info": {
   "codemirror_mode": {
    "name": "ipython",
    "version": 3
   },
   "file_extension": ".py",
   "mimetype": "text/x-python",
   "name": "python",
   "nbconvert_exporter": "python",
   "pygments_lexer": "ipython3",
   "version": "3.8.10"
  }
 },
 "nbformat": 4,
 "nbformat_minor": 5
}
