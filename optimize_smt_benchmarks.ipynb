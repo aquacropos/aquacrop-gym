{
 "cells": [
  {
   "cell_type": "markdown",
   "metadata": {
    "id": "o51TohvwrsMa"
   },
   "source": [
    "# Adaptable irrigation strategies \n",
    "## soil moisture targets\n",
    "\n",
    "Previous work has examined the benifits of choosing the optimal irrigation stratgy for farm profits and water use efficiency.\n",
    "\n",
    "Though as the season unfolds, farmers may want to adjust their irrigation strategy based on the climate conditions so far and their expectation of the weather for the rest of the season.\n"
   ]
  },
  {
   "cell_type": "code",
   "execution_count": 1,
   "metadata": {
    "colab": {
     "base_uri": "https://localhost:8080/"
    },
    "id": "K4jRhbXPd_ob",
    "outputId": "327575d3-2be7-41de-fce0-ade1993df590"
   },
   "outputs": [],
   "source": [
    "# !pip install aquacrop"
   ]
  },
  {
   "cell_type": "code",
   "execution_count": 2,
   "metadata": {
    "id": "GlzEnDpxeCNa"
   },
   "outputs": [],
   "source": [
    "from aquacrop.classes import *\n",
    "from aquacrop.core import *\n",
    "from aquacrop.lars import *\n",
    "\n",
    "from scipy.optimize import differential_evolution\n",
    "import numpy as np\n",
    "from functools import partial\n",
    "import pandas as pd\n",
    "import matplotlib.pyplot as plt"
   ]
  },
  {
   "cell_type": "code",
   "execution_count": 3,
   "metadata": {},
   "outputs": [],
   "source": [
    "from aquacropgym.envs import CropEnv, nebraska_maize_config, cordoba_cotton_config,california_tomato_config\n",
    "from aquacropgym.utils import evaluate_agent,evaluate_agent_single_year\n",
    "from aquacropgym.utils import calc_eto_faopm\n"
   ]
  },
  {
   "cell_type": "code",
   "execution_count": 4,
   "metadata": {},
   "outputs": [],
   "source": [
    "class FixedThresholdAgent():\n",
    "    def __init__(self,smts):\n",
    "        self.smts=smts # gievn as fraction\n",
    "\n",
    "    \n",
    "    def compute_action(self,obs):\n",
    "        \"default observation set\"\n",
    "\n",
    "        return (self.smts*2)-1"
   ]
  },
  {
   "cell_type": "markdown",
   "metadata": {},
   "source": [
    "## Champion - Maize"
   ]
  },
  {
   "cell_type": "code",
   "execution_count": 8,
   "metadata": {},
   "outputs": [],
   "source": [
    "\n",
    "#CP  Lat.(deg)= 40.40  Long.(deg)=101.73  Elev.(m)=1072. \n",
    "\n",
    "gendf=calc_eto_faopm('data/CPWG.dat',1995,40.4,1072,True,[\"simyear\",\"jday\",\"minTemp\",\"maxTemp\",\"precip\",\"rad\"])\n"
   ]
  },
  {
   "cell_type": "code",
   "execution_count": 11,
   "metadata": {},
   "outputs": [],
   "source": [
    "test_env_config=nebraska_maize_config.copy()\n",
    "\n",
    "test_env_config['gendf']=gendf\n",
    "test_env_config['evaluation_run']=True\n",
    "test_env_config['normalize_obs']=False\n",
    "# test_env_config['include_rain']=False\n",
    "test_env_config['action_set']='smt4'\n",
    "test_env_config['observation_set']='default'\n",
    "# test_env_config['irrigation_cost']=1.\n",
    "test_env_config['crop']='Cotton'\n",
    "test_env_config['crop_price']=366.\n",
    "# test_env_config['soil']='ClayLoam'\n",
    "\n"
   ]
  },
  {
   "cell_type": "code",
   "execution_count": 12,
   "metadata": {},
   "outputs": [
    {
     "data": {
      "text/plain": [
       "(-280.3196623997311, -279.6661787513153)"
      ]
     },
     "execution_count": 12,
     "metadata": {},
     "output_type": "execute_result"
    }
   ],
   "source": [
    "evaluate_agent(FixedThresholdAgent(np.array([0.69892958, 0.56825608, 0.35286359, 0.11124398])),CropEnv,test_env_config)"
   ]
  },
  {
   "cell_type": "code",
   "execution_count": 14,
   "metadata": {},
   "outputs": [],
   "source": [
    "def optim_func(smt):\n",
    "    train,test = evaluate_agent(FixedThresholdAgent(smt.reshape(-1)),CropEnv,test_env_config)\n",
    "    \n",
    "    return -train"
   ]
  },
  {
   "cell_type": "code",
   "execution_count": 15,
   "metadata": {
    "colab": {
     "base_uri": "https://localhost:8080/",
     "height": 287
    },
    "id": "K1Wg3fqjbytQ",
    "outputId": "32b53b95-6fb8-414d-9f9d-723f19a9baad"
   },
   "outputs": [
    {
     "name": "stderr",
     "output_type": "stream",
     "text": [
      "/home/mbyx3tk2/.local/lib/python3.8/site-packages/scipy/optimize/_differentialevolution.py:492: UserWarning: differential_evolution: the 'workers' keyword has overridden updating='immediate' to updating='deferred'\n",
      "  warnings.warn(\"differential_evolution: the 'workers' keyword has\"\n"
     ]
    },
    {
     "name": "stdout",
     "output_type": "stream",
     "text": [
      "differential_evolution step 1: f(x)= 250.606\n",
      "differential_evolution step 2: f(x)= 184.401\n",
      "differential_evolution step 3: f(x)= 155.155\n",
      "differential_evolution step 4: f(x)= 155.155\n",
      "differential_evolution step 5: f(x)= 155.155\n",
      "differential_evolution step 6: f(x)= 146.75\n",
      "differential_evolution step 7: f(x)= 146.75\n",
      "differential_evolution step 8: f(x)= 146.75\n",
      "differential_evolution step 9: f(x)= 146.75\n",
      "differential_evolution step 10: f(x)= 146.75\n",
      "differential_evolution step 11: f(x)= 143.63\n",
      "differential_evolution step 12: f(x)= 143.63\n"
     ]
    }
   ],
   "source": [
    "max_bound = np.ones(4)\n",
    "min_bound = np.zeros(4)\n",
    "bounds = [(min_bound[i], max_bound[i]) for i in range(4)]\n",
    "\n",
    "res = differential_evolution(optim_func,bounds=bounds,disp=True,workers=8,seed=43,tol=0.05)"
   ]
  },
  {
   "cell_type": "code",
   "execution_count": 16,
   "metadata": {},
   "outputs": [
    {
     "data": {
      "text/plain": [
       "     fun: 143.63007343536125\n",
       " message: 'Optimization terminated successfully.'\n",
       "    nfev: 785\n",
       "     nit: 12\n",
       " success: True\n",
       "       x: array([0.65195918, 0.28241524, 0.20799377, 0.17725579])"
      ]
     },
     "execution_count": 16,
     "metadata": {},
     "output_type": "execute_result"
    }
   ],
   "source": [
    "res"
   ]
  },
  {
   "cell_type": "code",
   "execution_count": 17,
   "metadata": {},
   "outputs": [
    {
     "data": {
      "text/plain": [
       "(-143.63007343536125, -151.97151695885836)"
      ]
     },
     "execution_count": 17,
     "metadata": {},
     "output_type": "execute_result"
    }
   ],
   "source": [
    "evaluate_agent(FixedThresholdAgent(res.x),CropEnv,test_env_config)"
   ]
  },
  {
   "cell_type": "markdown",
   "metadata": {},
   "source": [
    "single year"
   ]
  },
  {
   "cell_type": "code",
   "execution_count": null,
   "metadata": {},
   "outputs": [],
   "source": [
    "def optim_func_single_year(smt,sim_year=1):\n",
    "    prof = evaluate_agent_single_year(FixedThresholdAgent(smt.reshape(-1)),CropEnv,test_env_config,sim_year=sim_year)\n",
    "    \n",
    "    return -prof\n",
    "\n",
    "max_bound = np.ones(4)\n",
    "min_bound = np.zeros(4)\n",
    "bounds = [(min_bound[i], max_bound[i]) for i in range(4)]\n",
    "\n"
   ]
  },
  {
   "cell_type": "code",
   "execution_count": null,
   "metadata": {},
   "outputs": [],
   "source": [
    "from functools import partial"
   ]
  },
  {
   "cell_type": "code",
   "execution_count": null,
   "metadata": {},
   "outputs": [],
   "source": [
    "optim_func_single_year(np.array([0.7]*4))"
   ]
  },
  {
   "cell_type": "code",
   "execution_count": null,
   "metadata": {},
   "outputs": [],
   "source": [
    "years=[]\n",
    "smts=[]\n",
    "profs=[]\n",
    "for y in range(1,101):\n",
    "    func = partial(optim_func_single_year,sim_year=y)\n",
    "    res = differential_evolution(func,bounds=bounds,disp=True,workers=8,seed=43)\n",
    "    p = evaluate_agent_single_year(FixedThresholdAgent(res.x.reshape(-1)),CropEnv,test_env_config,y)\n",
    "    years.append(y)\n",
    "    smts.append(res.x)\n",
    "    profs.append(p)\n",
    "    result_df = pd.DataFrame([years,smts,profs]).T\n",
    "\n",
    "    result_df.to_csv('potential/optim_smt_results_oldcrop.csv')"
   ]
  },
  {
   "cell_type": "code",
   "execution_count": null,
   "metadata": {},
   "outputs": [],
   "source": []
  },
  {
   "cell_type": "code",
   "execution_count": null,
   "metadata": {},
   "outputs": [],
   "source": []
  },
  {
   "cell_type": "markdown",
   "metadata": {},
   "source": []
  },
  {
   "cell_type": "code",
   "execution_count": null,
   "metadata": {},
   "outputs": [],
   "source": []
  },
  {
   "cell_type": "markdown",
   "metadata": {},
   "source": [
    "## cordoba - cotton"
   ]
  },
  {
   "cell_type": "code",
   "execution_count": null,
   "metadata": {},
   "outputs": [],
   "source": [
    "#cd 37.31, 110\n",
    "gendf=calc_eto_faopm('data/CDWG.dat',2018,37.31,110,True,[\"simyear\",\"jday\",\"minTemp\",\"maxTemp\",\"precip\",\"rad\"])"
   ]
  },
  {
   "cell_type": "code",
   "execution_count": null,
   "metadata": {},
   "outputs": [],
   "source": [
    "test_env_config=cordoba_cotton_config.copy()\n",
    "\n",
    "test_env_config['gendf']=gendf\n",
    "test_env_config['evaluation_run']=True\n",
    "test_env_config['normalize_obs']=False\n",
    "test_env_config['action_set']='smt4'\n",
    "test_env_config['observation_set']='default'\n",
    "test_env_config['include_rain']=False\n"
   ]
  },
  {
   "cell_type": "code",
   "execution_count": null,
   "metadata": {},
   "outputs": [],
   "source": [
    "evaluate_agent(FixedThresholdAgent(np.array([0.58709859, 0.66129679, 0.34608978, 0.10645481])),CropEnv,test_env_config)"
   ]
  },
  {
   "cell_type": "code",
   "execution_count": null,
   "metadata": {},
   "outputs": [],
   "source": [
    "def optim_func(smt):\n",
    "    train,test = evaluate_agent(FixedThresholdAgent(smt.reshape(-1)),CropEnv,test_env_config)\n",
    "    \n",
    "    return -train"
   ]
  },
  {
   "cell_type": "code",
   "execution_count": null,
   "metadata": {
    "colab": {
     "base_uri": "https://localhost:8080/",
     "height": 287
    },
    "id": "K1Wg3fqjbytQ",
    "outputId": "32b53b95-6fb8-414d-9f9d-723f19a9baad"
   },
   "outputs": [],
   "source": [
    "max_bound = np.ones(4)\n",
    "min_bound = np.zeros(4)\n",
    "bounds = [(min_bound[i], max_bound[i]) for i in range(4)]\n",
    "\n",
    "res = differential_evolution(optim_func,bounds=bounds,disp=True,workers=8,seed=43)"
   ]
  },
  {
   "cell_type": "code",
   "execution_count": null,
   "metadata": {},
   "outputs": [],
   "source": [
    "res"
   ]
  },
  {
   "cell_type": "code",
   "execution_count": null,
   "metadata": {},
   "outputs": [],
   "source": [
    "evaluate_agent(FixedThresholdAgent(np.array([0.66630478, 0.40196164, 0.2504096 , 0.26958299])),CropEnv,test_env_config)"
   ]
  },
  {
   "cell_type": "code",
   "execution_count": null,
   "metadata": {},
   "outputs": [],
   "source": []
  },
  {
   "cell_type": "markdown",
   "metadata": {},
   "source": [
    "## California - Tomato"
   ]
  },
  {
   "cell_type": "code",
   "execution_count": 5,
   "metadata": {},
   "outputs": [],
   "source": [
    "\n",
    "#CL  37.49\t-121.07\t14.00 \n",
    "gendf= calc_eto_faopm('data/CLWG.dat',1995,37.49,14.0,True,[\"simyear\",\"jday\",\"minTemp\",\"maxTemp\",\"precip\",\"rad\"])\n"
   ]
  },
  {
   "cell_type": "code",
   "execution_count": 6,
   "metadata": {},
   "outputs": [],
   "source": [
    "test_env_config=california_tomato_config.copy()\n",
    "\n",
    "test_env_config['gendf']=gendf\n",
    "test_env_config['evaluation_run']=True\n",
    "test_env_config['normalize_obs']=False\n",
    "# test_env_config['include_rain']=False\n",
    "test_env_config['action_set']='smt4'\n",
    "test_env_config['observation_set']='default'\n",
    "# test_env_config['irrigation_cost']=1.\n",
    "# test_env_config['crop']='MaizeChampionGDD'\n",
    "# test_env_config['soil']='ClayLoam'\n",
    "\n"
   ]
  },
  {
   "cell_type": "code",
   "execution_count": null,
   "metadata": {},
   "outputs": [],
   "source": []
  },
  {
   "cell_type": "code",
   "execution_count": 7,
   "metadata": {},
   "outputs": [],
   "source": [
    "wdf=gendf[gendf.simyear==4].drop('simyear',axis=1)"
   ]
  },
  {
   "cell_type": "code",
   "execution_count": 8,
   "metadata": {},
   "outputs": [
    {
     "data": {
      "text/html": [
       "<div>\n",
       "<style scoped>\n",
       "    .dataframe tbody tr th:only-of-type {\n",
       "        vertical-align: middle;\n",
       "    }\n",
       "\n",
       "    .dataframe tbody tr th {\n",
       "        vertical-align: top;\n",
       "    }\n",
       "\n",
       "    .dataframe thead th {\n",
       "        text-align: right;\n",
       "    }\n",
       "</style>\n",
       "<table border=\"1\" class=\"dataframe\">\n",
       "  <thead>\n",
       "    <tr style=\"text-align: right;\">\n",
       "      <th></th>\n",
       "      <th>Season</th>\n",
       "      <th>Crop Type</th>\n",
       "      <th>Harvest Date (YYYY/MM/DD)</th>\n",
       "      <th>Harvest Date (Step)</th>\n",
       "      <th>Yield (tonne/ha)</th>\n",
       "      <th>Seasonal irrigation (mm)</th>\n",
       "    </tr>\n",
       "  </thead>\n",
       "  <tbody>\n",
       "    <tr>\n",
       "      <th>0</th>\n",
       "      <td>0</td>\n",
       "      <td>Tomato</td>\n",
       "      <td>1995-08-19</td>\n",
       "      <td>109</td>\n",
       "      <td>7.652106</td>\n",
       "      <td>756.363735</td>\n",
       "    </tr>\n",
       "  </tbody>\n",
       "</table>\n",
       "</div>"
      ],
      "text/plain": [
       "  Season Crop Type Harvest Date (YYYY/MM/DD) Harvest Date (Step)  \\\n",
       "0      0    Tomato                1995-08-19                 109   \n",
       "\n",
       "   Yield (tonne/ha)  Seasonal irrigation (mm)  \n",
       "0          7.652106                756.363735  "
      ]
     },
     "execution_count": 8,
     "metadata": {},
     "output_type": "execute_result"
    }
   ],
   "source": [
    "def run_model(smts,max_irr_season,year1,year2):\n",
    "    \"\"\"\n",
    "    funciton to run model and return results for given set of soil moisture targets\n",
    "    \"\"\"\n",
    "\n",
    "    maize = CropClass('Tomato',PlantingDate='05/1') # define crop\n",
    "    loam = SoilClass('Loam') # define soil\n",
    "    init_wc = InitWCClass(wc_type='Pct',value=[70]) # define initial soil water conditions\n",
    "\n",
    "    irrmngt = IrrMngtClass(IrrMethod=1,SMT=smts,MaxIrrSeason=max_irr_season) # define irrigation management\n",
    "\n",
    "    # create and run model\n",
    "    model = AquaCropModel(f'{year1}/05/1',f'{year2}/12/31',wdf,loam,maize,\n",
    "                          IrrMngt=irrmngt,InitWC=init_wc)\n",
    "    model.initialize()\n",
    "    model.step(till_termination=True)\n",
    "    return model.Outputs.Final\n",
    "\n",
    "run_model([70]*4,10_000,1995,1995)"
   ]
  },
  {
   "cell_type": "code",
   "execution_count": 17,
   "metadata": {},
   "outputs": [
    {
     "data": {
      "text/plain": [
       "619.65"
      ]
     },
     "execution_count": 17,
     "metadata": {},
     "output_type": "execute_result"
    }
   ],
   "source": []
  },
  {
   "cell_type": "code",
   "execution_count": 7,
   "metadata": {},
   "outputs": [
    {
     "data": {
      "text/plain": [
       "(270.9868053314722, 269.8517950217337)"
      ]
     },
     "execution_count": 7,
     "metadata": {},
     "output_type": "execute_result"
    }
   ],
   "source": [
    "evaluate_agent(FixedThresholdAgent(np.array([0.69892958, 0.56825608, 0.35286359, 0.11124398])),CropEnv,test_env_config)"
   ]
  },
  {
   "cell_type": "code",
   "execution_count": 8,
   "metadata": {},
   "outputs": [
    {
     "data": {
      "text/plain": [
       "(4.046373497676493, 4.514327303782176)"
      ]
     },
     "execution_count": 8,
     "metadata": {},
     "output_type": "execute_result"
    }
   ],
   "source": [
    "evaluate_agent(FixedThresholdAgent(np.array([0.]*4)),CropEnv,test_env_config)"
   ]
  },
  {
   "cell_type": "code",
   "execution_count": 9,
   "metadata": {},
   "outputs": [],
   "source": [
    "def optim_func(smt):\n",
    "    train,test = evaluate_agent(FixedThresholdAgent(smt.reshape(-1)),CropEnv,test_env_config)\n",
    "    \n",
    "    return -train"
   ]
  },
  {
   "cell_type": "code",
   "execution_count": 10,
   "metadata": {
    "colab": {
     "base_uri": "https://localhost:8080/",
     "height": 287
    },
    "id": "K1Wg3fqjbytQ",
    "outputId": "32b53b95-6fb8-414d-9f9d-723f19a9baad"
   },
   "outputs": [
    {
     "name": "stderr",
     "output_type": "stream",
     "text": [
      "/home/mbyx3tk2/.local/lib/python3.8/site-packages/scipy/optimize/_differentialevolution.py:492: UserWarning: differential_evolution: the 'workers' keyword has overridden updating='immediate' to updating='deferred'\n",
      "  warnings.warn(\"differential_evolution: the 'workers' keyword has\"\n"
     ]
    },
    {
     "name": "stdout",
     "output_type": "stream",
     "text": [
      "differential_evolution step 1: f(x)= -316.315\n",
      "differential_evolution step 2: f(x)= -318.177\n",
      "differential_evolution step 3: f(x)= -318.177\n",
      "differential_evolution step 4: f(x)= -318.177\n",
      "differential_evolution step 5: f(x)= -318.177\n",
      "differential_evolution step 6: f(x)= -318.177\n",
      "differential_evolution step 7: f(x)= -318.177\n",
      "differential_evolution step 8: f(x)= -318.681\n",
      "differential_evolution step 9: f(x)= -318.755\n"
     ]
    }
   ],
   "source": [
    "max_bound = np.ones(4)\n",
    "min_bound = np.zeros(4)\n",
    "bounds = [(min_bound[i], max_bound[i]) for i in range(4)]\n",
    "\n",
    "res = differential_evolution(optim_func,bounds=bounds,disp=True,workers=8,seed=43)"
   ]
  },
  {
   "cell_type": "code",
   "execution_count": 11,
   "metadata": {},
   "outputs": [
    {
     "data": {
      "text/plain": [
       "     fun: -318.7546385264889\n",
       " message: 'Optimization terminated successfully.'\n",
       "    nfev: 605\n",
       "     nit: 9\n",
       " success: True\n",
       "       x: array([0.64511612, 0.65667727, 0.79650656, 0.04541987])"
      ]
     },
     "execution_count": 11,
     "metadata": {},
     "output_type": "execute_result"
    }
   ],
   "source": [
    "res"
   ]
  },
  {
   "cell_type": "code",
   "execution_count": 12,
   "metadata": {},
   "outputs": [
    {
     "data": {
      "text/plain": [
       "(318.7546385264889, 316.29092174163)"
      ]
     },
     "execution_count": 12,
     "metadata": {},
     "output_type": "execute_result"
    }
   ],
   "source": [
    "evaluate_agent(FixedThresholdAgent(res.x),CropEnv,test_env_config)"
   ]
  },
  {
   "cell_type": "code",
   "execution_count": 13,
   "metadata": {},
   "outputs": [],
   "source": [
    "from aquacropgym.utils import get_mean_std"
   ]
  },
  {
   "cell_type": "code",
   "execution_count": 14,
   "metadata": {},
   "outputs": [
    {
     "name": "stdout",
     "output_type": "stream",
     "text": [
      "318.7546385264889\n",
      "(1120, 15)\n"
     ]
    },
    {
     "data": {
      "text/plain": [
       "(array([1.52500000e+01, 6.50000000e+00, 3.15283656e-01, 6.03125000e+01,\n",
       "        3.07615387e+02, 5.10523260e-01, 4.98117859e+02, 1.24298476e-01,\n",
       "        6.86775160e+00, 1.21339521e+01, 4.01664978e+02, 1.87500000e-01,\n",
       "        3.12500000e-01, 2.50000000e-01, 2.50000000e-01], dtype=float32),\n",
       " array([8.2120342e+00, 1.1180340e+00, 1.6626830e-01, 3.1970348e+01,\n",
       "        2.0187964e+02, 2.8188160e-01, 4.2335272e+02, 5.5605030e-01,\n",
       "        6.5448678e-01, 1.5673932e+01, 2.2597920e+02, 3.9031237e-01,\n",
       "        4.6351239e-01, 4.3301269e-01, 4.3301269e-01], dtype=float32))"
      ]
     },
     "execution_count": 14,
     "metadata": {},
     "output_type": "execute_result"
    }
   ],
   "source": [
    "get_mean_std(res.x,CropEnv,test_env_config)"
   ]
  },
  {
   "cell_type": "code",
   "execution_count": null,
   "metadata": {},
   "outputs": [],
   "source": []
  }
 ],
 "metadata": {
  "colab": {
   "name": "Paper 2 adaptable smts.ipynb",
   "provenance": [],
   "toc_visible": true
  },
  "interpreter": {
   "hash": "e3e3ddf753151e8447fc28cb1f16d0a9022e11a16370ccf5e7398f6ab2bb1919"
  },
  "kernelspec": {
   "display_name": "Python 3.8.12 64-bit ('rllib': conda)",
   "name": "python3"
  },
  "language_info": {
   "name": "python",
   "version": ""
  }
 },
 "nbformat": 4,
 "nbformat_minor": 4
}