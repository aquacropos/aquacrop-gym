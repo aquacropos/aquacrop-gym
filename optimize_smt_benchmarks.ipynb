{
 "cells": [
  {
   "cell_type": "markdown",
   "metadata": {
    "id": "o51TohvwrsMa"
   },
   "source": [
    "# Adaptable irrigation strategies \n",
    "## soil moisture targets\n",
    "\n",
    "Previous work has examined the benifits of choosing the optimal irrigation stratgy for farm profits and water use efficiency.\n",
    "\n",
    "Though as the season unfolds, farmers may want to adjust their irrigation strategy based on the climate conditions so far and their expectation of the weather for the rest of the season.\n"
   ]
  },
  {
   "cell_type": "code",
   "execution_count": 1,
   "metadata": {
    "colab": {
     "base_uri": "https://localhost:8080/"
    },
    "id": "K4jRhbXPd_ob",
    "outputId": "327575d3-2be7-41de-fce0-ade1993df590"
   },
   "outputs": [],
   "source": [
    "# !pip install aquacrop"
   ]
  },
  {
   "cell_type": "code",
   "execution_count": 1,
   "metadata": {
    "id": "GlzEnDpxeCNa"
   },
   "outputs": [],
   "source": [
    "from aquacrop.classes import *\n",
    "from aquacrop.core import *\n",
    "from aquacrop.lars import *\n",
    "\n",
    "from scipy.optimize import differential_evolution\n",
    "import numpy as np\n",
    "from functools import partial\n",
    "import pandas as pd\n",
    "import matplotlib.pyplot as plt"
   ]
  },
  {
   "cell_type": "code",
   "execution_count": 14,
   "metadata": {},
   "outputs": [],
   "source": [
    "from aquacropgym.envs import CropEnv, nebraska_maize_config, cordoba_cotton_config,california_tomato_config\n",
    "from aquacropgym.utils import evaluate_agent,evaluate_agent_single_year\n",
    "from aquacropgym.utils import calc_eto_faopm,get_mean_std\n"
   ]
  },
  {
   "cell_type": "code",
   "execution_count": 3,
   "metadata": {},
   "outputs": [],
   "source": [
    "class FixedThresholdAgent():\n",
    "    def __init__(self,smts):\n",
    "        self.smts=smts # gievn as fraction\n",
    "\n",
    "    \n",
    "    def compute_action(self,obs):\n",
    "        \"default observation set\"\n",
    "\n",
    "        return (self.smts*2)-1"
   ]
  },
  {
   "cell_type": "markdown",
   "metadata": {},
   "source": [
    "## Champion - Maize"
   ]
  },
  {
   "cell_type": "code",
   "execution_count": 4,
   "metadata": {},
   "outputs": [],
   "source": [
    "max_bound = np.ones(4)\n",
    "min_bound = np.zeros(4)\n",
    "bounds = [(min_bound[i], max_bound[i]) for i in range(4)]\n"
   ]
  },
  {
   "cell_type": "code",
   "execution_count": 10,
   "metadata": {},
   "outputs": [],
   "source": [
    "\n",
    "#CP  Lat.(deg)= 40.40  Long.(deg)=101.73  Elev.(m)=1072. \n",
    "\n",
    "gendf_neb=calc_eto_faopm('data/CPWG.dat',1995,40.4,1072,True,[\"simyear\",\"jday\",\"minTemp\",\"maxTemp\",\"precip\",\"rad\"])\n",
    "gendf_cal= calc_eto_faopm('data/CLWG.dat',1995,37.49,14.0,True,[\"simyear\",\"jday\",\"minTemp\",\"maxTemp\",\"precip\",\"rad\"])\n"
   ]
  },
  {
   "cell_type": "code",
   "execution_count": 11,
   "metadata": {},
   "outputs": [
    {
     "name": "stdout",
     "output_type": "stream",
     "text": [
      "0\n",
      "Maize\n",
      "(2010.3254644178012, 2016.4700266576485)\n"
     ]
    },
    {
     "name": "stderr",
     "output_type": "stream",
     "text": [
      "/home/mbyx3tk2/.local/lib/python3.8/site-packages/scipy/optimize/_differentialevolution.py:492: UserWarning: differential_evolution: the 'workers' keyword has overridden updating='immediate' to updating='deferred'\n",
      "  warnings.warn(\"differential_evolution: the 'workers' keyword has\"\n"
     ]
    },
    {
     "name": "stdout",
     "output_type": "stream",
     "text": [
      "differential_evolution step 1: f(x)= -2190.87\n",
      "differential_evolution step 2: f(x)= -2192.98\n",
      "differential_evolution step 3: f(x)= -2218.27\n",
      "differential_evolution step 4: f(x)= -2231.3\n",
      "differential_evolution step 5: f(x)= -2231.3\n",
      "differential_evolution step 6: f(x)= -2231.3\n",
      "differential_evolution step 7: f(x)= -2233.44\n",
      "differential_evolution step 8: f(x)= -2244.32\n",
      "differential_evolution step 9: f(x)= -2244.32\n",
      "differential_evolution step 10: f(x)= -2244.32\n",
      "differential_evolution step 11: f(x)= -2244.32\n",
      "differential_evolution step 12: f(x)= -2244.32\n",
      "differential_evolution step 13: f(x)= -2244.32\n",
      "differential_evolution step 14: f(x)= -2244.32\n",
      "differential_evolution step 15: f(x)= -2244.32\n",
      "differential_evolution step 16: f(x)= -2244.32\n",
      "differential_evolution step 17: f(x)= -2244.32\n",
      "differential_evolution step 18: f(x)= -2244.32\n",
      "(2244.3160234280404, 2249.6462754273703)\n",
      "[0.68250447 0.6045603  0.34735624 0.1599799 ]\n",
      "Sorghum\n",
      "(1212.875586753849, 1222.6191493344138)\n"
     ]
    },
    {
     "name": "stderr",
     "output_type": "stream",
     "text": [
      "/home/mbyx3tk2/.local/lib/python3.8/site-packages/scipy/optimize/_differentialevolution.py:492: UserWarning: differential_evolution: the 'workers' keyword has overridden updating='immediate' to updating='deferred'\n",
      "  warnings.warn(\"differential_evolution: the 'workers' keyword has\"\n"
     ]
    },
    {
     "name": "stdout",
     "output_type": "stream",
     "text": [
      "differential_evolution step 1: f(x)= -1541.17\n",
      "differential_evolution step 2: f(x)= -1547.22\n",
      "differential_evolution step 3: f(x)= -1597.67\n",
      "differential_evolution step 4: f(x)= -1597.67\n",
      "differential_evolution step 5: f(x)= -1597.67\n",
      "differential_evolution step 6: f(x)= -1608.32\n",
      "differential_evolution step 7: f(x)= -1608.32\n",
      "differential_evolution step 8: f(x)= -1608.41\n",
      "differential_evolution step 9: f(x)= -1611.03\n",
      "differential_evolution step 10: f(x)= -1614.94\n",
      "differential_evolution step 11: f(x)= -1620.33\n",
      "differential_evolution step 12: f(x)= -1620.39\n",
      "differential_evolution step 13: f(x)= -1632.59\n",
      "differential_evolution step 14: f(x)= -1634.97\n",
      "differential_evolution step 15: f(x)= -1634.97\n",
      "differential_evolution step 16: f(x)= -1640.99\n",
      "differential_evolution step 17: f(x)= -1641.07\n",
      "differential_evolution step 18: f(x)= -1643.11\n",
      "differential_evolution step 19: f(x)= -1646.54\n",
      "differential_evolution step 20: f(x)= -1646.54\n",
      "differential_evolution step 21: f(x)= -1648.19\n",
      "differential_evolution step 22: f(x)= -1648.19\n",
      "differential_evolution step 23: f(x)= -1648.56\n",
      "differential_evolution step 24: f(x)= -1648.56\n",
      "differential_evolution step 25: f(x)= -1648.56\n",
      "differential_evolution step 26: f(x)= -1648.56\n",
      "differential_evolution step 27: f(x)= -1648.56\n",
      "(1648.5570057685811, 1638.9138495807545)\n",
      "[0.63218822 0.44390192 0.2491184  0.02739477]\n",
      "Wheat\n",
      "(2286.788139619467, 2288.7346450953055)\n"
     ]
    },
    {
     "name": "stderr",
     "output_type": "stream",
     "text": [
      "/home/mbyx3tk2/.local/lib/python3.8/site-packages/scipy/optimize/_differentialevolution.py:492: UserWarning: differential_evolution: the 'workers' keyword has overridden updating='immediate' to updating='deferred'\n",
      "  warnings.warn(\"differential_evolution: the 'workers' keyword has\"\n"
     ]
    },
    {
     "name": "stdout",
     "output_type": "stream",
     "text": [
      "differential_evolution step 1: f(x)= -2427.99\n",
      "differential_evolution step 2: f(x)= -2427.99\n",
      "differential_evolution step 3: f(x)= -2427.99\n",
      "differential_evolution step 4: f(x)= -2427.99\n",
      "differential_evolution step 5: f(x)= -2430.02\n",
      "differential_evolution step 6: f(x)= -2430.02\n",
      "differential_evolution step 7: f(x)= -2434\n",
      "differential_evolution step 8: f(x)= -2434\n",
      "differential_evolution step 9: f(x)= -2434.87\n",
      "differential_evolution step 10: f(x)= -2434.87\n",
      "differential_evolution step 11: f(x)= -2439.44\n",
      "differential_evolution step 12: f(x)= -2443.55\n",
      "differential_evolution step 13: f(x)= -2443.55\n",
      "differential_evolution step 14: f(x)= -2443.55\n",
      "differential_evolution step 15: f(x)= -2443.55\n",
      "differential_evolution step 16: f(x)= -2443.55\n",
      "differential_evolution step 17: f(x)= -2443.55\n",
      "differential_evolution step 18: f(x)= -2443.55\n",
      "differential_evolution step 19: f(x)= -2443.55\n",
      "differential_evolution step 20: f(x)= -2443.55\n",
      "(2443.545378690777, 2440.3552296223133)\n",
      "[0.07481395 0.43470723 0.38203116 0.12806005]\n",
      "Tomato\n",
      "(191.610864264047, 198.827108030465)\n"
     ]
    },
    {
     "name": "stderr",
     "output_type": "stream",
     "text": [
      "/home/mbyx3tk2/.local/lib/python3.8/site-packages/scipy/optimize/_differentialevolution.py:492: UserWarning: differential_evolution: the 'workers' keyword has overridden updating='immediate' to updating='deferred'\n",
      "  warnings.warn(\"differential_evolution: the 'workers' keyword has\"\n"
     ]
    },
    {
     "name": "stdout",
     "output_type": "stream",
     "text": [
      "differential_evolution step 1: f(x)= -268.177\n",
      "differential_evolution step 2: f(x)= -268.177\n",
      "differential_evolution step 3: f(x)= -269.834\n",
      "differential_evolution step 4: f(x)= -281.888\n",
      "differential_evolution step 5: f(x)= -294.665\n",
      "differential_evolution step 6: f(x)= -294.665\n",
      "differential_evolution step 7: f(x)= -303.783\n",
      "differential_evolution step 8: f(x)= -307.884\n",
      "differential_evolution step 9: f(x)= -310.124\n",
      "differential_evolution step 10: f(x)= -310.38\n",
      "differential_evolution step 11: f(x)= -310.38\n",
      "differential_evolution step 12: f(x)= -310.478\n",
      "differential_evolution step 13: f(x)= -310.759\n",
      "differential_evolution step 14: f(x)= -310.931\n",
      "differential_evolution step 15: f(x)= -310.931\n",
      "differential_evolution step 16: f(x)= -311.566\n",
      "differential_evolution step 17: f(x)= -311.956\n",
      "differential_evolution step 18: f(x)= -311.956\n",
      "differential_evolution step 19: f(x)= -311.956\n",
      "differential_evolution step 20: f(x)= -312.099\n",
      "differential_evolution step 21: f(x)= -312.099\n",
      "differential_evolution step 22: f(x)= -312.099\n",
      "differential_evolution step 23: f(x)= -312.099\n",
      "differential_evolution step 24: f(x)= -312.099\n",
      "differential_evolution step 25: f(x)= -312.099\n",
      "differential_evolution step 26: f(x)= -312.099\n",
      "differential_evolution step 27: f(x)= -312.099\n",
      "differential_evolution step 28: f(x)= -312.099\n",
      "differential_evolution step 29: f(x)= -312.099\n",
      "differential_evolution step 30: f(x)= -312.099\n",
      "differential_evolution step 31: f(x)= -312.157\n",
      "(312.1574609516026, 316.4027075508248)\n",
      "[0.57360395 0.6842731  0.00833524 0.02323032]\n",
      "Soybean\n",
      "(1452.9518854172547, 1459.3747468208014)\n"
     ]
    },
    {
     "name": "stderr",
     "output_type": "stream",
     "text": [
      "/home/mbyx3tk2/.local/lib/python3.8/site-packages/scipy/optimize/_differentialevolution.py:492: UserWarning: differential_evolution: the 'workers' keyword has overridden updating='immediate' to updating='deferred'\n",
      "  warnings.warn(\"differential_evolution: the 'workers' keyword has\"\n"
     ]
    },
    {
     "name": "stdout",
     "output_type": "stream",
     "text": [
      "differential_evolution step 1: f(x)= -1585.41\n",
      "differential_evolution step 2: f(x)= -1585.41\n",
      "differential_evolution step 3: f(x)= -1596.87\n",
      "differential_evolution step 4: f(x)= -1600.82\n",
      "differential_evolution step 5: f(x)= -1612.6\n",
      "differential_evolution step 6: f(x)= -1616.12\n",
      "differential_evolution step 7: f(x)= -1616.12\n",
      "differential_evolution step 8: f(x)= -1624.51\n",
      "differential_evolution step 9: f(x)= -1624.51\n",
      "differential_evolution step 10: f(x)= -1624.51\n",
      "differential_evolution step 11: f(x)= -1624.51\n",
      "differential_evolution step 12: f(x)= -1624.51\n",
      "differential_evolution step 13: f(x)= -1625.51\n",
      "differential_evolution step 14: f(x)= -1625.51\n",
      "differential_evolution step 15: f(x)= -1626.92\n",
      "differential_evolution step 16: f(x)= -1627.29\n",
      "differential_evolution step 17: f(x)= -1627.65\n",
      "differential_evolution step 18: f(x)= -1627.65\n",
      "differential_evolution step 19: f(x)= -1627.65\n",
      "differential_evolution step 20: f(x)= -1627.65\n",
      "(1627.6458117482996, 1637.605346473003)\n",
      "[0.61640904 0.6270773  0.47817194 0.09629474]\n",
      "1\n",
      "Maize\n",
      "(2189.1153144887453, 2189.732548621753)\n"
     ]
    },
    {
     "name": "stderr",
     "output_type": "stream",
     "text": [
      "/home/mbyx3tk2/.local/lib/python3.8/site-packages/scipy/optimize/_differentialevolution.py:492: UserWarning: differential_evolution: the 'workers' keyword has overridden updating='immediate' to updating='deferred'\n",
      "  warnings.warn(\"differential_evolution: the 'workers' keyword has\"\n"
     ]
    },
    {
     "name": "stdout",
     "output_type": "stream",
     "text": [
      "differential_evolution step 1: f(x)= -2249.47\n",
      "differential_evolution step 2: f(x)= -2259.27\n",
      "differential_evolution step 3: f(x)= -2279.46\n",
      "differential_evolution step 4: f(x)= -2279.46\n",
      "differential_evolution step 5: f(x)= -2279.46\n",
      "differential_evolution step 6: f(x)= -2279.46\n",
      "differential_evolution step 7: f(x)= -2279.46\n",
      "differential_evolution step 8: f(x)= -2279.46\n",
      "differential_evolution step 9: f(x)= -2279.46\n",
      "differential_evolution step 10: f(x)= -2279.97\n",
      "differential_evolution step 11: f(x)= -2279.97\n",
      "differential_evolution step 12: f(x)= -2280\n",
      "differential_evolution step 13: f(x)= -2280\n",
      "differential_evolution step 14: f(x)= -2280\n",
      "(2279.99717986057, 2278.131697439546)\n",
      "[0.76145598 0.69618318 0.45328821 0.13657128]\n",
      "Sorghum\n",
      "(1332.6977265279986, 1332.4477095822997)\n"
     ]
    },
    {
     "name": "stderr",
     "output_type": "stream",
     "text": [
      "/home/mbyx3tk2/.local/lib/python3.8/site-packages/scipy/optimize/_differentialevolution.py:492: UserWarning: differential_evolution: the 'workers' keyword has overridden updating='immediate' to updating='deferred'\n",
      "  warnings.warn(\"differential_evolution: the 'workers' keyword has\"\n"
     ]
    },
    {
     "name": "stdout",
     "output_type": "stream",
     "text": [
      "differential_evolution step 1: f(x)= -1583.25\n",
      "differential_evolution step 2: f(x)= -1583.25\n",
      "differential_evolution step 3: f(x)= -1621.59\n",
      "differential_evolution step 4: f(x)= -1662.27\n",
      "differential_evolution step 5: f(x)= -1662.27\n",
      "differential_evolution step 6: f(x)= -1662.27\n",
      "differential_evolution step 7: f(x)= -1662.27\n",
      "differential_evolution step 8: f(x)= -1662.27\n",
      "differential_evolution step 9: f(x)= -1662.27\n",
      "differential_evolution step 10: f(x)= -1673.95\n",
      "differential_evolution step 11: f(x)= -1673.95\n",
      "differential_evolution step 12: f(x)= -1673.95\n",
      "differential_evolution step 13: f(x)= -1676.03\n",
      "differential_evolution step 14: f(x)= -1678.26\n",
      "differential_evolution step 15: f(x)= -1678.26\n",
      "differential_evolution step 16: f(x)= -1678.26\n",
      "differential_evolution step 17: f(x)= -1679.19\n",
      "differential_evolution step 18: f(x)= -1679.19\n",
      "differential_evolution step 19: f(x)= -1679.19\n",
      "(1679.1891698972172, 1672.1369189066868)\n",
      "[0.59470297 0.65310174 0.27643592 0.26878403]\n",
      "Wheat\n",
      "(2688.03684092127, 2686.0513492876294)\n"
     ]
    },
    {
     "name": "stderr",
     "output_type": "stream",
     "text": [
      "/home/mbyx3tk2/.local/lib/python3.8/site-packages/scipy/optimize/_differentialevolution.py:492: UserWarning: differential_evolution: the 'workers' keyword has overridden updating='immediate' to updating='deferred'\n",
      "  warnings.warn(\"differential_evolution: the 'workers' keyword has\"\n"
     ]
    },
    {
     "name": "stdout",
     "output_type": "stream",
     "text": [
      "differential_evolution step 1: f(x)= -2742.98\n",
      "differential_evolution step 2: f(x)= -2742.98\n",
      "differential_evolution step 3: f(x)= -2742.98\n",
      "differential_evolution step 4: f(x)= -2742.98\n",
      "differential_evolution step 5: f(x)= -2742.98\n",
      "differential_evolution step 6: f(x)= -2743.41\n",
      "differential_evolution step 7: f(x)= -2751.4\n",
      "differential_evolution step 8: f(x)= -2751.4\n",
      "differential_evolution step 9: f(x)= -2751.4\n",
      "differential_evolution step 10: f(x)= -2751.4\n",
      "differential_evolution step 11: f(x)= -2752.39\n",
      "differential_evolution step 12: f(x)= -2752.39\n",
      "differential_evolution step 13: f(x)= -2753.3\n",
      "(2753.3010271417807, 2751.5801864968557)\n",
      "[0.54715451 0.71245115 0.3639099  0.32017787]\n",
      "Tomato\n",
      "(285.72935314230637, 283.4379035871694)\n"
     ]
    },
    {
     "name": "stderr",
     "output_type": "stream",
     "text": [
      "/home/mbyx3tk2/.local/lib/python3.8/site-packages/scipy/optimize/_differentialevolution.py:492: UserWarning: differential_evolution: the 'workers' keyword has overridden updating='immediate' to updating='deferred'\n",
      "  warnings.warn(\"differential_evolution: the 'workers' keyword has\"\n"
     ]
    },
    {
     "name": "stdout",
     "output_type": "stream",
     "text": [
      "differential_evolution step 1: f(x)= -297.836\n",
      "differential_evolution step 2: f(x)= -324.21\n",
      "differential_evolution step 3: f(x)= -324.21\n",
      "differential_evolution step 4: f(x)= -324.226\n",
      "differential_evolution step 5: f(x)= -324.978\n",
      "differential_evolution step 6: f(x)= -325.363\n",
      "differential_evolution step 7: f(x)= -325.57\n",
      "differential_evolution step 8: f(x)= -325.97\n",
      "differential_evolution step 9: f(x)= -325.97\n",
      "differential_evolution step 10: f(x)= -325.97\n",
      "differential_evolution step 11: f(x)= -326.068\n",
      "differential_evolution step 12: f(x)= -326.068\n",
      "differential_evolution step 13: f(x)= -326.261\n",
      "differential_evolution step 14: f(x)= -326.261\n",
      "differential_evolution step 15: f(x)= -326.261\n",
      "differential_evolution step 16: f(x)= -326.342\n",
      "differential_evolution step 17: f(x)= -326.652\n",
      "differential_evolution step 18: f(x)= -326.652\n",
      "differential_evolution step 19: f(x)= -326.652\n",
      "differential_evolution step 20: f(x)= -326.652\n",
      "differential_evolution step 21: f(x)= -326.816\n",
      "differential_evolution step 22: f(x)= -326.816\n",
      "differential_evolution step 23: f(x)= -326.816\n",
      "(326.81588147550735, 324.25926151849245)\n",
      "[0.6489027  0.67035078 0.79972858 0.18788884]\n",
      "Soybean\n",
      "(1585.5580178969453, 1584.9728896781935)\n"
     ]
    },
    {
     "name": "stderr",
     "output_type": "stream",
     "text": [
      "/home/mbyx3tk2/.local/lib/python3.8/site-packages/scipy/optimize/_differentialevolution.py:492: UserWarning: differential_evolution: the 'workers' keyword has overridden updating='immediate' to updating='deferred'\n",
      "  warnings.warn(\"differential_evolution: the 'workers' keyword has\"\n"
     ]
    },
    {
     "name": "stdout",
     "output_type": "stream",
     "text": [
      "differential_evolution step 1: f(x)= -1630.69\n",
      "differential_evolution step 2: f(x)= -1643.2\n",
      "differential_evolution step 3: f(x)= -1643.2\n",
      "differential_evolution step 4: f(x)= -1644.01\n",
      "differential_evolution step 5: f(x)= -1644.01\n",
      "differential_evolution step 6: f(x)= -1648.26\n",
      "differential_evolution step 7: f(x)= -1651.93\n",
      "differential_evolution step 8: f(x)= -1651.93\n",
      "differential_evolution step 9: f(x)= -1651.93\n",
      "differential_evolution step 10: f(x)= -1654.75\n",
      "differential_evolution step 11: f(x)= -1655.9\n",
      "differential_evolution step 12: f(x)= -1655.9\n",
      "differential_evolution step 13: f(x)= -1657.16\n",
      "differential_evolution step 14: f(x)= -1657.16\n",
      "differential_evolution step 15: f(x)= -1657.16\n",
      "differential_evolution step 16: f(x)= -1657.16\n",
      "(1657.161333687051, 1654.8568911323173)\n",
      "[0.63187864 0.64375322 0.79073555 0.29191425]\n"
     ]
    }
   ],
   "source": [
    "for iplace,gendf in enumerate([gendf_neb,gendf_cal]):\n",
    "    print(iplace)\n",
    "\n",
    "    test_env_config=[nebraska_maize_config,california_tomato_config][iplace].copy()\n",
    "\n",
    "    for icrop,crop in enumerate(['Maize','Sorghum','Wheat','Tomato','Soybean']):\n",
    "\n",
    "        crop_prices=[180,180,312,82,444]\n",
    "        # test_env_config=nebraska_maize_config.copy()\n",
    "\n",
    "        test_env_config['gendf']=gendf\n",
    "        test_env_config['evaluation_run']=True\n",
    "        test_env_config['normalize_obs']=False\n",
    "        test_env_config['action_set']='smt4'\n",
    "        test_env_config['observation_set']='default'\n",
    "        test_env_config['days_to_irr']=3\n",
    "        test_env_config['crop']=CropClass(crop,PlantingDate='05/01',)\n",
    "        test_env_config['crop_price']=crop_prices[icrop]\n",
    "        test_env_config['fixed_cost']=0.\n",
    "        print(crop)\n",
    "        print(evaluate_agent(FixedThresholdAgent(np.array([0.7]*4)),CropEnv,test_env_config))\n",
    "\n",
    "        res = differential_evolution(optim_func,bounds=bounds,workers=8,disp=True,seed=43,tol=0.001,popsize=5)\n",
    "        print(evaluate_agent(FixedThresholdAgent(res.x),CropEnv,test_env_config))\n",
    "        print(res.x)"
   ]
  },
  {
   "cell_type": "code",
   "execution_count": 11,
   "metadata": {},
   "outputs": [],
   "source": [
    "test_env_config=nebraska_maize_config.copy()\n",
    "\n",
    "test_env_config['gendf']=gendf\n",
    "test_env_config['evaluation_run']=True\n",
    "test_env_config['normalize_obs']=False\n",
    "# test_env_config['include_rain']=False\n",
    "test_env_config['action_set']='smt4'\n",
    "test_env_config['observation_set']='default'\n",
    "test_env_config['days_to_irr']=3\n",
    "# test_env_config['crop']='Cotton'\n",
    "# test_env_config['crop_price']=366.\n",
    "# test_env_config['soil']='ClayLoam'\n",
    "\n"
   ]
  },
  {
   "cell_type": "code",
   "execution_count": 10,
   "metadata": {},
   "outputs": [],
   "source": [
    "gendf=calc_eto_faopm('data/CPWG.dat',1995,40.4,1072,True,[\"simyear\",\"jday\",\"minTemp\",\"maxTemp\",\"precip\",\"rad\"])\n"
   ]
  },
  {
   "cell_type": "code",
   "execution_count": 12,
   "metadata": {},
   "outputs": [
    {
     "data": {
      "text/plain": [
       "(513.0584847087756, 521.3771423907657)"
      ]
     },
     "execution_count": 12,
     "metadata": {},
     "output_type": "execute_result"
    }
   ],
   "source": [
    "evaluate_agent(FixedThresholdAgent(np.array([0.69892958, 0.56825608, 0.35286359, 0.11124398])),CropEnv,test_env_config)"
   ]
  },
  {
   "cell_type": "code",
   "execution_count": 15,
   "metadata": {},
   "outputs": [
    {
     "name": "stdout",
     "output_type": "stream",
     "text": [
      "513.0584847087756\n",
      "(3080, 24)\n"
     ]
    },
    {
     "data": {
      "text/plain": [
       "(array([1.5068182e+01, 6.7727275e+00, 4.4094244e-01, 6.8477272e+01,\n",
       "        1.2823775e+02, 6.5737528e-01, 1.2552679e+03, 2.2174017e+00,\n",
       "        5.9947405e+00, 1.6800790e+02, 4.0232184e+02, 2.2348366e+00,\n",
       "        6.0216384e+00, 1.7755436e+00, 1.8451277e+00, 1.3106525e+00,\n",
       "        1.7755436e+00, 1.8451277e+00, 1.3106525e+00, 1.7755436e+00,\n",
       "        1.8181819e-01, 2.0454545e-01, 4.0909091e-01, 2.0454545e-01],\n",
       "       dtype=float32),\n",
       " array([8.8430672e+00, 1.2588633e+00, 2.1731496e-01, 3.8057072e+01,\n",
       "        8.1543999e+01, 3.7534222e-01, 1.0305146e+03, 2.6845067e+00,\n",
       "        9.4314069e-01, 1.0874526e+02, 2.4056461e+02, 6.7858462e+00,\n",
       "        1.6485872e+00, 6.4046011e+00, 6.5145025e+00, 5.5642538e+00,\n",
       "        6.4046006e+00, 6.5145020e+00, 5.5642538e+00, 6.4046006e+00,\n",
       "        3.8569000e-01, 4.0337056e-01, 4.9166963e-01, 4.0337056e-01],\n",
       "       dtype=float32))"
      ]
     },
     "execution_count": 15,
     "metadata": {},
     "output_type": "execute_result"
    }
   ],
   "source": [
    "get_mean_std(np.array([0.69892958, 0.56825608, 0.35286359, 0.11124398]),CropEnv,test_env_config)"
   ]
  },
  {
   "cell_type": "code",
   "execution_count": 5,
   "metadata": {},
   "outputs": [],
   "source": [
    "def optim_func(smt):\n",
    "    train,test = evaluate_agent(FixedThresholdAgent(smt.reshape(-1)),CropEnv,test_env_config)\n",
    "    \n",
    "    return -train"
   ]
  },
  {
   "cell_type": "code",
   "execution_count": 18,
   "metadata": {
    "colab": {
     "base_uri": "https://localhost:8080/",
     "height": 287
    },
    "id": "K1Wg3fqjbytQ",
    "outputId": "32b53b95-6fb8-414d-9f9d-723f19a9baad"
   },
   "outputs": [
    {
     "name": "stdout",
     "output_type": "stream",
     "text": [
      "differential_evolution step 1: f(x)= -462.874\n",
      "differential_evolution step 2: f(x)= -464.981\n",
      "differential_evolution step 3: f(x)= -490.274\n",
      "differential_evolution step 4: f(x)= -503.302\n",
      "differential_evolution step 5: f(x)= -503.302\n",
      "differential_evolution step 6: f(x)= -503.302\n",
      "differential_evolution step 7: f(x)= -505.438\n",
      "differential_evolution step 8: f(x)= -516.316\n",
      "differential_evolution step 9: f(x)= -516.316\n",
      "differential_evolution step 10: f(x)= -516.316\n",
      "differential_evolution step 11: f(x)= -516.316\n",
      "differential_evolution step 12: f(x)= -516.316\n",
      "differential_evolution step 13: f(x)= -516.316\n",
      "differential_evolution step 14: f(x)= -516.316\n",
      "differential_evolution step 15: f(x)= -516.316\n",
      "differential_evolution step 16: f(x)= -516.316\n",
      "differential_evolution step 17: f(x)= -516.316\n",
      "differential_evolution step 18: f(x)= -516.316\n",
      "differential_evolution step 19: f(x)= -516.316\n",
      "differential_evolution step 20: f(x)= -516.316\n",
      "differential_evolution step 21: f(x)= -516.403\n",
      "differential_evolution step 22: f(x)= -516.403\n",
      "differential_evolution step 23: f(x)= -516.403\n",
      "differential_evolution step 24: f(x)= -516.403\n",
      "differential_evolution step 25: f(x)= -516.403\n",
      "differential_evolution step 26: f(x)= -516.403\n",
      "differential_evolution step 27: f(x)= -516.403\n",
      "differential_evolution step 28: f(x)= -516.403\n"
     ]
    }
   ],
   "source": [
    "max_bound = np.ones(4)\n",
    "min_bound = np.zeros(4)\n",
    "bounds = [(min_bound[i], max_bound[i]) for i in range(4)]\n",
    "\n",
    "# res = differential_evolution(optim_func,bounds=bounds,disp=True,workers=8,seed=43,tol=0.001,popsize=5)"
   ]
  },
  {
   "cell_type": "code",
   "execution_count": 19,
   "metadata": {},
   "outputs": [
    {
     "data": {
      "text/plain": [
       "     fun: -516.4032300997322\n",
       " message: 'Optimization terminated successfully.'\n",
       "    nfev: 585\n",
       "     nit: 28\n",
       " success: True\n",
       "       x: array([0.68282431, 0.56990258, 0.34908719, 0.13661482])"
      ]
     },
     "execution_count": 19,
     "metadata": {},
     "output_type": "execute_result"
    }
   ],
   "source": [
    "res"
   ]
  },
  {
   "cell_type": "code",
   "execution_count": 20,
   "metadata": {},
   "outputs": [
    {
     "data": {
      "text/plain": [
       "(516.4032300997322, 523.4126548993457)"
      ]
     },
     "execution_count": 20,
     "metadata": {},
     "output_type": "execute_result"
    }
   ],
   "source": [
    "evaluate_agent(FixedThresholdAgent(res.x),CropEnv,test_env_config)"
   ]
  },
  {
   "cell_type": "markdown",
   "metadata": {},
   "source": [
    "single year"
   ]
  },
  {
   "cell_type": "code",
   "execution_count": 21,
   "metadata": {},
   "outputs": [],
   "source": [
    "def optim_func_single_year(smt,sim_year=1):\n",
    "    prof = evaluate_agent_single_year(FixedThresholdAgent(smt.reshape(-1)),CropEnv,test_env_config,sim_year=sim_year)\n",
    "    \n",
    "    return -prof\n",
    "\n",
    "max_bound = np.ones(4)\n",
    "min_bound = np.zeros(4)\n",
    "bounds = [(min_bound[i], max_bound[i]) for i in range(4)]\n",
    "\n"
   ]
  },
  {
   "cell_type": "code",
   "execution_count": 22,
   "metadata": {},
   "outputs": [],
   "source": [
    "from functools import partial"
   ]
  },
  {
   "cell_type": "code",
   "execution_count": 23,
   "metadata": {},
   "outputs": [
    {
     "data": {
      "text/plain": [
       "-259.0132100582682"
      ]
     },
     "execution_count": 23,
     "metadata": {},
     "output_type": "execute_result"
    }
   ],
   "source": [
    "optim_func_single_year(np.array([0.7]*4))"
   ]
  },
  {
   "cell_type": "code",
   "execution_count": 28,
   "metadata": {},
   "outputs": [
    {
     "name": "stdout",
     "output_type": "stream",
     "text": [
      "differential_evolution step 1: f(x)= -474.174\n",
      "differential_evolution step 2: f(x)= -477.361\n",
      "differential_evolution step 3: f(x)= -490.546\n"
     ]
    },
    {
     "name": "stderr",
     "output_type": "stream",
     "text": [
      "/home/mbyx3tk2/.local/lib/python3.8/site-packages/scipy/optimize/_differentialevolution.py:492: UserWarning: differential_evolution: the 'workers' keyword has overridden updating='immediate' to updating='deferred'\n",
      "  warnings.warn(\"differential_evolution: the 'workers' keyword has\"\n"
     ]
    },
    {
     "name": "stdout",
     "output_type": "stream",
     "text": [
      "differential_evolution step 1: f(x)= -474.174\n",
      "differential_evolution step 2: f(x)= -477.361\n",
      "differential_evolution step 3: f(x)= -490.546\n"
     ]
    },
    {
     "name": "stderr",
     "output_type": "stream",
     "text": [
      "/home/mbyx3tk2/.local/lib/python3.8/site-packages/scipy/optimize/_differentialevolution.py:492: UserWarning: differential_evolution: the 'workers' keyword has overridden updating='immediate' to updating='deferred'\n",
      "  warnings.warn(\"differential_evolution: the 'workers' keyword has\"\n"
     ]
    },
    {
     "name": "stdout",
     "output_type": "stream",
     "text": [
      "differential_evolution step 1: f(x)= -474.174\n",
      "differential_evolution step 2: f(x)= -477.361\n",
      "differential_evolution step 3: f(x)= -490.546\n"
     ]
    },
    {
     "name": "stderr",
     "output_type": "stream",
     "text": [
      "/home/mbyx3tk2/.local/lib/python3.8/site-packages/scipy/optimize/_differentialevolution.py:492: UserWarning: differential_evolution: the 'workers' keyword has overridden updating='immediate' to updating='deferred'\n",
      "  warnings.warn(\"differential_evolution: the 'workers' keyword has\"\n"
     ]
    },
    {
     "name": "stdout",
     "output_type": "stream",
     "text": [
      "differential_evolution step 1: f(x)= -474.174\n",
      "differential_evolution step 2: f(x)= -477.361\n",
      "differential_evolution step 3: f(x)= -490.546\n"
     ]
    },
    {
     "name": "stderr",
     "output_type": "stream",
     "text": [
      "/home/mbyx3tk2/.local/lib/python3.8/site-packages/scipy/optimize/_differentialevolution.py:492: UserWarning: differential_evolution: the 'workers' keyword has overridden updating='immediate' to updating='deferred'\n",
      "  warnings.warn(\"differential_evolution: the 'workers' keyword has\"\n"
     ]
    },
    {
     "name": "stdout",
     "output_type": "stream",
     "text": [
      "differential_evolution step 1: f(x)= -474.174\n",
      "differential_evolution step 2: f(x)= -477.361\n",
      "differential_evolution step 3: f(x)= -490.546\n"
     ]
    },
    {
     "name": "stderr",
     "output_type": "stream",
     "text": [
      "/home/mbyx3tk2/.local/lib/python3.8/site-packages/scipy/optimize/_differentialevolution.py:492: UserWarning: differential_evolution: the 'workers' keyword has overridden updating='immediate' to updating='deferred'\n",
      "  warnings.warn(\"differential_evolution: the 'workers' keyword has\"\n"
     ]
    },
    {
     "name": "stdout",
     "output_type": "stream",
     "text": [
      "differential_evolution step 1: f(x)= -474.174\n",
      "differential_evolution step 2: f(x)= -477.361\n",
      "differential_evolution step 3: f(x)= -490.546\n"
     ]
    },
    {
     "name": "stderr",
     "output_type": "stream",
     "text": [
      "/home/mbyx3tk2/.local/lib/python3.8/site-packages/scipy/optimize/_differentialevolution.py:492: UserWarning: differential_evolution: the 'workers' keyword has overridden updating='immediate' to updating='deferred'\n",
      "  warnings.warn(\"differential_evolution: the 'workers' keyword has\"\n"
     ]
    },
    {
     "name": "stdout",
     "output_type": "stream",
     "text": [
      "differential_evolution step 1: f(x)= -474.174\n",
      "differential_evolution step 2: f(x)= -477.361\n",
      "differential_evolution step 3: f(x)= -490.546\n"
     ]
    },
    {
     "name": "stderr",
     "output_type": "stream",
     "text": [
      "/home/mbyx3tk2/.local/lib/python3.8/site-packages/scipy/optimize/_differentialevolution.py:492: UserWarning: differential_evolution: the 'workers' keyword has overridden updating='immediate' to updating='deferred'\n",
      "  warnings.warn(\"differential_evolution: the 'workers' keyword has\"\n"
     ]
    },
    {
     "name": "stdout",
     "output_type": "stream",
     "text": [
      "differential_evolution step 1: f(x)= -474.174\n",
      "differential_evolution step 2: f(x)= -477.361\n",
      "differential_evolution step 3: f(x)= -490.546\n"
     ]
    },
    {
     "name": "stderr",
     "output_type": "stream",
     "text": [
      "/home/mbyx3tk2/.local/lib/python3.8/site-packages/scipy/optimize/_differentialevolution.py:492: UserWarning: differential_evolution: the 'workers' keyword has overridden updating='immediate' to updating='deferred'\n",
      "  warnings.warn(\"differential_evolution: the 'workers' keyword has\"\n"
     ]
    },
    {
     "name": "stdout",
     "output_type": "stream",
     "text": [
      "differential_evolution step 1: f(x)= -474.174\n",
      "differential_evolution step 2: f(x)= -477.361\n",
      "differential_evolution step 3: f(x)= -490.546\n"
     ]
    },
    {
     "name": "stderr",
     "output_type": "stream",
     "text": [
      "/home/mbyx3tk2/.local/lib/python3.8/site-packages/scipy/optimize/_differentialevolution.py:492: UserWarning: differential_evolution: the 'workers' keyword has overridden updating='immediate' to updating='deferred'\n",
      "  warnings.warn(\"differential_evolution: the 'workers' keyword has\"\n"
     ]
    },
    {
     "name": "stdout",
     "output_type": "stream",
     "text": [
      "differential_evolution step 1: f(x)= -474.174\n",
      "differential_evolution step 2: f(x)= -477.361\n",
      "differential_evolution step 3: f(x)= -490.546\n"
     ]
    },
    {
     "name": "stderr",
     "output_type": "stream",
     "text": [
      "/home/mbyx3tk2/.local/lib/python3.8/site-packages/scipy/optimize/_differentialevolution.py:492: UserWarning: differential_evolution: the 'workers' keyword has overridden updating='immediate' to updating='deferred'\n",
      "  warnings.warn(\"differential_evolution: the 'workers' keyword has\"\n",
      "Process ForkPoolWorker-164:\n",
      "Process ForkPoolWorker-168:\n",
      "Process ForkPoolWorker-167:\n"
     ]
    },
    {
     "ename": "KeyboardInterrupt",
     "evalue": "",
     "output_type": "error",
     "traceback": [
      "\u001b[0;31m---------------------------------------------------------------------------\u001b[0m",
      "\u001b[0;31mKeyboardInterrupt\u001b[0m                         Traceback (most recent call last)",
      "\u001b[0;32m<ipython-input-28-812dba64ba85>\u001b[0m in \u001b[0;36m<module>\u001b[0;34m\u001b[0m\n\u001b[1;32m      4\u001b[0m \u001b[0;32mfor\u001b[0m \u001b[0my\u001b[0m \u001b[0;32min\u001b[0m \u001b[0mrange\u001b[0m\u001b[0;34m(\u001b[0m\u001b[0;36m1\u001b[0m\u001b[0;34m,\u001b[0m\u001b[0;36m101\u001b[0m\u001b[0;34m)\u001b[0m\u001b[0;34m:\u001b[0m\u001b[0;34m\u001b[0m\u001b[0;34m\u001b[0m\u001b[0m\n\u001b[1;32m      5\u001b[0m     \u001b[0mfunc\u001b[0m \u001b[0;34m=\u001b[0m \u001b[0mpartial\u001b[0m\u001b[0;34m(\u001b[0m\u001b[0moptim_func_single_year\u001b[0m\u001b[0;34m,\u001b[0m\u001b[0msim_year\u001b[0m\u001b[0;34m=\u001b[0m\u001b[0my\u001b[0m\u001b[0;34m)\u001b[0m\u001b[0;34m\u001b[0m\u001b[0;34m\u001b[0m\u001b[0m\n\u001b[0;32m----> 6\u001b[0;31m     \u001b[0mres\u001b[0m \u001b[0;34m=\u001b[0m \u001b[0mdifferential_evolution\u001b[0m\u001b[0;34m(\u001b[0m\u001b[0moptim_func\u001b[0m\u001b[0;34m,\u001b[0m\u001b[0mbounds\u001b[0m\u001b[0;34m=\u001b[0m\u001b[0mbounds\u001b[0m\u001b[0;34m,\u001b[0m\u001b[0mdisp\u001b[0m\u001b[0;34m=\u001b[0m\u001b[0;32mTrue\u001b[0m\u001b[0;34m,\u001b[0m\u001b[0mworkers\u001b[0m\u001b[0;34m=\u001b[0m\u001b[0;36m8\u001b[0m\u001b[0;34m,\u001b[0m\u001b[0mseed\u001b[0m\u001b[0;34m=\u001b[0m\u001b[0;36m43\u001b[0m\u001b[0;34m,\u001b[0m\u001b[0mtol\u001b[0m\u001b[0;34m=\u001b[0m\u001b[0;36m0.1\u001b[0m\u001b[0;34m,\u001b[0m\u001b[0mpopsize\u001b[0m\u001b[0;34m=\u001b[0m\u001b[0;36m8\u001b[0m\u001b[0;34m)\u001b[0m\u001b[0;34m\u001b[0m\u001b[0;34m\u001b[0m\u001b[0m\n\u001b[0m\u001b[1;32m      7\u001b[0m     \u001b[0;31m# res = differential_evolution(func,bounds=bounds,disp=True,workers=8,seed=43)\u001b[0m\u001b[0;34m\u001b[0m\u001b[0;34m\u001b[0m\u001b[0;34m\u001b[0m\u001b[0m\n\u001b[1;32m      8\u001b[0m     \u001b[0mp\u001b[0m \u001b[0;34m=\u001b[0m \u001b[0mevaluate_agent_single_year\u001b[0m\u001b[0;34m(\u001b[0m\u001b[0mFixedThresholdAgent\u001b[0m\u001b[0;34m(\u001b[0m\u001b[0mres\u001b[0m\u001b[0;34m.\u001b[0m\u001b[0mx\u001b[0m\u001b[0;34m.\u001b[0m\u001b[0mreshape\u001b[0m\u001b[0;34m(\u001b[0m\u001b[0;34m-\u001b[0m\u001b[0;36m1\u001b[0m\u001b[0;34m)\u001b[0m\u001b[0;34m)\u001b[0m\u001b[0;34m,\u001b[0m\u001b[0mCropEnv\u001b[0m\u001b[0;34m,\u001b[0m\u001b[0mtest_env_config\u001b[0m\u001b[0;34m,\u001b[0m\u001b[0my\u001b[0m\u001b[0;34m)\u001b[0m\u001b[0;34m\u001b[0m\u001b[0;34m\u001b[0m\u001b[0m\n",
      "\u001b[0;32m~/.local/lib/python3.8/site-packages/scipy/optimize/_differentialevolution.py\u001b[0m in \u001b[0;36mdifferential_evolution\u001b[0;34m(func, bounds, args, strategy, maxiter, popsize, tol, mutation, recombination, seed, callback, disp, polish, init, atol, updating, workers, constraints)\u001b[0m\n\u001b[1;32m    304\u001b[0m                                      \u001b[0mworkers\u001b[0m\u001b[0;34m=\u001b[0m\u001b[0mworkers\u001b[0m\u001b[0;34m,\u001b[0m\u001b[0;34m\u001b[0m\u001b[0;34m\u001b[0m\u001b[0m\n\u001b[1;32m    305\u001b[0m                                      constraints=constraints) as solver:\n\u001b[0;32m--> 306\u001b[0;31m         \u001b[0mret\u001b[0m \u001b[0;34m=\u001b[0m \u001b[0msolver\u001b[0m\u001b[0;34m.\u001b[0m\u001b[0msolve\u001b[0m\u001b[0;34m(\u001b[0m\u001b[0;34m)\u001b[0m\u001b[0;34m\u001b[0m\u001b[0;34m\u001b[0m\u001b[0m\n\u001b[0m\u001b[1;32m    307\u001b[0m \u001b[0;34m\u001b[0m\u001b[0m\n\u001b[1;32m    308\u001b[0m     \u001b[0;32mreturn\u001b[0m \u001b[0mret\u001b[0m\u001b[0;34m\u001b[0m\u001b[0;34m\u001b[0m\u001b[0m\n",
      "\u001b[0;32m~/.local/lib/python3.8/site-packages/scipy/optimize/_differentialevolution.py\u001b[0m in \u001b[0;36msolve\u001b[0;34m(self)\u001b[0m\n\u001b[1;32m    751\u001b[0m             \u001b[0;31m# evolve the population by a generation\u001b[0m\u001b[0;34m\u001b[0m\u001b[0;34m\u001b[0m\u001b[0;34m\u001b[0m\u001b[0m\n\u001b[1;32m    752\u001b[0m             \u001b[0;32mtry\u001b[0m\u001b[0;34m:\u001b[0m\u001b[0;34m\u001b[0m\u001b[0;34m\u001b[0m\u001b[0m\n\u001b[0;32m--> 753\u001b[0;31m                 \u001b[0mnext\u001b[0m\u001b[0;34m(\u001b[0m\u001b[0mself\u001b[0m\u001b[0;34m)\u001b[0m\u001b[0;34m\u001b[0m\u001b[0;34m\u001b[0m\u001b[0m\n\u001b[0m\u001b[1;32m    754\u001b[0m             \u001b[0;32mexcept\u001b[0m \u001b[0mStopIteration\u001b[0m\u001b[0;34m:\u001b[0m\u001b[0;34m\u001b[0m\u001b[0;34m\u001b[0m\u001b[0m\n\u001b[1;32m    755\u001b[0m                 \u001b[0mwarning_flag\u001b[0m \u001b[0;34m=\u001b[0m \u001b[0;32mTrue\u001b[0m\u001b[0;34m\u001b[0m\u001b[0;34m\u001b[0m\u001b[0m\n",
      "\u001b[0;32m~/.local/lib/python3.8/site-packages/scipy/optimize/_differentialevolution.py\u001b[0m in \u001b[0;36m__next__\u001b[0;34m(self)\u001b[0m\n\u001b[1;32m   1117\u001b[0m \u001b[0;34m\u001b[0m\u001b[0m\n\u001b[1;32m   1118\u001b[0m             \u001b[0;31m# only calculate for feasible entries\u001b[0m\u001b[0;34m\u001b[0m\u001b[0;34m\u001b[0m\u001b[0;34m\u001b[0m\u001b[0m\n\u001b[0;32m-> 1119\u001b[0;31m             trial_energies[feasible] = self._calculate_population_energies(\n\u001b[0m\u001b[1;32m   1120\u001b[0m                 trial_pop[feasible])\n\u001b[1;32m   1121\u001b[0m \u001b[0;34m\u001b[0m\u001b[0m\n",
      "\u001b[0;32m~/.local/lib/python3.8/site-packages/scipy/optimize/_differentialevolution.py\u001b[0m in \u001b[0;36m_calculate_population_energies\u001b[0;34m(self, population)\u001b[0m\n\u001b[1;32m    875\u001b[0m         \u001b[0mparameters_pop\u001b[0m \u001b[0;34m=\u001b[0m \u001b[0mself\u001b[0m\u001b[0;34m.\u001b[0m\u001b[0m_scale_parameters\u001b[0m\u001b[0;34m(\u001b[0m\u001b[0mpopulation\u001b[0m\u001b[0;34m)\u001b[0m\u001b[0;34m\u001b[0m\u001b[0;34m\u001b[0m\u001b[0m\n\u001b[1;32m    876\u001b[0m         \u001b[0;32mtry\u001b[0m\u001b[0;34m:\u001b[0m\u001b[0;34m\u001b[0m\u001b[0;34m\u001b[0m\u001b[0m\n\u001b[0;32m--> 877\u001b[0;31m             calc_energies = list(self._mapwrapper(self.func,\n\u001b[0m\u001b[1;32m    878\u001b[0m                                                   parameters_pop[0:nfevs]))\n\u001b[1;32m    879\u001b[0m             \u001b[0menergies\u001b[0m\u001b[0;34m[\u001b[0m\u001b[0;36m0\u001b[0m\u001b[0;34m:\u001b[0m\u001b[0mnfevs\u001b[0m\u001b[0;34m]\u001b[0m \u001b[0;34m=\u001b[0m \u001b[0mcalc_energies\u001b[0m\u001b[0;34m\u001b[0m\u001b[0;34m\u001b[0m\u001b[0m\n",
      "\u001b[0;32m~/.local/lib/python3.8/site-packages/scipy/_lib/_util.py\u001b[0m in \u001b[0;36m__call__\u001b[0;34m(self, func, iterable)\u001b[0m\n\u001b[1;32m    417\u001b[0m         \u001b[0;31m# only accept one iterable because that's all Pool.map accepts\u001b[0m\u001b[0;34m\u001b[0m\u001b[0;34m\u001b[0m\u001b[0;34m\u001b[0m\u001b[0m\n\u001b[1;32m    418\u001b[0m         \u001b[0;32mtry\u001b[0m\u001b[0;34m:\u001b[0m\u001b[0;34m\u001b[0m\u001b[0;34m\u001b[0m\u001b[0m\n\u001b[0;32m--> 419\u001b[0;31m             \u001b[0;32mreturn\u001b[0m \u001b[0mself\u001b[0m\u001b[0;34m.\u001b[0m\u001b[0m_mapfunc\u001b[0m\u001b[0;34m(\u001b[0m\u001b[0mfunc\u001b[0m\u001b[0;34m,\u001b[0m \u001b[0miterable\u001b[0m\u001b[0;34m)\u001b[0m\u001b[0;34m\u001b[0m\u001b[0;34m\u001b[0m\u001b[0m\n\u001b[0m\u001b[1;32m    420\u001b[0m         \u001b[0;32mexcept\u001b[0m \u001b[0mTypeError\u001b[0m\u001b[0;34m:\u001b[0m\u001b[0;34m\u001b[0m\u001b[0;34m\u001b[0m\u001b[0m\n\u001b[1;32m    421\u001b[0m             \u001b[0;31m# wrong number of arguments\u001b[0m\u001b[0;34m\u001b[0m\u001b[0;34m\u001b[0m\u001b[0;34m\u001b[0m\u001b[0m\n",
      "\u001b[0;32m~/anaconda3/envs/rllib/lib/python3.8/multiprocessing/pool.py\u001b[0m in \u001b[0;36mmap\u001b[0;34m(self, func, iterable, chunksize)\u001b[0m\n\u001b[1;32m    362\u001b[0m         \u001b[0;32min\u001b[0m \u001b[0ma\u001b[0m \u001b[0mlist\u001b[0m \u001b[0mthat\u001b[0m \u001b[0;32mis\u001b[0m \u001b[0mreturned\u001b[0m\u001b[0;34m.\u001b[0m\u001b[0;34m\u001b[0m\u001b[0;34m\u001b[0m\u001b[0m\n\u001b[1;32m    363\u001b[0m         '''\n\u001b[0;32m--> 364\u001b[0;31m         \u001b[0;32mreturn\u001b[0m \u001b[0mself\u001b[0m\u001b[0;34m.\u001b[0m\u001b[0m_map_async\u001b[0m\u001b[0;34m(\u001b[0m\u001b[0mfunc\u001b[0m\u001b[0;34m,\u001b[0m \u001b[0miterable\u001b[0m\u001b[0;34m,\u001b[0m \u001b[0mmapstar\u001b[0m\u001b[0;34m,\u001b[0m \u001b[0mchunksize\u001b[0m\u001b[0;34m)\u001b[0m\u001b[0;34m.\u001b[0m\u001b[0mget\u001b[0m\u001b[0;34m(\u001b[0m\u001b[0;34m)\u001b[0m\u001b[0;34m\u001b[0m\u001b[0;34m\u001b[0m\u001b[0m\n\u001b[0m\u001b[1;32m    365\u001b[0m \u001b[0;34m\u001b[0m\u001b[0m\n\u001b[1;32m    366\u001b[0m     \u001b[0;32mdef\u001b[0m \u001b[0mstarmap\u001b[0m\u001b[0;34m(\u001b[0m\u001b[0mself\u001b[0m\u001b[0;34m,\u001b[0m \u001b[0mfunc\u001b[0m\u001b[0;34m,\u001b[0m \u001b[0miterable\u001b[0m\u001b[0;34m,\u001b[0m \u001b[0mchunksize\u001b[0m\u001b[0;34m=\u001b[0m\u001b[0;32mNone\u001b[0m\u001b[0;34m)\u001b[0m\u001b[0;34m:\u001b[0m\u001b[0;34m\u001b[0m\u001b[0;34m\u001b[0m\u001b[0m\n",
      "\u001b[0;32m~/anaconda3/envs/rllib/lib/python3.8/multiprocessing/pool.py\u001b[0m in \u001b[0;36mget\u001b[0;34m(self, timeout)\u001b[0m\n\u001b[1;32m    763\u001b[0m \u001b[0;34m\u001b[0m\u001b[0m\n\u001b[1;32m    764\u001b[0m     \u001b[0;32mdef\u001b[0m \u001b[0mget\u001b[0m\u001b[0;34m(\u001b[0m\u001b[0mself\u001b[0m\u001b[0;34m,\u001b[0m \u001b[0mtimeout\u001b[0m\u001b[0;34m=\u001b[0m\u001b[0;32mNone\u001b[0m\u001b[0;34m)\u001b[0m\u001b[0;34m:\u001b[0m\u001b[0;34m\u001b[0m\u001b[0;34m\u001b[0m\u001b[0m\n\u001b[0;32m--> 765\u001b[0;31m         \u001b[0mself\u001b[0m\u001b[0;34m.\u001b[0m\u001b[0mwait\u001b[0m\u001b[0;34m(\u001b[0m\u001b[0mtimeout\u001b[0m\u001b[0;34m)\u001b[0m\u001b[0;34m\u001b[0m\u001b[0;34m\u001b[0m\u001b[0m\n\u001b[0m\u001b[1;32m    766\u001b[0m         \u001b[0;32mif\u001b[0m \u001b[0;32mnot\u001b[0m \u001b[0mself\u001b[0m\u001b[0;34m.\u001b[0m\u001b[0mready\u001b[0m\u001b[0;34m(\u001b[0m\u001b[0;34m)\u001b[0m\u001b[0;34m:\u001b[0m\u001b[0;34m\u001b[0m\u001b[0;34m\u001b[0m\u001b[0m\n\u001b[1;32m    767\u001b[0m             \u001b[0;32mraise\u001b[0m \u001b[0mTimeoutError\u001b[0m\u001b[0;34m\u001b[0m\u001b[0;34m\u001b[0m\u001b[0m\n",
      "\u001b[0;32m~/anaconda3/envs/rllib/lib/python3.8/multiprocessing/pool.py\u001b[0m in \u001b[0;36mwait\u001b[0;34m(self, timeout)\u001b[0m\n\u001b[1;32m    760\u001b[0m \u001b[0;34m\u001b[0m\u001b[0m\n\u001b[1;32m    761\u001b[0m     \u001b[0;32mdef\u001b[0m \u001b[0mwait\u001b[0m\u001b[0;34m(\u001b[0m\u001b[0mself\u001b[0m\u001b[0;34m,\u001b[0m \u001b[0mtimeout\u001b[0m\u001b[0;34m=\u001b[0m\u001b[0;32mNone\u001b[0m\u001b[0;34m)\u001b[0m\u001b[0;34m:\u001b[0m\u001b[0;34m\u001b[0m\u001b[0;34m\u001b[0m\u001b[0m\n\u001b[0;32m--> 762\u001b[0;31m         \u001b[0mself\u001b[0m\u001b[0;34m.\u001b[0m\u001b[0m_event\u001b[0m\u001b[0;34m.\u001b[0m\u001b[0mwait\u001b[0m\u001b[0;34m(\u001b[0m\u001b[0mtimeout\u001b[0m\u001b[0;34m)\u001b[0m\u001b[0;34m\u001b[0m\u001b[0;34m\u001b[0m\u001b[0m\n\u001b[0m\u001b[1;32m    763\u001b[0m \u001b[0;34m\u001b[0m\u001b[0m\n\u001b[1;32m    764\u001b[0m     \u001b[0;32mdef\u001b[0m \u001b[0mget\u001b[0m\u001b[0;34m(\u001b[0m\u001b[0mself\u001b[0m\u001b[0;34m,\u001b[0m \u001b[0mtimeout\u001b[0m\u001b[0;34m=\u001b[0m\u001b[0;32mNone\u001b[0m\u001b[0;34m)\u001b[0m\u001b[0;34m:\u001b[0m\u001b[0;34m\u001b[0m\u001b[0;34m\u001b[0m\u001b[0m\n",
      "\u001b[0;32m~/anaconda3/envs/rllib/lib/python3.8/threading.py\u001b[0m in \u001b[0;36mwait\u001b[0;34m(self, timeout)\u001b[0m\n\u001b[1;32m    556\u001b[0m             \u001b[0msignaled\u001b[0m \u001b[0;34m=\u001b[0m \u001b[0mself\u001b[0m\u001b[0;34m.\u001b[0m\u001b[0m_flag\u001b[0m\u001b[0;34m\u001b[0m\u001b[0;34m\u001b[0m\u001b[0m\n\u001b[1;32m    557\u001b[0m             \u001b[0;32mif\u001b[0m \u001b[0;32mnot\u001b[0m \u001b[0msignaled\u001b[0m\u001b[0;34m:\u001b[0m\u001b[0;34m\u001b[0m\u001b[0;34m\u001b[0m\u001b[0m\n\u001b[0;32m--> 558\u001b[0;31m                 \u001b[0msignaled\u001b[0m \u001b[0;34m=\u001b[0m \u001b[0mself\u001b[0m\u001b[0;34m.\u001b[0m\u001b[0m_cond\u001b[0m\u001b[0;34m.\u001b[0m\u001b[0mwait\u001b[0m\u001b[0;34m(\u001b[0m\u001b[0mtimeout\u001b[0m\u001b[0;34m)\u001b[0m\u001b[0;34m\u001b[0m\u001b[0;34m\u001b[0m\u001b[0m\n\u001b[0m\u001b[1;32m    559\u001b[0m             \u001b[0;32mreturn\u001b[0m \u001b[0msignaled\u001b[0m\u001b[0;34m\u001b[0m\u001b[0;34m\u001b[0m\u001b[0m\n\u001b[1;32m    560\u001b[0m \u001b[0;34m\u001b[0m\u001b[0m\n",
      "\u001b[0;32m~/anaconda3/envs/rllib/lib/python3.8/threading.py\u001b[0m in \u001b[0;36mwait\u001b[0;34m(self, timeout)\u001b[0m\n\u001b[1;32m    300\u001b[0m         \u001b[0;32mtry\u001b[0m\u001b[0;34m:\u001b[0m    \u001b[0;31m# restore state no matter what (e.g., KeyboardInterrupt)\u001b[0m\u001b[0;34m\u001b[0m\u001b[0;34m\u001b[0m\u001b[0m\n\u001b[1;32m    301\u001b[0m             \u001b[0;32mif\u001b[0m \u001b[0mtimeout\u001b[0m \u001b[0;32mis\u001b[0m \u001b[0;32mNone\u001b[0m\u001b[0;34m:\u001b[0m\u001b[0;34m\u001b[0m\u001b[0;34m\u001b[0m\u001b[0m\n\u001b[0;32m--> 302\u001b[0;31m                 \u001b[0mwaiter\u001b[0m\u001b[0;34m.\u001b[0m\u001b[0macquire\u001b[0m\u001b[0;34m(\u001b[0m\u001b[0;34m)\u001b[0m\u001b[0;34m\u001b[0m\u001b[0;34m\u001b[0m\u001b[0m\n\u001b[0m\u001b[1;32m    303\u001b[0m                 \u001b[0mgotit\u001b[0m \u001b[0;34m=\u001b[0m \u001b[0;32mTrue\u001b[0m\u001b[0;34m\u001b[0m\u001b[0;34m\u001b[0m\u001b[0m\n\u001b[1;32m    304\u001b[0m             \u001b[0;32melse\u001b[0m\u001b[0;34m:\u001b[0m\u001b[0;34m\u001b[0m\u001b[0;34m\u001b[0m\u001b[0m\n",
      "\u001b[0;31mKeyboardInterrupt\u001b[0m: "
     ]
    }
   ],
   "source": [
    "years=[]\n",
    "smts=[]\n",
    "profs=[]\n",
    "for y in range(1,101):\n",
    "    func = partial(optim_func_single_year,sim_year=y)\n",
    "    res = differential_evolution(optim_func,bounds=bounds,disp=True,workers=8,seed=43,tol=0.1,popsize=8)\n",
    "    # res = differential_evolution(func,bounds=bounds,disp=True,workers=8,seed=43)\n",
    "    p = evaluate_agent_single_year(FixedThresholdAgent(res.x.reshape(-1)),CropEnv,test_env_config,y)\n",
    "    years.append(y)\n",
    "    smts.append(res.x)\n",
    "    profs.append(p)\n",
    "    result_df = pd.DataFrame([years,smts,profs]).T\n",
    "\n",
    "    result_df.to_csv('potential/champion_optim_smt_results.csv')"
   ]
  },
  {
   "cell_type": "code",
   "execution_count": null,
   "metadata": {},
   "outputs": [],
   "source": []
  },
  {
   "cell_type": "code",
   "execution_count": null,
   "metadata": {},
   "outputs": [],
   "source": []
  },
  {
   "cell_type": "markdown",
   "metadata": {},
   "source": []
  },
  {
   "cell_type": "code",
   "execution_count": null,
   "metadata": {},
   "outputs": [],
   "source": []
  },
  {
   "cell_type": "markdown",
   "metadata": {},
   "source": [
    "## cordoba - cotton"
   ]
  },
  {
   "cell_type": "code",
   "execution_count": 29,
   "metadata": {},
   "outputs": [],
   "source": [
    "#cd 37.31, 110\n",
    "gendf=calc_eto_faopm('data/CDWG.dat',1995,37.31,110,True,[\"simyear\",\"jday\",\"minTemp\",\"maxTemp\",\"precip\",\"rad\"])"
   ]
  },
  {
   "cell_type": "code",
   "execution_count": 30,
   "metadata": {},
   "outputs": [],
   "source": [
    "test_env_config=cordoba_cotton_config.copy()\n",
    "\n",
    "test_env_config['gendf']=gendf\n",
    "test_env_config['evaluation_run']=True\n",
    "test_env_config['normalize_obs']=False\n",
    "test_env_config['action_set']='smt4'\n",
    "test_env_config['observation_set']='default'\n",
    "# test_env_config['include_rain']=False\n"
   ]
  },
  {
   "cell_type": "code",
   "execution_count": 31,
   "metadata": {},
   "outputs": [
    {
     "data": {
      "text/plain": [
       "(1409.5207135643152, 1413.5129547576225)"
      ]
     },
     "execution_count": 31,
     "metadata": {},
     "output_type": "execute_result"
    }
   ],
   "source": [
    "evaluate_agent(FixedThresholdAgent(np.array([0.58709859, 0.66129679, 0.34608978, 0.10645481])),CropEnv,test_env_config)"
   ]
  },
  {
   "cell_type": "code",
   "execution_count": 33,
   "metadata": {},
   "outputs": [],
   "source": [
    "def optim_func(smt):\n",
    "    train,test = evaluate_agent(FixedThresholdAgent(smt.reshape(-1)),CropEnv,test_env_config)\n",
    "    \n",
    "    return -train"
   ]
  },
  {
   "cell_type": "code",
   "execution_count": 34,
   "metadata": {
    "colab": {
     "base_uri": "https://localhost:8080/",
     "height": 287
    },
    "id": "K1Wg3fqjbytQ",
    "outputId": "32b53b95-6fb8-414d-9f9d-723f19a9baad"
   },
   "outputs": [
    {
     "name": "stderr",
     "output_type": "stream",
     "text": [
      "/home/mbyx3tk2/.local/lib/python3.8/site-packages/scipy/optimize/_differentialevolution.py:492: UserWarning: differential_evolution: the 'workers' keyword has overridden updating='immediate' to updating='deferred'\n",
      "  warnings.warn(\"differential_evolution: the 'workers' keyword has\"\n"
     ]
    },
    {
     "name": "stdout",
     "output_type": "stream",
     "text": [
      "differential_evolution step 1: f(x)= -1416.47\n",
      "differential_evolution step 2: f(x)= -1416.47\n",
      "differential_evolution step 3: f(x)= -1432.22\n",
      "differential_evolution step 4: f(x)= -1488.86\n",
      "differential_evolution step 5: f(x)= -1495.41\n",
      "differential_evolution step 6: f(x)= -1495.41\n",
      "differential_evolution step 7: f(x)= -1495.41\n",
      "differential_evolution step 8: f(x)= -1497.64\n",
      "differential_evolution step 9: f(x)= -1501.82\n",
      "differential_evolution step 10: f(x)= -1512.71\n",
      "differential_evolution step 11: f(x)= -1512.71\n",
      "differential_evolution step 12: f(x)= -1522.07\n",
      "differential_evolution step 13: f(x)= -1522.07\n",
      "differential_evolution step 14: f(x)= -1522.07\n",
      "differential_evolution step 15: f(x)= -1522.07\n",
      "differential_evolution step 16: f(x)= -1522.07\n",
      "differential_evolution step 17: f(x)= -1522.07\n"
     ]
    }
   ],
   "source": [
    "max_bound = np.ones(4)\n",
    "min_bound = np.zeros(4)\n",
    "bounds = [(min_bound[i], max_bound[i]) for i in range(4)]\n",
    "\n",
    "res = differential_evolution(optim_func,bounds=bounds,disp=True,workers=8,seed=43,tol=0.001,popsize=5)"
   ]
  },
  {
   "cell_type": "code",
   "execution_count": 35,
   "metadata": {},
   "outputs": [
    {
     "data": {
      "text/plain": [
       "     fun: -1522.0704563789905\n",
       " message: 'Optimization terminated successfully.'\n",
       "    nfev: 365\n",
       "     nit: 17\n",
       " success: True\n",
       "       x: array([0.68270609, 0.37501385, 0.2554435 , 0.25134306])"
      ]
     },
     "execution_count": 35,
     "metadata": {},
     "output_type": "execute_result"
    }
   ],
   "source": [
    "res"
   ]
  },
  {
   "cell_type": "code",
   "execution_count": 36,
   "metadata": {},
   "outputs": [
    {
     "data": {
      "text/plain": [
       "(1522.0704563789905, 1524.7180609532068)"
      ]
     },
     "execution_count": 36,
     "metadata": {},
     "output_type": "execute_result"
    }
   ],
   "source": [
    "evaluate_agent(FixedThresholdAgent(res.x),CropEnv,test_env_config)"
   ]
  },
  {
   "cell_type": "code",
   "execution_count": null,
   "metadata": {},
   "outputs": [],
   "source": []
  },
  {
   "cell_type": "markdown",
   "metadata": {},
   "source": [
    "## California - Tomato"
   ]
  },
  {
   "cell_type": "code",
   "execution_count": 8,
   "metadata": {},
   "outputs": [],
   "source": [
    "\n",
    "#CL  37.49\t-121.07\t14.00 \n",
    "gendf= calc_eto_faopm('data/CLWG.dat',1995,37.49,14.0,True,[\"simyear\",\"jday\",\"minTemp\",\"maxTemp\",\"precip\",\"rad\"])\n"
   ]
  },
  {
   "cell_type": "code",
   "execution_count": 9,
   "metadata": {},
   "outputs": [],
   "source": [
    "test_env_config=california_tomato_config.copy()\n",
    "\n",
    "test_env_config['gendf']=gendf\n",
    "test_env_config['evaluation_run']=True\n",
    "test_env_config['normalize_obs']=False\n",
    "# test_env_config['include_rain']=False\n",
    "test_env_config['action_set']='smt4'\n",
    "test_env_config['observation_set']='default'\n",
    "# test_env_config['irrigation_cost']=1.\n",
    "# test_env_config['crop']='MaizeChampionGDD'\n",
    "# test_env_config['soil']='ClayLoam'\n",
    "\n",
    "# test_env_config['crop']=CropClass('Tomato',PlantingDate='04/01',PlantPop=100_000,SeedSize=22,CCx=0.9)\n",
    "test_env_config['crop']=CropClass('Maize',PlantingDate='05/01',)\n",
    "test_env_config['planting_date']='05/01'\n",
    "test_env_config['soil']='SandyLoam'\n",
    "test_env_config['crop_price']=180\n",
    "# test_env_config['CO2conc']=None\n",
    "\n",
    "#     soil='Loam', # soil type (str or SoilClass)\n",
    "\n",
    "# CO2conc=363.8,\n",
    "# simcalyear=1995,"
   ]
  },
  {
   "cell_type": "code",
   "execution_count": 10,
   "metadata": {},
   "outputs": [
    {
     "data": {
      "text/plain": [
       "(2081.6076376996375, 2084.210268831199)"
      ]
     },
     "execution_count": 10,
     "metadata": {},
     "output_type": "execute_result"
    }
   ],
   "source": [
    "evaluate_agent(FixedThresholdAgent(np.array([1]*4)),CropEnv,test_env_config)"
   ]
  },
  {
   "cell_type": "code",
   "execution_count": 11,
   "metadata": {},
   "outputs": [
    {
     "name": "stderr",
     "output_type": "stream",
     "text": [
      "/home/mbyx3tk2/.local/lib/python3.8/site-packages/scipy/optimize/_differentialevolution.py:492: UserWarning: differential_evolution: the 'workers' keyword has overridden updating='immediate' to updating='deferred'\n",
      "  warnings.warn(\"differential_evolution: the 'workers' keyword has\"\n"
     ]
    },
    {
     "name": "stdout",
     "output_type": "stream",
     "text": [
      "differential_evolution step 1: f(x)= -2242.02\n",
      "differential_evolution step 2: f(x)= -2242.02\n",
      "differential_evolution step 3: f(x)= -2247.43\n",
      "differential_evolution step 4: f(x)= -2261.24\n",
      "differential_evolution step 5: f(x)= -2261.24\n",
      "differential_evolution step 6: f(x)= -2266.47\n",
      "differential_evolution step 7: f(x)= -2266.47\n",
      "differential_evolution step 8: f(x)= -2266.47\n",
      "differential_evolution step 9: f(x)= -2269.94\n",
      "differential_evolution step 10: f(x)= -2269.94\n",
      "differential_evolution step 11: f(x)= -2269.94\n",
      "differential_evolution step 12: f(x)= -2269.94\n",
      "differential_evolution step 13: f(x)= -2269.94\n"
     ]
    },
    {
     "ename": "KeyboardInterrupt",
     "evalue": "",
     "output_type": "error",
     "traceback": [
      "\u001b[0;31m---------------------------------------------------------------------------\u001b[0m",
      "\u001b[0;31mKeyboardInterrupt\u001b[0m                         Traceback (most recent call last)",
      "\u001b[0;32m<ipython-input-11-f6d4cc563f8d>\u001b[0m in \u001b[0;36m<module>\u001b[0;34m\u001b[0m\n\u001b[1;32m      8\u001b[0m \u001b[0mbounds\u001b[0m \u001b[0;34m=\u001b[0m \u001b[0;34m[\u001b[0m\u001b[0;34m(\u001b[0m\u001b[0mmin_bound\u001b[0m\u001b[0;34m[\u001b[0m\u001b[0mi\u001b[0m\u001b[0;34m]\u001b[0m\u001b[0;34m,\u001b[0m \u001b[0mmax_bound\u001b[0m\u001b[0;34m[\u001b[0m\u001b[0mi\u001b[0m\u001b[0;34m]\u001b[0m\u001b[0;34m)\u001b[0m \u001b[0;32mfor\u001b[0m \u001b[0mi\u001b[0m \u001b[0;32min\u001b[0m \u001b[0mrange\u001b[0m\u001b[0;34m(\u001b[0m\u001b[0;36m4\u001b[0m\u001b[0;34m)\u001b[0m\u001b[0;34m]\u001b[0m\u001b[0;34m\u001b[0m\u001b[0;34m\u001b[0m\u001b[0m\n\u001b[1;32m      9\u001b[0m \u001b[0;34m\u001b[0m\u001b[0m\n\u001b[0;32m---> 10\u001b[0;31m \u001b[0mres\u001b[0m \u001b[0;34m=\u001b[0m \u001b[0mdifferential_evolution\u001b[0m\u001b[0;34m(\u001b[0m\u001b[0moptim_func\u001b[0m\u001b[0;34m,\u001b[0m\u001b[0mbounds\u001b[0m\u001b[0;34m=\u001b[0m\u001b[0mbounds\u001b[0m\u001b[0;34m,\u001b[0m\u001b[0mdisp\u001b[0m\u001b[0;34m=\u001b[0m\u001b[0;32mTrue\u001b[0m\u001b[0;34m,\u001b[0m\u001b[0mworkers\u001b[0m\u001b[0;34m=\u001b[0m\u001b[0;36m8\u001b[0m\u001b[0;34m,\u001b[0m\u001b[0mseed\u001b[0m\u001b[0;34m=\u001b[0m\u001b[0;36m43\u001b[0m\u001b[0;34m,\u001b[0m\u001b[0mtol\u001b[0m\u001b[0;34m=\u001b[0m\u001b[0;36m0.001\u001b[0m\u001b[0;34m,\u001b[0m\u001b[0mpopsize\u001b[0m\u001b[0;34m=\u001b[0m\u001b[0;36m5\u001b[0m\u001b[0;34m)\u001b[0m\u001b[0;34m\u001b[0m\u001b[0;34m\u001b[0m\u001b[0m\n\u001b[0m",
      "\u001b[0;32m~/.local/lib/python3.8/site-packages/scipy/optimize/_differentialevolution.py\u001b[0m in \u001b[0;36mdifferential_evolution\u001b[0;34m(func, bounds, args, strategy, maxiter, popsize, tol, mutation, recombination, seed, callback, disp, polish, init, atol, updating, workers, constraints)\u001b[0m\n\u001b[1;32m    304\u001b[0m                                      \u001b[0mworkers\u001b[0m\u001b[0;34m=\u001b[0m\u001b[0mworkers\u001b[0m\u001b[0;34m,\u001b[0m\u001b[0;34m\u001b[0m\u001b[0;34m\u001b[0m\u001b[0m\n\u001b[1;32m    305\u001b[0m                                      constraints=constraints) as solver:\n\u001b[0;32m--> 306\u001b[0;31m         \u001b[0mret\u001b[0m \u001b[0;34m=\u001b[0m \u001b[0msolver\u001b[0m\u001b[0;34m.\u001b[0m\u001b[0msolve\u001b[0m\u001b[0;34m(\u001b[0m\u001b[0;34m)\u001b[0m\u001b[0;34m\u001b[0m\u001b[0;34m\u001b[0m\u001b[0m\n\u001b[0m\u001b[1;32m    307\u001b[0m \u001b[0;34m\u001b[0m\u001b[0m\n\u001b[1;32m    308\u001b[0m     \u001b[0;32mreturn\u001b[0m \u001b[0mret\u001b[0m\u001b[0;34m\u001b[0m\u001b[0;34m\u001b[0m\u001b[0m\n",
      "\u001b[0;32m~/.local/lib/python3.8/site-packages/scipy/optimize/_differentialevolution.py\u001b[0m in \u001b[0;36msolve\u001b[0;34m(self)\u001b[0m\n\u001b[1;32m    812\u001b[0m                                   \" infeasible solution\", UserWarning)\n\u001b[1;32m    813\u001b[0m \u001b[0;34m\u001b[0m\u001b[0m\n\u001b[0;32m--> 814\u001b[0;31m             result = minimize(self.func,\n\u001b[0m\u001b[1;32m    815\u001b[0m                               \u001b[0mnp\u001b[0m\u001b[0;34m.\u001b[0m\u001b[0mcopy\u001b[0m\u001b[0;34m(\u001b[0m\u001b[0mDE_result\u001b[0m\u001b[0;34m.\u001b[0m\u001b[0mx\u001b[0m\u001b[0;34m)\u001b[0m\u001b[0;34m,\u001b[0m\u001b[0;34m\u001b[0m\u001b[0;34m\u001b[0m\u001b[0m\n\u001b[1;32m    816\u001b[0m                               \u001b[0mmethod\u001b[0m\u001b[0;34m=\u001b[0m\u001b[0mpolish_method\u001b[0m\u001b[0;34m,\u001b[0m\u001b[0;34m\u001b[0m\u001b[0;34m\u001b[0m\u001b[0m\n",
      "\u001b[0;32m~/.local/lib/python3.8/site-packages/scipy/optimize/_minimize.py\u001b[0m in \u001b[0;36mminimize\u001b[0;34m(fun, x0, args, method, jac, hess, hessp, bounds, constraints, tol, callback, options)\u001b[0m\n\u001b[1;32m    607\u001b[0m                                   **options)\n\u001b[1;32m    608\u001b[0m     \u001b[0;32melif\u001b[0m \u001b[0mmeth\u001b[0m \u001b[0;34m==\u001b[0m \u001b[0;34m'l-bfgs-b'\u001b[0m\u001b[0;34m:\u001b[0m\u001b[0;34m\u001b[0m\u001b[0;34m\u001b[0m\u001b[0m\n\u001b[0;32m--> 609\u001b[0;31m         return _minimize_lbfgsb(fun, x0, args, jac, bounds,\n\u001b[0m\u001b[1;32m    610\u001b[0m                                 callback=callback, **options)\n\u001b[1;32m    611\u001b[0m     \u001b[0;32melif\u001b[0m \u001b[0mmeth\u001b[0m \u001b[0;34m==\u001b[0m \u001b[0;34m'tnc'\u001b[0m\u001b[0;34m:\u001b[0m\u001b[0;34m\u001b[0m\u001b[0;34m\u001b[0m\u001b[0m\n",
      "\u001b[0;32m~/.local/lib/python3.8/site-packages/scipy/optimize/lbfgsb.py\u001b[0m in \u001b[0;36m_minimize_lbfgsb\u001b[0;34m(fun, x0, args, jac, bounds, disp, maxcor, ftol, gtol, eps, maxfun, maxiter, iprint, callback, maxls, **unknown_options)\u001b[0m\n\u001b[1;32m    343\u001b[0m             \u001b[0;31m# until the completion of the current minimization iteration.\u001b[0m\u001b[0;34m\u001b[0m\u001b[0;34m\u001b[0m\u001b[0;34m\u001b[0m\u001b[0m\n\u001b[1;32m    344\u001b[0m             \u001b[0;31m# Overwrite f and g:\u001b[0m\u001b[0;34m\u001b[0m\u001b[0;34m\u001b[0m\u001b[0;34m\u001b[0m\u001b[0m\n\u001b[0;32m--> 345\u001b[0;31m             \u001b[0mf\u001b[0m\u001b[0;34m,\u001b[0m \u001b[0mg\u001b[0m \u001b[0;34m=\u001b[0m \u001b[0mfunc_and_grad\u001b[0m\u001b[0;34m(\u001b[0m\u001b[0mx\u001b[0m\u001b[0;34m)\u001b[0m\u001b[0;34m\u001b[0m\u001b[0;34m\u001b[0m\u001b[0m\n\u001b[0m\u001b[1;32m    346\u001b[0m         \u001b[0;32melif\u001b[0m \u001b[0mtask_str\u001b[0m\u001b[0;34m.\u001b[0m\u001b[0mstartswith\u001b[0m\u001b[0;34m(\u001b[0m\u001b[0;34mb'NEW_X'\u001b[0m\u001b[0;34m)\u001b[0m\u001b[0;34m:\u001b[0m\u001b[0;34m\u001b[0m\u001b[0;34m\u001b[0m\u001b[0m\n\u001b[1;32m    347\u001b[0m             \u001b[0;31m# new iteration\u001b[0m\u001b[0;34m\u001b[0m\u001b[0;34m\u001b[0m\u001b[0;34m\u001b[0m\u001b[0m\n",
      "\u001b[0;32m~/.local/lib/python3.8/site-packages/scipy/optimize/lbfgsb.py\u001b[0m in \u001b[0;36mfunc_and_grad\u001b[0;34m(x)\u001b[0m\n\u001b[1;32m    289\u001b[0m         \u001b[0;32mdef\u001b[0m \u001b[0mfunc_and_grad\u001b[0m\u001b[0;34m(\u001b[0m\u001b[0mx\u001b[0m\u001b[0;34m)\u001b[0m\u001b[0;34m:\u001b[0m\u001b[0;34m\u001b[0m\u001b[0;34m\u001b[0m\u001b[0m\n\u001b[1;32m    290\u001b[0m             \u001b[0mf\u001b[0m \u001b[0;34m=\u001b[0m \u001b[0mfun\u001b[0m\u001b[0;34m(\u001b[0m\u001b[0mx\u001b[0m\u001b[0;34m,\u001b[0m \u001b[0;34m*\u001b[0m\u001b[0margs\u001b[0m\u001b[0;34m)\u001b[0m\u001b[0;34m\u001b[0m\u001b[0;34m\u001b[0m\u001b[0m\n\u001b[0;32m--> 291\u001b[0;31m             \u001b[0mg\u001b[0m \u001b[0;34m=\u001b[0m \u001b[0m_approx_fprime_helper\u001b[0m\u001b[0;34m(\u001b[0m\u001b[0mx\u001b[0m\u001b[0;34m,\u001b[0m \u001b[0mfun\u001b[0m\u001b[0;34m,\u001b[0m \u001b[0mepsilon\u001b[0m\u001b[0;34m,\u001b[0m \u001b[0margs\u001b[0m\u001b[0;34m=\u001b[0m\u001b[0margs\u001b[0m\u001b[0;34m,\u001b[0m \u001b[0mf0\u001b[0m\u001b[0;34m=\u001b[0m\u001b[0mf\u001b[0m\u001b[0;34m)\u001b[0m\u001b[0;34m\u001b[0m\u001b[0;34m\u001b[0m\u001b[0m\n\u001b[0m\u001b[1;32m    292\u001b[0m             \u001b[0;32mreturn\u001b[0m \u001b[0mf\u001b[0m\u001b[0;34m,\u001b[0m \u001b[0mg\u001b[0m\u001b[0;34m\u001b[0m\u001b[0;34m\u001b[0m\u001b[0m\n\u001b[1;32m    293\u001b[0m     \u001b[0;32melse\u001b[0m\u001b[0;34m:\u001b[0m\u001b[0;34m\u001b[0m\u001b[0;34m\u001b[0m\u001b[0m\n",
      "\u001b[0;32m~/.local/lib/python3.8/site-packages/scipy/optimize/optimize.py\u001b[0m in \u001b[0;36m_approx_fprime_helper\u001b[0;34m(xk, f, epsilon, args, f0)\u001b[0m\n\u001b[1;32m    695\u001b[0m         \u001b[0mei\u001b[0m\u001b[0;34m[\u001b[0m\u001b[0mk\u001b[0m\u001b[0;34m]\u001b[0m \u001b[0;34m=\u001b[0m \u001b[0;36m1.0\u001b[0m\u001b[0;34m\u001b[0m\u001b[0;34m\u001b[0m\u001b[0m\n\u001b[1;32m    696\u001b[0m         \u001b[0md\u001b[0m \u001b[0;34m=\u001b[0m \u001b[0mepsilon\u001b[0m \u001b[0;34m*\u001b[0m \u001b[0mei\u001b[0m\u001b[0;34m\u001b[0m\u001b[0;34m\u001b[0m\u001b[0m\n\u001b[0;32m--> 697\u001b[0;31m         \u001b[0mdf\u001b[0m \u001b[0;34m=\u001b[0m \u001b[0;34m(\u001b[0m\u001b[0mf\u001b[0m\u001b[0;34m(\u001b[0m\u001b[0;34m*\u001b[0m\u001b[0;34m(\u001b[0m\u001b[0;34m(\u001b[0m\u001b[0mxk\u001b[0m \u001b[0;34m+\u001b[0m \u001b[0md\u001b[0m\u001b[0;34m,\u001b[0m\u001b[0;34m)\u001b[0m \u001b[0;34m+\u001b[0m \u001b[0margs\u001b[0m\u001b[0;34m)\u001b[0m\u001b[0;34m)\u001b[0m \u001b[0;34m-\u001b[0m \u001b[0mf0\u001b[0m\u001b[0;34m)\u001b[0m \u001b[0;34m/\u001b[0m \u001b[0md\u001b[0m\u001b[0;34m[\u001b[0m\u001b[0mk\u001b[0m\u001b[0;34m]\u001b[0m\u001b[0;34m\u001b[0m\u001b[0;34m\u001b[0m\u001b[0m\n\u001b[0m\u001b[1;32m    698\u001b[0m         \u001b[0;32mif\u001b[0m \u001b[0;32mnot\u001b[0m \u001b[0mnp\u001b[0m\u001b[0;34m.\u001b[0m\u001b[0misscalar\u001b[0m\u001b[0;34m(\u001b[0m\u001b[0mdf\u001b[0m\u001b[0;34m)\u001b[0m\u001b[0;34m:\u001b[0m\u001b[0;34m\u001b[0m\u001b[0;34m\u001b[0m\u001b[0m\n\u001b[1;32m    699\u001b[0m             \u001b[0;32mtry\u001b[0m\u001b[0;34m:\u001b[0m\u001b[0;34m\u001b[0m\u001b[0;34m\u001b[0m\u001b[0m\n",
      "\u001b[0;32m~/.local/lib/python3.8/site-packages/scipy/optimize/optimize.py\u001b[0m in \u001b[0;36mfunction_wrapper\u001b[0;34m(*wrapper_args)\u001b[0m\n\u001b[1;32m    325\u001b[0m     \u001b[0;32mdef\u001b[0m \u001b[0mfunction_wrapper\u001b[0m\u001b[0;34m(\u001b[0m\u001b[0;34m*\u001b[0m\u001b[0mwrapper_args\u001b[0m\u001b[0;34m)\u001b[0m\u001b[0;34m:\u001b[0m\u001b[0;34m\u001b[0m\u001b[0;34m\u001b[0m\u001b[0m\n\u001b[1;32m    326\u001b[0m         \u001b[0mncalls\u001b[0m\u001b[0;34m[\u001b[0m\u001b[0;36m0\u001b[0m\u001b[0;34m]\u001b[0m \u001b[0;34m+=\u001b[0m \u001b[0;36m1\u001b[0m\u001b[0;34m\u001b[0m\u001b[0;34m\u001b[0m\u001b[0m\n\u001b[0;32m--> 327\u001b[0;31m         \u001b[0;32mreturn\u001b[0m \u001b[0mfunction\u001b[0m\u001b[0;34m(\u001b[0m\u001b[0;34m*\u001b[0m\u001b[0;34m(\u001b[0m\u001b[0mwrapper_args\u001b[0m \u001b[0;34m+\u001b[0m \u001b[0margs\u001b[0m\u001b[0;34m)\u001b[0m\u001b[0;34m)\u001b[0m\u001b[0;34m\u001b[0m\u001b[0;34m\u001b[0m\u001b[0m\n\u001b[0m\u001b[1;32m    328\u001b[0m \u001b[0;34m\u001b[0m\u001b[0m\n\u001b[1;32m    329\u001b[0m     \u001b[0;32mreturn\u001b[0m \u001b[0mncalls\u001b[0m\u001b[0;34m,\u001b[0m \u001b[0mfunction_wrapper\u001b[0m\u001b[0;34m\u001b[0m\u001b[0;34m\u001b[0m\u001b[0m\n",
      "\u001b[0;32m~/.local/lib/python3.8/site-packages/scipy/optimize/_differentialevolution.py\u001b[0m in \u001b[0;36m__call__\u001b[0;34m(self, x)\u001b[0m\n\u001b[1;32m   1263\u001b[0m \u001b[0;34m\u001b[0m\u001b[0m\n\u001b[1;32m   1264\u001b[0m     \u001b[0;32mdef\u001b[0m \u001b[0m__call__\u001b[0m\u001b[0;34m(\u001b[0m\u001b[0mself\u001b[0m\u001b[0;34m,\u001b[0m \u001b[0mx\u001b[0m\u001b[0;34m)\u001b[0m\u001b[0;34m:\u001b[0m\u001b[0;34m\u001b[0m\u001b[0;34m\u001b[0m\u001b[0m\n\u001b[0;32m-> 1265\u001b[0;31m         \u001b[0;32mreturn\u001b[0m \u001b[0mself\u001b[0m\u001b[0;34m.\u001b[0m\u001b[0mf\u001b[0m\u001b[0;34m(\u001b[0m\u001b[0mx\u001b[0m\u001b[0;34m,\u001b[0m \u001b[0;34m*\u001b[0m\u001b[0mself\u001b[0m\u001b[0;34m.\u001b[0m\u001b[0margs\u001b[0m\u001b[0;34m)\u001b[0m\u001b[0;34m\u001b[0m\u001b[0;34m\u001b[0m\u001b[0m\n\u001b[0m\u001b[1;32m   1266\u001b[0m \u001b[0;34m\u001b[0m\u001b[0m\n\u001b[1;32m   1267\u001b[0m \u001b[0;34m\u001b[0m\u001b[0m\n",
      "\u001b[0;32m<ipython-input-11-f6d4cc563f8d>\u001b[0m in \u001b[0;36moptim_func\u001b[0;34m(smt)\u001b[0m\n\u001b[1;32m      1\u001b[0m \u001b[0;32mdef\u001b[0m \u001b[0moptim_func\u001b[0m\u001b[0;34m(\u001b[0m\u001b[0msmt\u001b[0m\u001b[0;34m)\u001b[0m\u001b[0;34m:\u001b[0m\u001b[0;34m\u001b[0m\u001b[0;34m\u001b[0m\u001b[0m\n\u001b[0;32m----> 2\u001b[0;31m     \u001b[0mtrain\u001b[0m\u001b[0;34m,\u001b[0m\u001b[0mtest\u001b[0m \u001b[0;34m=\u001b[0m \u001b[0mevaluate_agent\u001b[0m\u001b[0;34m(\u001b[0m\u001b[0mFixedThresholdAgent\u001b[0m\u001b[0;34m(\u001b[0m\u001b[0msmt\u001b[0m\u001b[0;34m.\u001b[0m\u001b[0mreshape\u001b[0m\u001b[0;34m(\u001b[0m\u001b[0;34m-\u001b[0m\u001b[0;36m1\u001b[0m\u001b[0;34m)\u001b[0m\u001b[0;34m)\u001b[0m\u001b[0;34m,\u001b[0m\u001b[0mCropEnv\u001b[0m\u001b[0;34m,\u001b[0m\u001b[0mtest_env_config\u001b[0m\u001b[0;34m)\u001b[0m\u001b[0;34m\u001b[0m\u001b[0;34m\u001b[0m\u001b[0m\n\u001b[0m\u001b[1;32m      3\u001b[0m \u001b[0;34m\u001b[0m\u001b[0m\n\u001b[1;32m      4\u001b[0m     \u001b[0;32mreturn\u001b[0m \u001b[0;34m-\u001b[0m\u001b[0mtrain\u001b[0m\u001b[0;34m\u001b[0m\u001b[0;34m\u001b[0m\u001b[0m\n\u001b[1;32m      5\u001b[0m \u001b[0;34m\u001b[0m\u001b[0m\n",
      "\u001b[0;32m~/p2dev/feb25/aquacrop-gym/aquacropgym/utils.py\u001b[0m in \u001b[0;36mevaluate_agent\u001b[0;34m(test_agent, env_class, env_default_config, stable_baselines)\u001b[0m\n\u001b[1;32m     79\u001b[0m             \u001b[0;32melse\u001b[0m\u001b[0;34m:\u001b[0m\u001b[0;34m\u001b[0m\u001b[0;34m\u001b[0m\u001b[0m\n\u001b[1;32m     80\u001b[0m                 \u001b[0maction\u001b[0m\u001b[0;34m,\u001b[0m \u001b[0m_states\u001b[0m \u001b[0;34m=\u001b[0m \u001b[0mtest_agent\u001b[0m\u001b[0;34m.\u001b[0m\u001b[0mpredict\u001b[0m\u001b[0;34m(\u001b[0m\u001b[0mstate\u001b[0m\u001b[0;34m,\u001b[0m \u001b[0mdeterministic\u001b[0m\u001b[0;34m=\u001b[0m\u001b[0;32mTrue\u001b[0m\u001b[0;34m)\u001b[0m\u001b[0;34m\u001b[0m\u001b[0;34m\u001b[0m\u001b[0m\n\u001b[0;32m---> 81\u001b[0;31m             \u001b[0mstate\u001b[0m\u001b[0;34m,\u001b[0m \u001b[0mreward\u001b[0m\u001b[0;34m,\u001b[0m \u001b[0mdone\u001b[0m\u001b[0;34m,\u001b[0m \u001b[0m_\u001b[0m \u001b[0;34m=\u001b[0m \u001b[0meval_env\u001b[0m\u001b[0;34m.\u001b[0m\u001b[0mstep\u001b[0m\u001b[0;34m(\u001b[0m\u001b[0maction\u001b[0m\u001b[0;34m)\u001b[0m\u001b[0;34m\u001b[0m\u001b[0;34m\u001b[0m\u001b[0m\n\u001b[0m\u001b[1;32m     82\u001b[0m             \u001b[0mcumulative_reward\u001b[0m \u001b[0;34m+=\u001b[0m \u001b[0mreward\u001b[0m\u001b[0;34m\u001b[0m\u001b[0;34m\u001b[0m\u001b[0m\n\u001b[1;32m     83\u001b[0m \u001b[0;34m\u001b[0m\u001b[0m\n",
      "\u001b[0;32m~/p2dev/feb25/aquacrop-gym/aquacropgym/envs.py\u001b[0m in \u001b[0;36mstep\u001b[0;34m(self, action)\u001b[0m\n\u001b[1;32m    379\u001b[0m                 \u001b[0mself\u001b[0m\u001b[0;34m.\u001b[0m\u001b[0mmodel\u001b[0m\u001b[0;34m.\u001b[0m\u001b[0mParamStruct\u001b[0m\u001b[0;34m.\u001b[0m\u001b[0mIrrMngt\u001b[0m\u001b[0;34m.\u001b[0m\u001b[0mdepth\u001b[0m \u001b[0;34m=\u001b[0m \u001b[0mdepth\u001b[0m\u001b[0;34m\u001b[0m\u001b[0;34m\u001b[0m\u001b[0m\n\u001b[1;32m    380\u001b[0m \u001b[0;34m\u001b[0m\u001b[0m\n\u001b[0;32m--> 381\u001b[0;31m                 \u001b[0mself\u001b[0m\u001b[0;34m.\u001b[0m\u001b[0mmodel\u001b[0m\u001b[0;34m.\u001b[0m\u001b[0mstep\u001b[0m\u001b[0;34m(\u001b[0m\u001b[0;34m)\u001b[0m\u001b[0;34m\u001b[0m\u001b[0;34m\u001b[0m\u001b[0m\n\u001b[0m\u001b[1;32m    382\u001b[0m \u001b[0;34m\u001b[0m\u001b[0m\n\u001b[1;32m    383\u001b[0m \u001b[0;34m\u001b[0m\u001b[0m\n",
      "\u001b[0;32m~/anaconda3/envs/rllib/lib/python3.8/site-packages/aquacrop/core.py\u001b[0m in \u001b[0;36mstep\u001b[0;34m(self, num_steps, till_termination)\u001b[0m\n\u001b[1;32m    219\u001b[0m                     \u001b[0mself\u001b[0m\u001b[0;34m.\u001b[0m\u001b[0mParamStruct\u001b[0m\u001b[0;34m,\u001b[0m\u001b[0;34m\u001b[0m\u001b[0;34m\u001b[0m\u001b[0m\n\u001b[1;32m    220\u001b[0m                     \u001b[0mself\u001b[0m\u001b[0;34m.\u001b[0m\u001b[0mOutputs\u001b[0m\u001b[0;34m,\u001b[0m\u001b[0;34m\u001b[0m\u001b[0;34m\u001b[0m\u001b[0m\n\u001b[0;32m--> 221\u001b[0;31m                 ) = self.perform_timestep()\n\u001b[0m\u001b[1;32m    222\u001b[0m \u001b[0;34m\u001b[0m\u001b[0m\n\u001b[1;32m    223\u001b[0m                 \u001b[0;32mif\u001b[0m \u001b[0mself\u001b[0m\u001b[0;34m.\u001b[0m\u001b[0mClockStruct\u001b[0m\u001b[0;34m.\u001b[0m\u001b[0mModelTermination\u001b[0m\u001b[0;34m:\u001b[0m\u001b[0;34m\u001b[0m\u001b[0;34m\u001b[0m\u001b[0m\n",
      "\u001b[0;32m~/anaconda3/envs/rllib/lib/python3.8/site-packages/aquacrop/core.py\u001b[0m in \u001b[0;36mperform_timestep\u001b[0;34m(self)\u001b[0m\n\u001b[1;32m    239\u001b[0m \u001b[0;34m\u001b[0m\u001b[0m\n\u001b[1;32m    240\u001b[0m         \u001b[0;31m#%% Get model solution %%\u001b[0m\u001b[0;34m\u001b[0m\u001b[0;34m\u001b[0m\u001b[0;34m\u001b[0m\u001b[0m\n\u001b[0;32m--> 241\u001b[0;31m         NewCond, ParamStruct, Outputs = solution(\n\u001b[0m\u001b[1;32m    242\u001b[0m             \u001b[0mself\u001b[0m\u001b[0;34m.\u001b[0m\u001b[0mInitCond\u001b[0m\u001b[0;34m,\u001b[0m \u001b[0mself\u001b[0m\u001b[0;34m.\u001b[0m\u001b[0mParamStruct\u001b[0m\u001b[0;34m,\u001b[0m \u001b[0mself\u001b[0m\u001b[0;34m.\u001b[0m\u001b[0mClockStruct\u001b[0m\u001b[0;34m,\u001b[0m \u001b[0mweather_step\u001b[0m\u001b[0;34m,\u001b[0m \u001b[0mself\u001b[0m\u001b[0;34m.\u001b[0m\u001b[0mOutputs\u001b[0m\u001b[0;34m\u001b[0m\u001b[0;34m\u001b[0m\u001b[0m\n\u001b[1;32m    243\u001b[0m         )\n",
      "\u001b[0;32m~/anaconda3/envs/rllib/lib/python3.8/site-packages/aquacrop/timestep.py\u001b[0m in \u001b[0;36msolution\u001b[0;34m(InitCond, ParamStruct, ClockStruct, weather_step, Outputs)\u001b[0m\n\u001b[1;32m    308\u001b[0m \u001b[0;34m\u001b[0m\u001b[0m\n\u001b[1;32m    309\u001b[0m     \u001b[0;31m# 13. Crop transpiration\u001b[0m\u001b[0;34m\u001b[0m\u001b[0;34m\u001b[0m\u001b[0;34m\u001b[0m\u001b[0m\n\u001b[0;32m--> 310\u001b[0;31m     Tr, TrPot_NS, TrPot, NewCond, IrrNet = transpiration(\n\u001b[0m\u001b[1;32m    311\u001b[0m         \u001b[0mSoil\u001b[0m\u001b[0;34m.\u001b[0m\u001b[0mProfile\u001b[0m\u001b[0;34m,\u001b[0m\u001b[0;34m\u001b[0m\u001b[0;34m\u001b[0m\u001b[0m\n\u001b[1;32m    312\u001b[0m         \u001b[0mSoil\u001b[0m\u001b[0;34m.\u001b[0m\u001b[0mnComp\u001b[0m\u001b[0;34m,\u001b[0m\u001b[0;34m\u001b[0m\u001b[0;34m\u001b[0m\u001b[0m\n",
      "\u001b[0;32m~/anaconda3/envs/rllib/lib/python3.8/site-packages/aquacrop/solution.py\u001b[0m in \u001b[0;36mtranspiration\u001b[0;34m(Soil_Profile, Soil_nComp, Soil_zTop, Crop, IrrMngt_IrrMethod, IrrMngt_NetIrrSMT, InitCond, Et0, CO2, GrowingSeason, GDD)\u001b[0m\n\u001b[1;32m   3667\u001b[0m                     \u001b[0mSink\u001b[0m \u001b[0;34m=\u001b[0m \u001b[0mKsComp\u001b[0m \u001b[0;34m*\u001b[0m \u001b[0mSxComp\u001b[0m\u001b[0;34m[\u001b[0m\u001b[0mcomp\u001b[0m\u001b[0;34m]\u001b[0m \u001b[0;34m*\u001b[0m \u001b[0mRootFact\u001b[0m\u001b[0;34m[\u001b[0m\u001b[0mcomp\u001b[0m\u001b[0;34m]\u001b[0m\u001b[0;34m\u001b[0m\u001b[0;34m\u001b[0m\u001b[0m\n\u001b[1;32m   3668\u001b[0m                 \u001b[0;32melse\u001b[0m\u001b[0;34m:\u001b[0m\u001b[0;34m\u001b[0m\u001b[0;34m\u001b[0m\u001b[0m\n\u001b[0;32m-> 3669\u001b[0;31m                     \u001b[0mSink\u001b[0m \u001b[0;34m=\u001b[0m \u001b[0mmin\u001b[0m\u001b[0;34m(\u001b[0m\u001b[0mKsComp\u001b[0m\u001b[0;34m,\u001b[0m \u001b[0mAerComp\u001b[0m\u001b[0;34m)\u001b[0m \u001b[0;34m*\u001b[0m \u001b[0mSxComp\u001b[0m\u001b[0;34m[\u001b[0m\u001b[0mcomp\u001b[0m\u001b[0;34m]\u001b[0m \u001b[0;34m*\u001b[0m \u001b[0mRootFact\u001b[0m\u001b[0;34m[\u001b[0m\u001b[0mcomp\u001b[0m\u001b[0;34m]\u001b[0m\u001b[0;34m\u001b[0m\u001b[0;34m\u001b[0m\u001b[0m\n\u001b[0m\u001b[1;32m   3670\u001b[0m \u001b[0;34m\u001b[0m\u001b[0m\n\u001b[1;32m   3671\u001b[0m             \u001b[0;31m# Limit extraction to demand\u001b[0m\u001b[0;34m\u001b[0m\u001b[0;34m\u001b[0m\u001b[0;34m\u001b[0m\u001b[0m\n",
      "\u001b[0;31mKeyboardInterrupt\u001b[0m: "
     ]
    }
   ],
   "source": [
    "def optim_func(smt):\n",
    "    train,test = evaluate_agent(FixedThresholdAgent(smt.reshape(-1)),CropEnv,test_env_config)\n",
    "    \n",
    "    return -train\n",
    "\n",
    "max_bound = np.ones(4)\n",
    "min_bound = np.zeros(4)\n",
    "bounds = [(min_bound[i], max_bound[i]) for i in range(4)]\n",
    "\n",
    "res = differential_evolution(optim_func,bounds=bounds,disp=True,workers=8,seed=43,tol=0.001,popsize=5)"
   ]
  },
  {
   "cell_type": "code",
   "execution_count": 9,
   "metadata": {},
   "outputs": [
    {
     "data": {
      "text/plain": [
       "(319.338429459985, 317.8306846069444)"
      ]
     },
     "execution_count": 9,
     "metadata": {},
     "output_type": "execute_result"
    }
   ],
   "source": [
    "evaluate_agent(FixedThresholdAgent(res.x),CropEnv,test_env_config)"
   ]
  },
  {
   "cell_type": "code",
   "execution_count": null,
   "metadata": {},
   "outputs": [],
   "source": []
  },
  {
   "cell_type": "code",
   "execution_count": 7,
   "metadata": {},
   "outputs": [],
   "source": [
    "wdf=gendf[gendf.simyear==4].drop('simyear',axis=1)"
   ]
  },
  {
   "cell_type": "code",
   "execution_count": 8,
   "metadata": {},
   "outputs": [
    {
     "data": {
      "text/html": [
       "<div>\n",
       "<style scoped>\n",
       "    .dataframe tbody tr th:only-of-type {\n",
       "        vertical-align: middle;\n",
       "    }\n",
       "\n",
       "    .dataframe tbody tr th {\n",
       "        vertical-align: top;\n",
       "    }\n",
       "\n",
       "    .dataframe thead th {\n",
       "        text-align: right;\n",
       "    }\n",
       "</style>\n",
       "<table border=\"1\" class=\"dataframe\">\n",
       "  <thead>\n",
       "    <tr style=\"text-align: right;\">\n",
       "      <th></th>\n",
       "      <th>Season</th>\n",
       "      <th>Crop Type</th>\n",
       "      <th>Harvest Date (YYYY/MM/DD)</th>\n",
       "      <th>Harvest Date (Step)</th>\n",
       "      <th>Yield (tonne/ha)</th>\n",
       "      <th>Seasonal irrigation (mm)</th>\n",
       "    </tr>\n",
       "  </thead>\n",
       "  <tbody>\n",
       "    <tr>\n",
       "      <th>0</th>\n",
       "      <td>0</td>\n",
       "      <td>Tomato</td>\n",
       "      <td>1995-08-19</td>\n",
       "      <td>109</td>\n",
       "      <td>7.652106</td>\n",
       "      <td>756.363735</td>\n",
       "    </tr>\n",
       "  </tbody>\n",
       "</table>\n",
       "</div>"
      ],
      "text/plain": [
       "  Season Crop Type Harvest Date (YYYY/MM/DD) Harvest Date (Step)  \\\n",
       "0      0    Tomato                1995-08-19                 109   \n",
       "\n",
       "   Yield (tonne/ha)  Seasonal irrigation (mm)  \n",
       "0          7.652106                756.363735  "
      ]
     },
     "execution_count": 8,
     "metadata": {},
     "output_type": "execute_result"
    }
   ],
   "source": [
    "def run_model(smts,max_irr_season,year1,year2):\n",
    "    \"\"\"\n",
    "    funciton to run model and return results for given set of soil moisture targets\n",
    "    \"\"\"\n",
    "\n",
    "    maize = CropClass('Tomato',PlantingDate='05/1') # define crop\n",
    "    loam = SoilClass('Loam') # define soil\n",
    "    init_wc = InitWCClass(wc_type='Pct',value=[70]) # define initial soil water conditions\n",
    "\n",
    "    irrmngt = IrrMngtClass(IrrMethod=1,SMT=smts,MaxIrrSeason=max_irr_season) # define irrigation management\n",
    "\n",
    "    # create and run model\n",
    "    model = AquaCropModel(f'{year1}/05/1',f'{year2}/12/31',wdf,loam,maize,\n",
    "                          IrrMngt=irrmngt,InitWC=init_wc)\n",
    "    model.initialize()\n",
    "    model.step(till_termination=True)\n",
    "    return model.Outputs.Final\n",
    "\n",
    "run_model([70]*4,10_000,1995,1995)"
   ]
  },
  {
   "cell_type": "code",
   "execution_count": 17,
   "metadata": {},
   "outputs": [
    {
     "data": {
      "text/plain": [
       "619.65"
      ]
     },
     "execution_count": 17,
     "metadata": {},
     "output_type": "execute_result"
    }
   ],
   "source": []
  },
  {
   "cell_type": "code",
   "execution_count": 7,
   "metadata": {},
   "outputs": [
    {
     "data": {
      "text/plain": [
       "(270.9868053314722, 269.8517950217337)"
      ]
     },
     "execution_count": 7,
     "metadata": {},
     "output_type": "execute_result"
    }
   ],
   "source": [
    "evaluate_agent(FixedThresholdAgent(np.array([0.69892958, 0.56825608, 0.35286359, 0.11124398])),CropEnv,test_env_config)"
   ]
  },
  {
   "cell_type": "code",
   "execution_count": 8,
   "metadata": {},
   "outputs": [
    {
     "data": {
      "text/plain": [
       "(4.046373497676493, 4.514327303782176)"
      ]
     },
     "execution_count": 8,
     "metadata": {},
     "output_type": "execute_result"
    }
   ],
   "source": [
    "evaluate_agent(FixedThresholdAgent(np.array([0.]*4)),CropEnv,test_env_config)"
   ]
  },
  {
   "cell_type": "code",
   "execution_count": 9,
   "metadata": {},
   "outputs": [],
   "source": [
    "def optim_func(smt):\n",
    "    train,test = evaluate_agent(FixedThresholdAgent(smt.reshape(-1)),CropEnv,test_env_config)\n",
    "    \n",
    "    return -train"
   ]
  },
  {
   "cell_type": "code",
   "execution_count": 10,
   "metadata": {
    "colab": {
     "base_uri": "https://localhost:8080/",
     "height": 287
    },
    "id": "K1Wg3fqjbytQ",
    "outputId": "32b53b95-6fb8-414d-9f9d-723f19a9baad"
   },
   "outputs": [
    {
     "name": "stderr",
     "output_type": "stream",
     "text": [
      "/home/mbyx3tk2/.local/lib/python3.8/site-packages/scipy/optimize/_differentialevolution.py:492: UserWarning: differential_evolution: the 'workers' keyword has overridden updating='immediate' to updating='deferred'\n",
      "  warnings.warn(\"differential_evolution: the 'workers' keyword has\"\n"
     ]
    },
    {
     "name": "stdout",
     "output_type": "stream",
     "text": [
      "differential_evolution step 1: f(x)= -316.315\n",
      "differential_evolution step 2: f(x)= -318.177\n",
      "differential_evolution step 3: f(x)= -318.177\n",
      "differential_evolution step 4: f(x)= -318.177\n",
      "differential_evolution step 5: f(x)= -318.177\n",
      "differential_evolution step 6: f(x)= -318.177\n",
      "differential_evolution step 7: f(x)= -318.177\n",
      "differential_evolution step 8: f(x)= -318.681\n",
      "differential_evolution step 9: f(x)= -318.755\n"
     ]
    }
   ],
   "source": [
    "max_bound = np.ones(4)\n",
    "min_bound = np.zeros(4)\n",
    "bounds = [(min_bound[i], max_bound[i]) for i in range(4)]\n",
    "\n",
    "res = differential_evolution(optim_func,bounds=bounds,disp=True,workers=8,seed=43)"
   ]
  },
  {
   "cell_type": "code",
   "execution_count": 11,
   "metadata": {},
   "outputs": [
    {
     "data": {
      "text/plain": [
       "     fun: -318.7546385264889\n",
       " message: 'Optimization terminated successfully.'\n",
       "    nfev: 605\n",
       "     nit: 9\n",
       " success: True\n",
       "       x: array([0.64511612, 0.65667727, 0.79650656, 0.04541987])"
      ]
     },
     "execution_count": 11,
     "metadata": {},
     "output_type": "execute_result"
    }
   ],
   "source": [
    "res"
   ]
  },
  {
   "cell_type": "code",
   "execution_count": 12,
   "metadata": {},
   "outputs": [
    {
     "data": {
      "text/plain": [
       "(318.7546385264889, 316.29092174163)"
      ]
     },
     "execution_count": 12,
     "metadata": {},
     "output_type": "execute_result"
    }
   ],
   "source": [
    "evaluate_agent(FixedThresholdAgent(res.x),CropEnv,test_env_config)"
   ]
  },
  {
   "cell_type": "code",
   "execution_count": 13,
   "metadata": {},
   "outputs": [],
   "source": [
    "from aquacropgym.utils import get_mean_std"
   ]
  },
  {
   "cell_type": "code",
   "execution_count": 14,
   "metadata": {},
   "outputs": [
    {
     "name": "stdout",
     "output_type": "stream",
     "text": [
      "318.7546385264889\n",
      "(1120, 15)\n"
     ]
    },
    {
     "data": {
      "text/plain": [
       "(array([1.52500000e+01, 6.50000000e+00, 3.15283656e-01, 6.03125000e+01,\n",
       "        3.07615387e+02, 5.10523260e-01, 4.98117859e+02, 1.24298476e-01,\n",
       "        6.86775160e+00, 1.21339521e+01, 4.01664978e+02, 1.87500000e-01,\n",
       "        3.12500000e-01, 2.50000000e-01, 2.50000000e-01], dtype=float32),\n",
       " array([8.2120342e+00, 1.1180340e+00, 1.6626830e-01, 3.1970348e+01,\n",
       "        2.0187964e+02, 2.8188160e-01, 4.2335272e+02, 5.5605030e-01,\n",
       "        6.5448678e-01, 1.5673932e+01, 2.2597920e+02, 3.9031237e-01,\n",
       "        4.6351239e-01, 4.3301269e-01, 4.3301269e-01], dtype=float32))"
      ]
     },
     "execution_count": 14,
     "metadata": {},
     "output_type": "execute_result"
    }
   ],
   "source": [
    "get_mean_std(res.x,CropEnv,test_env_config)"
   ]
  },
  {
   "cell_type": "code",
   "execution_count": null,
   "metadata": {},
   "outputs": [],
   "source": []
  }
 ],
 "metadata": {
  "colab": {
   "name": "Paper 2 adaptable smts.ipynb",
   "provenance": [],
   "toc_visible": true
  },
  "interpreter": {
   "hash": "e3e3ddf753151e8447fc28cb1f16d0a9022e11a16370ccf5e7398f6ab2bb1919"
  },
  "kernelspec": {
   "display_name": "Python 3.8.12 64-bit ('rllib': conda)",
   "name": "python3"
  },
  "language_info": {
   "name": "python",
   "version": ""
  }
 },
 "nbformat": 4,
 "nbformat_minor": 4
}