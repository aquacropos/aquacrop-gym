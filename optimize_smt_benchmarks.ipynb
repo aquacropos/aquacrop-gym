{
 "cells": [
  {
   "cell_type": "markdown",
   "metadata": {
    "id": "o51TohvwrsMa"
   },
   "source": [
    "## Irrigation strategies based on optimized soil-moisture thresholds\n"
   ]
  },
  {
   "cell_type": "code",
   "execution_count": 1,
   "metadata": {
    "colab": {
     "base_uri": "https://localhost:8080/"
    },
    "id": "K4jRhbXPd_ob",
    "outputId": "327575d3-2be7-41de-fce0-ade1993df590"
   },
   "outputs": [],
   "source": [
    "# !pip install aquacrop"
   ]
  },
  {
   "cell_type": "markdown",
   "metadata": {},
   "source": [
    "## Imports"
   ]
  },
  {
   "cell_type": "code",
   "execution_count": 1,
   "metadata": {
    "id": "GlzEnDpxeCNa"
   },
   "outputs": [],
   "source": [
    "from aquacrop.classes import *\n",
    "from aquacrop.core import *\n",
    "from aquacrop.lars import *\n",
    "\n",
    "from scipy.optimize import differential_evolution\n",
    "import numpy as np\n",
    "from functools import partial\n",
    "import pandas as pd\n",
    "\n",
    "from aquacropgym.envs import CropEnv, nebraska_maize_config\n",
    "from aquacropgym.utils import evaluate_agent\n",
    "from aquacropgym.utils import calc_eto_faopm\n"
   ]
  },
  {
   "cell_type": "markdown",
   "metadata": {},
   "source": [
    "## Define Non-DRL agent that irrigates based on fixed set of soil-moisture thresholds"
   ]
  },
  {
   "cell_type": "code",
   "execution_count": 2,
   "metadata": {},
   "outputs": [],
   "source": [
    "class FixedThresholdAgent():\n",
    "    def __init__(self,smts):\n",
    "        self.smts=smts # gievn as fraction\n",
    "\n",
    "    \n",
    "    def compute_single_action(self,obs,explore=False):\n",
    "        \"\"\"\n",
    "        pass soil-moisture thresholds to env\n",
    "        expects smts between -1, +1 so need to scale\n",
    "        \"\"\"\n",
    "        return (self.smts*2)-1"
   ]
  },
  {
   "cell_type": "markdown",
   "metadata": {},
   "source": [
    "## Champion - Maize example"
   ]
  },
  {
   "cell_type": "markdown",
   "metadata": {},
   "source": [
    "### bounds for optimization"
   ]
  },
  {
   "cell_type": "code",
   "execution_count": 3,
   "metadata": {},
   "outputs": [],
   "source": [
    "max_bound = np.ones(4)\n",
    "min_bound = np.zeros(4)\n",
    "bounds = [(min_bound[i], max_bound[i]) for i in range(4)]\n"
   ]
  },
  {
   "cell_type": "markdown",
   "metadata": {},
   "source": [
    "### import weather data"
   ]
  },
  {
   "cell_type": "code",
   "execution_count": 4,
   "metadata": {},
   "outputs": [],
   "source": [
    "gendf=calc_eto_faopm('data/CPWG.dat',1995,40.4,1072,True,[\"simyear\",\"jday\",\"minTemp\",\"maxTemp\",\"precip\",\"rad\"])"
   ]
  },
  {
   "cell_type": "markdown",
   "metadata": {},
   "source": [
    "### crop simulation config options"
   ]
  },
  {
   "cell_type": "code",
   "execution_count": 5,
   "metadata": {},
   "outputs": [],
   "source": [
    "test_env_config=nebraska_maize_config.copy() # get default config dictionary\n",
    "test_env_config['gendf']=gendf # set weather data\n",
    "test_env_config['normalize_obs']=False # normalize input observation (with a pre calculated mean and standard deviation)\n",
    "test_env_config['include_rain']=True # include rainfall within weather data\n",
    "test_env_config['observation_set']='default' # set of variables to pass to agent\n",
    "test_env_config['max_irr']=25 # max irrigation that can be applied in a single irrigation event\n",
    "test_env_config['action_set']='smt4' # action set\n",
    "test_env_config['days_to_irr']=7 # does not matter for fixed dmt agent\n",
    "test_env_config['max_irr_season']=10_000 # max amount of irrigation (mm/ha) that can be applied in a single season\n",
    "test_env_config['evaluation_run']=True\n"
   ]
  },
  {
   "cell_type": "markdown",
   "metadata": {},
   "source": [
    "### test evaluation function\n",
    "\n",
    "returns profit over train and test years"
   ]
  },
  {
   "cell_type": "code",
   "execution_count": 6,
   "metadata": {},
   "outputs": [
    {
     "data": {
      "text/plain": [
       "(282.3254644178013, 288.4700266576486)"
      ]
     },
     "execution_count": 6,
     "metadata": {},
     "output_type": "execute_result"
    }
   ],
   "source": [
    "evaluate_agent(FixedThresholdAgent(np.array([0.7]*4)),CropEnv,test_env_config)"
   ]
  },
  {
   "cell_type": "markdown",
   "metadata": {},
   "source": [
    "### fitness function to optimize. evaluates SMT strategy and return train profits to maximise"
   ]
  },
  {
   "cell_type": "code",
   "execution_count": 8,
   "metadata": {},
   "outputs": [],
   "source": [
    "def optim_func(smt):\n",
    "    train,test = evaluate_agent(FixedThresholdAgent(smt.reshape(-1)),CropEnv,test_env_config)\n",
    "    \n",
    "    return -train"
   ]
  },
  {
   "cell_type": "markdown",
   "metadata": {},
   "source": [
    "### optimize smts\n",
    "\n",
    "With access to more compute you will want to increase workers, popsize, maxiter, or decrease tol."
   ]
  },
  {
   "cell_type": "code",
   "execution_count": 9,
   "metadata": {},
   "outputs": [
    {
     "name": "stdout",
     "output_type": "stream",
     "text": [
      "differential_evolution step 1: f(x)= -465.514\n",
      "differential_evolution step 2: f(x)= -501.72\n"
     ]
    }
   ],
   "source": [
    "max_bound = np.ones(4)\n",
    "min_bound = np.zeros(4)\n",
    "bounds = [(min_bound[i], max_bound[i]) for i in range(4)]\n",
    "\n",
    "res = differential_evolution(optim_func,bounds=bounds,disp=True,workers=1,seed=42,tol=0.1,popsize=5,maxiter=2)"
   ]
  },
  {
   "cell_type": "code",
   "execution_count": 11,
   "metadata": {},
   "outputs": [
    {
     "data": {
      "text/plain": [
       "     fun: -501.72038719127033\n",
       " message: 'Maximum number of iterations has been exceeded.'\n",
       "    nfev: 65\n",
       "     nit: 2\n",
       " success: False\n",
       "       x: array([0.69242557, 0.27945337, 0.35216182, 0.13150515])"
      ]
     },
     "execution_count": 11,
     "metadata": {},
     "output_type": "execute_result"
    }
   ],
   "source": [
    "res"
   ]
  },
  {
   "cell_type": "markdown",
   "metadata": {},
   "source": [
    "### Get train and test year performance of optimized smts"
   ]
  },
  {
   "cell_type": "code",
   "execution_count": 12,
   "metadata": {},
   "outputs": [
    {
     "data": {
      "text/plain": [
       "(501.72038719127033, 517.3620008682144)"
      ]
     },
     "execution_count": 12,
     "metadata": {},
     "output_type": "execute_result"
    }
   ],
   "source": [
    "evaluate_agent(FixedThresholdAgent(res.x.reshape(-1)),CropEnv,test_env_config)"
   ]
  },
  {
   "cell_type": "markdown",
   "metadata": {},
   "source": [
    "### More thourough optimization\n",
    "\n",
    "By increasing optimization params to `workers=8,tol=0.01,popsize=5,maxiter=1000`\n",
    "as done for the article, the optimal smts were found to be `[0.69892958, 0.56825608, 0.35286359, 0.11124398]`"
   ]
  },
  {
   "cell_type": "code",
   "execution_count": 13,
   "metadata": {},
   "outputs": [
    {
     "data": {
      "text/plain": [
       "(513.0584847087756, 521.3771423907657)"
      ]
     },
     "execution_count": 13,
     "metadata": {},
     "output_type": "execute_result"
    }
   ],
   "source": [
    "evaluate_agent(FixedThresholdAgent(np.array([0.69892958, 0.56825608, 0.35286359, 0.11124398])),CropEnv,test_env_config)"
   ]
  },
  {
   "cell_type": "markdown",
   "metadata": {},
   "source": []
  }
 ],
 "metadata": {
  "colab": {
   "name": "Paper 2 adaptable smts.ipynb",
   "provenance": [],
   "toc_visible": true
  },
  "interpreter": {
   "hash": "e3e3ddf753151e8447fc28cb1f16d0a9022e11a16370ccf5e7398f6ab2bb1919"
  },
  "kernelspec": {
   "display_name": "gymenv",
   "language": "python",
   "name": "gymenv"
  },
  "language_info": {
   "codemirror_mode": {
    "name": "ipython",
    "version": 3
   },
   "file_extension": ".py",
   "mimetype": "text/x-python",
   "name": "python",
   "nbconvert_exporter": "python",
   "pygments_lexer": "ipython3",
   "version": "3.8.10"
  }
 },
 "nbformat": 4,
 "nbformat_minor": 4
}
